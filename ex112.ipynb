{
 "cells": [
  {
   "cell_type": "code",
   "execution_count": null,
   "metadata": {},
   "outputs": [],
   "source": [
    "# Desafio 112 - Dentro do pacote UtilidadesCev que criamos no desafio 111, temos um módulo chamado dado. Crie uma função chamada leiadinheiro() que seja capaz de funcionar como a função input(), mas com uma validação de dados para aceitar apenas valores que sejam monetarios."
   ]
  },
  {
   "cell_type": "code",
   "execution_count": 29,
   "metadata": {},
   "outputs": [
    {
     "name": "stdout",
     "output_type": "stream",
     "text": [
      "[6, 9, 8]\n",
      "[5, 4, 8]\n",
      "[4, 6, 6]\n",
      "\n",
      "[6, 9, 8]\n",
      "[5, 4, 8]\n",
      "[4, 6, 6]\n"
     ]
    }
   ],
   "source": [
    "# criando uma matriz 3x3\n",
    "from random import randint\n",
    "\n",
    "matriz1 = [randint(1,9)for x in range(3)]\n",
    "matriz2 = [randint(1,9)for x in range(3)]\n",
    "matriz3 = [randint(1,9)for x in range(3)]\n",
    "\n",
    "matrix3x3 = [matriz1, matriz2, matriz3]\n",
    "\n",
    "for linha in matrix3x3:\n",
    "    print(linha)\n",
    "    \n",
    "print()\n",
    "    \n",
    "for linha in matrix3x3:\n",
    "    print(linha)\n",
    "    \n"
   ]
  },
  {
   "cell_type": "code",
   "execution_count": 30,
   "metadata": {},
   "outputs": [
    {
     "name": "stdout",
     "output_type": "stream",
     "text": [
      "[10, 10, 10]\n",
      "[10, 10, 10]\n",
      "[10, 10, 10]\n"
     ]
    }
   ],
   "source": [
    "# Duas matrizes de exemplo 3x3\n",
    "matriz1 = [\n",
    "    [1, 2, 3],\n",
    "    [4, 5, 6],\n",
    "    [7, 8, 9]\n",
    "]\n",
    "\n",
    "matriz2 = [\n",
    "    [9, 8, 7],\n",
    "    [6, 5, 4],\n",
    "    [3, 2, 1]\n",
    "]\n",
    "\n",
    "# Inicializa uma matriz para armazenar a soma\n",
    "soma_matrizes = []\n",
    "\n",
    "# Verifica se as matrizes têm o mesmo tamanho\n",
    "if len(matriz1) == len(matriz2) and len(matriz1[0]) == len(matriz2[0]):\n",
    "    # Realiza a soma elemento por elemento e armazena na matriz de soma\n",
    "    for i in range(len(matriz1)):\n",
    "        linha_soma = []\n",
    "        for j in range(len(matriz1[0])):\n",
    "            linha_soma.append(matriz1[i][j] + matriz2[i][j])\n",
    "        soma_matrizes.append(linha_soma)\n",
    "\n",
    "    # Exibe a matriz resultante\n",
    "    for linha in soma_matrizes:\n",
    "        print(linha)\n",
    "else:\n",
    "    print(\"As matrizes têm tamanhos diferentes e não podem ser somadas.\")\n"
   ]
  }
 ],
 "metadata": {
  "kernelspec": {
   "display_name": "Python 3",
   "language": "python",
   "name": "python3"
  },
  "language_info": {
   "codemirror_mode": {
    "name": "ipython",
    "version": 3
   },
   "file_extension": ".py",
   "mimetype": "text/x-python",
   "name": "python",
   "nbconvert_exporter": "python",
   "pygments_lexer": "ipython3",
   "version": "3.12.0"
  }
 },
 "nbformat": 4,
 "nbformat_minor": 2
}
