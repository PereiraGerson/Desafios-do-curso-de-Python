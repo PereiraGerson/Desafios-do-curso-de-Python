{
 "cells": [
  {
   "cell_type": "code",
   "execution_count": null,
   "metadata": {},
   "outputs": [],
   "source": [
    "# Desafio 107 - Crie um módulo chamado moedas.py que tenha as funções incorporadas aumentar(), diminuir(), dobro() e metade(). \n",
    "# faça também um programa que importe esses módulos e use algumas dessas funções."
   ]
  },
  {
   "cell_type": "code",
   "execution_count": 3,
   "metadata": {},
   "outputs": [
    {
     "name": "stdout",
     "output_type": "stream",
     "text": [
      "A metade de R$ 22.0 é R$ 11.0\n",
      "Diminuindo R$ 10 do preço, o produto vai custar 12.0\n"
     ]
    }
   ],
   "source": [
    "import moeda\n",
    "\n",
    "preço = float(input('Digite um preço: '))\n",
    "\n",
    "print(f'A metade de R$ {preço} é R$ {moeda.metade(preço, 2)}')\n",
    "\n",
    "print(f'Diminuindo R$ 10 do preço, o produto vai custar {moeda.diminuir(preço, 10)}')\n",
    "\n"
   ]
  }
 ],
 "metadata": {
  "kernelspec": {
   "display_name": "Python 3",
   "language": "python",
   "name": "python3"
  },
  "language_info": {
   "codemirror_mode": {
    "name": "ipython",
    "version": 3
   },
   "file_extension": ".py",
   "mimetype": "text/x-python",
   "name": "python",
   "nbconvert_exporter": "python",
   "pygments_lexer": "ipython3",
   "version": "3.12.0"
  }
 },
 "nbformat": 4,
 "nbformat_minor": 2
}
