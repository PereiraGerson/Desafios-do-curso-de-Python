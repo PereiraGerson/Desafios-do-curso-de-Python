{
 "cells": [
  {
   "cell_type": "code",
   "execution_count": null,
   "metadata": {},
   "outputs": [],
   "source": [
    "# Desafio 90 - Faça um programa que leia o nome e a média de um aluno, guardando também a situação(aprovrado ou reprovado) em um dicionário. No final, mostre o conteudo da estrutura na tela.\""
   ]
  }
 ],
 "metadata": {
  "language_info": {
   "name": "python"
  }
 },
 "nbformat": 4,
 "nbformat_minor": 2
}
