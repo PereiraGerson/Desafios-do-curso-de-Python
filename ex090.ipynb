{
 "cells": [
  {
   "cell_type": "code",
   "execution_count": null,
   "metadata": {},
   "outputs": [],
   "source": [
    "# Desafio 90 - Faça um programa que leia o nome e a média de um aluno, guardando também a situação(aprovrado ou reprovado) em um dicionário. No final, mostre o conteudo da estrutura na tela.\""
   ]
  },
  {
   "cell_type": "code",
   "execution_count": 202,
   "metadata": {},
   "outputs": [
    {
     "name": "stdout",
     "output_type": "stream",
     "text": [
      "{'nome': ['Gerson', 'Geovania', 'Joel', 'Ester', 'Abel', 'Cauã'], 'média': [8.0, 6.0, 5.0, 4.0, 3.4, 2.0], 'situação': ['APROVADO', 'recuperação', 'recuperação', 'reprovado', 'reprovado', 'reprovado']}\n"
     ]
    }
   ],
   "source": [
    "nome = []\n",
    "media = []\n",
    "situação = []\n",
    "while True:\n",
    "    nome.append(str(input('Digite o nome do aluno: ')))\n",
    "    nota = float(input('Digite a média: '))\n",
    "    media.append(nota)\n",
    "    if nota < 4.99:\n",
    "        situação.append('reprovado')\n",
    "    elif nota <= 7.00:\n",
    "        situação.append('recuperação')\n",
    "    else:\n",
    "        situação.append('APROVADO')\n",
    "    continuando = str(input('Desaja continuar:[S/N]')).upper().strip()[0]\n",
    "    if continuando == 'N':\n",
    "        break\n",
    "    \n",
    "dicionario = {'nome': nome, 'média' : media, 'situação' : situação}\n",
    "print(dicionario)\n"
   ]
  },
  {
   "cell_type": "code",
   "execution_count": 203,
   "metadata": {},
   "outputs": [
    {
     "name": "stdout",
     "output_type": "stream",
     "text": [
      "~~~~~~~~~~~~~~~~~~~~\n",
      "TABELA DE ALUNOS\n",
      "~~~~~~~~~~~~~~~~~~~~\n",
      "0 Gerson\n",
      "1 Geovania\n",
      "2 Joel\n",
      "3 Ester\n",
      "4 Abel\n",
      "5 Cauã\n",
      "~~~~~~~~~~~~~~~~~~~~\n"
     ]
    },
    {
     "name": "stdout",
     "output_type": "stream",
     "text": [
      "Você selecionou Cauã\n",
      "O aluno(a) Cauã teve uma média de 2.0 e a situação é reprovado\n",
      "\n"
     ]
    }
   ],
   "source": [
    "contador = 0\n",
    "print('~~'*10)\n",
    "print('TABELA DE ALUNOS')\n",
    "print('~~'*10)\n",
    "for y in dicionario['nome']:\n",
    "    print(contador ,y)\n",
    "    contador += 1\n",
    "print('~~'*10)\n",
    "\n",
    "escolha = int(input(f'Digite um número referente ao aluno: '))\n",
    "print(f'Você selecionou {dicionario['nome'][escolha]}')\n",
    "print(f'O aluno(a) {dicionario[\"nome\"][escolha]} teve uma média de {dicionario[\"média\"][escolha]} e a situação é {dicionario[\"situação\"][escolha]}')\n",
    "print()\n"
   ]
  },
  {
   "cell_type": "code",
   "execution_count": 20,
   "metadata": {},
   "outputs": [
    {
     "name": "stdout",
     "output_type": "stream",
     "text": [
      "dict_items([('nome', ['Gerson', 'Geovania', 'Joel']), ('sexo', ['M', 'F', 'M'])])\n"
     ]
    }
   ],
   "source": [
    "aluno = {}\n",
    "aluno['nome'] = ['Gerson']\n",
    "aluno['nome'].append('Geovania')\n",
    "aluno['nome'].append('Joel')\n",
    "aluno['sexo'] = ['M']\n",
    "aluno['sexo'].append('F')\n",
    "aluno['sexo'].append('M')\n",
    "print(aluno.items())"
   ]
  }
 ],
 "metadata": {
  "kernelspec": {
   "display_name": "Python 3",
   "language": "python",
   "name": "python3"
  },
  "language_info": {
   "codemirror_mode": {
    "name": "ipython",
    "version": 3
   },
   "file_extension": ".py",
   "mimetype": "text/x-python",
   "name": "python",
   "nbconvert_exporter": "python",
   "pygments_lexer": "ipython3",
   "version": "3.12.0"
  }
 },
 "nbformat": 4,
 "nbformat_minor": 2
}
