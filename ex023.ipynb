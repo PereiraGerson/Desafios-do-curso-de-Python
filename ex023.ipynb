{
 "cells": [
  {
   "cell_type": "code",
   "execution_count": 1,
   "metadata": {},
   "outputs": [],
   "source": [
    "# Desafio 023 - Faça um programa que leia um número de 0 a 9999 e mostre na tela cada um dos números separados por unidade, dezena, centena e milhar."
   ]
  },
  {
   "cell_type": "code",
   "execution_count": 19,
   "metadata": {},
   "outputs": [
    {
     "name": "stdout",
     "output_type": "stream",
     "text": [
      "Unidade 5\n",
      "Dezena 4\n",
      "Centena 3\n",
      "Milhar 2\n"
     ]
    }
   ],
   "source": [
    "numero = int(input('Digite alguns números: '))\n",
    "\n",
    "unidade = numero // 1 % 10\n",
    "dezena = numero // 10 % 10\n",
    "centena = numero // 100 % 10\n",
    "milhar = numero // 1000 % 10\n",
    "\n",
    "print('Unidade {}'.format(unidade))\n",
    "print('Dezena {}'.format(dezena))\n",
    "print('Centena {}'.format(centena))\n",
    "print('Milhar {}'.format(milhar))\n"
   ]
  }
 ],
 "metadata": {
  "kernelspec": {
   "display_name": "Python 3",
   "language": "python",
   "name": "python3"
  },
  "language_info": {
   "codemirror_mode": {
    "name": "ipython",
    "version": 3
   },
   "file_extension": ".py",
   "mimetype": "text/x-python",
   "name": "python",
   "nbconvert_exporter": "python",
   "pygments_lexer": "ipython3",
   "version": "3.12.0"
  }
 },
 "nbformat": 4,
 "nbformat_minor": 2
}
