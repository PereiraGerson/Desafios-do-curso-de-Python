{
 "cells": [
  {
   "cell_type": "code",
   "execution_count": null,
   "metadata": {},
   "outputs": [],
   "source": [
    "# Desafio 101 - Crie um programa que tenha uma função chamada voto() que vai receber como parâmetro o ano de nascimento de uma pessoa, retornando um valor literal indicando se uma pessoa tem voto NEGADO, OPCIONAL OU OBRIGATÓRIO nas eleições.\n",
    "\n",
    "# Obs. Acima de 65 anos o voto é opcional."
   ]
  },
  {
   "cell_type": "code",
   "execution_count": 64,
   "metadata": {},
   "outputs": [
    {
     "name": "stdout",
     "output_type": "stream",
     "text": [
      "Com 68 anos seu voto é OPCIONAL\n"
     ]
    }
   ],
   "source": [
    "from datetime import date\n",
    "\n",
    "def voto():\n",
    "    ano_nascimento = int(input('Em que ano você nasceu: '))\n",
    "    ano = date.today().year - ano_nascimento\n",
    "    if ano < 16:\n",
    "        print(f'Com {ano} anos você está REPROVADO')\n",
    "    elif ano >= 16 and ano < 65:\n",
    "        print(f'Com {ano} anos você está APROVADO')\n",
    "    else:\n",
    "        print(f'Com {ano} anos seu voto é OPCIONAL')\n",
    "        \n",
    "\n",
    "voto()"
   ]
  }
 ],
 "metadata": {
  "kernelspec": {
   "display_name": "Python 3",
   "language": "python",
   "name": "python3"
  },
  "language_info": {
   "codemirror_mode": {
    "name": "ipython",
    "version": 3
   },
   "file_extension": ".py",
   "mimetype": "text/x-python",
   "name": "python",
   "nbconvert_exporter": "python",
   "pygments_lexer": "ipython3",
   "version": "3.12.0"
  }
 },
 "nbformat": 4,
 "nbformat_minor": 2
}
