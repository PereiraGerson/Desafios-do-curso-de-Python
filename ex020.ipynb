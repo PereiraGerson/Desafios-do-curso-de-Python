{
 "cells": [
  {
   "cell_type": "code",
   "execution_count": 1,
   "metadata": {},
   "outputs": [],
   "source": [
    "# Desafio 020 - Faça um programa que cria uma sequencia de números e sorteie um deles."
   ]
  },
  {
   "cell_type": "code",
   "execution_count": 10,
   "metadata": {},
   "outputs": [
    {
     "name": "stdout",
     "output_type": "stream",
     "text": [
      "Lista do sorteio\n",
      "['joel', 'ester', 'abel', 'caua']\n",
      "O sorteado da lista acima foi: abel\n"
     ]
    }
   ],
   "source": [
    "import random\n",
    "\n",
    "aleatorio = []\n",
    "\n",
    "while True:\n",
    "    nome = input('Digite um nome: ')\n",
    "    aleatorio.append(nome)\n",
    "    continuar = input('Você deseja continuar? Digite [y/n]: ')\n",
    "    if continuar == 'n':\n",
    "        break\n",
    "        \n",
    "sorteio = random.choice(aleatorio)\n",
    "print('Lista do sorteio')\n",
    "print(aleatorio)\n",
    "print('O sorteado da lista acima foi: {}'.format(sorteio))"
   ]
  }
 ],
 "metadata": {
  "kernelspec": {
   "display_name": "base",
   "language": "python",
   "name": "python3"
  },
  "language_info": {
   "codemirror_mode": {
    "name": "ipython",
    "version": 3
   },
   "file_extension": ".py",
   "mimetype": "text/x-python",
   "name": "python",
   "nbconvert_exporter": "python",
   "pygments_lexer": "ipython3",
   "version": "3.11.4"
  }
 },
 "nbformat": 4,
 "nbformat_minor": 2
}
