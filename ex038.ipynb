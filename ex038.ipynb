{
 "cells": [
  {
   "cell_type": "code",
   "execution_count": null,
   "metadata": {},
   "outputs": [],
   "source": [
    "# Desafio 038 - Escreva um programa que leia dois números inteiros e compare-os, mostrando na tela uma mensagem:\n",
    "# - o primeiro valor é maior\n",
    "# - o segundo valor é maior \n",
    "# - não existe valor maior os dois são iguais."
   ]
  },
  {
   "cell_type": "code",
   "execution_count": 3,
   "metadata": {},
   "outputs": [
    {
     "name": "stdout",
     "output_type": "stream",
     "text": [
      "O número 3 é maior que o número 2\n"
     ]
    }
   ],
   "source": [
    "num1 = int(input('Digite um número qualquer: '))\n",
    "num2 = int(input('Digite um outro número qualquer: '))\n",
    "\n",
    "if num1 > num2:\n",
    "    print(f'O número {num1} é maior que o número {num2}')\n",
    "\n",
    "elif num2 > num1:\n",
    "    print(f'O número {num2} é maior que o número {num1}')\n",
    "else:\n",
    "    print(f'Os números {num1} e {num2} são iguais')"
   ]
  }
 ],
 "metadata": {
  "kernelspec": {
   "display_name": "Python 3",
   "language": "python",
   "name": "python3"
  },
  "language_info": {
   "codemirror_mode": {
    "name": "ipython",
    "version": 3
   },
   "file_extension": ".py",
   "mimetype": "text/x-python",
   "name": "python",
   "nbconvert_exporter": "python",
   "pygments_lexer": "ipython3",
   "version": "3.12.0"
  }
 },
 "nbformat": 4,
 "nbformat_minor": 2
}
