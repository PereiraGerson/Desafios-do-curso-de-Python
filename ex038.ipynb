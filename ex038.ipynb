{
 "cells": [
  {
   "cell_type": "code",
   "execution_count": null,
   "metadata": {},
   "outputs": [],
   "source": [
    "# Desafio 038 - Escreva um programa que leia dois números inteiros e compare-os, mostrando na tela uma mensagem:\n",
    "# - o primeiro valor é maior\n",
    "# - o segundo valor é maior \n",
    "# - não existe valor maior os dois são iguais."
   ]
  }
 ],
 "metadata": {
  "language_info": {
   "name": "python"
  }
 },
 "nbformat": 4,
 "nbformat_minor": 2
}
