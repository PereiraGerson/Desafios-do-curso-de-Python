{
 "cells": [
  {
   "cell_type": "code",
   "execution_count": null,
   "metadata": {},
   "outputs": [],
   "source": [
    "# Desafio 068 - Faça um programa que jogue par ou ímpar com o computador. O programa só sera interrompitdo quando o jogador perder. mostrando o total de vitórias consecutivas que ele conquistou no final do jogo."
   ]
  },
  {
   "cell_type": "code",
   "execution_count": 30,
   "metadata": {},
   "outputs": [
    {
     "name": "stdout",
     "output_type": "stream",
     "text": [
      "Acertou, eu escolhi 7\n",
      "Você errou eu escolhi 10\n",
      "Você acertou 1 vezes\n",
      "0\n"
     ]
    }
   ],
   "source": [
    "from random import randint\n",
    "vitoria = 0\n",
    "while True:\n",
    "    escolha = str(input('Par ou ímpar: ')).lower()\n",
    "    computador = randint(1,10)\n",
    "    if escolha == 'par' and computador % 2 == 0:\n",
    "        print(f'Acertou, eu escolhi {computador}')\n",
    "        vitoria += 1\n",
    "    elif escolha == 'impar' and computador % 2 != 0:  \n",
    "        print(f'Acertou, eu escolhi {computador}')\n",
    "        vitoria += 1 \n",
    "    else:\n",
    "        print(f'Você errou eu escolhi {computador}')\n",
    "        break\n",
    "print(f'Você acertou {vitoria} vezes')\n",
    "print(computador % 2)\n"
   ]
  }
 ],
 "metadata": {
  "kernelspec": {
   "display_name": "Python 3",
   "language": "python",
   "name": "python3"
  },
  "language_info": {
   "codemirror_mode": {
    "name": "ipython",
    "version": 3
   },
   "file_extension": ".py",
   "mimetype": "text/x-python",
   "name": "python",
   "nbconvert_exporter": "python",
   "pygments_lexer": "ipython3",
   "version": "3.12.0"
  }
 },
 "nbformat": 4,
 "nbformat_minor": 2
}
