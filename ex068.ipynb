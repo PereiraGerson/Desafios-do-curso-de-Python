{
 "cells": [
  {
   "cell_type": "code",
   "execution_count": null,
   "metadata": {},
   "outputs": [],
   "source": [
    "# Desafio 068 - Faça um programa que jogue par ou ímpar com o computador. O programa só sera interrompitdo quando o jogador perder. mostrando o total de vitórias consecutivas que ele conquistou no final do jogo."
   ]
  }
 ],
 "metadata": {
  "language_info": {
   "name": "python"
  }
 },
 "nbformat": 4,
 "nbformat_minor": 2
}
