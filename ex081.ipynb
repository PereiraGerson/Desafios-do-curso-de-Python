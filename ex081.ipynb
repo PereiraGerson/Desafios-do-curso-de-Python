{
 "cells": [
  {
   "cell_type": "code",
   "execution_count": null,
   "metadata": {},
   "outputs": [],
   "source": [
    "# Desafio 81 - Crie um programa que vai ler vários números e coloca-los em uma lista.\n",
    "# Depois disso mostre: \n",
    "# a) quantos números foram digitados.\n",
    "# b) A lista de valores, ordenada de forma decrescente.\n",
    "# c) se o valor 5 foi digitado e está ou não na lista."
   ]
  },
  {
   "cell_type": "code",
   "execution_count": 20,
   "metadata": {},
   "outputs": [
    {
     "name": "stdout",
     "output_type": "stream",
     "text": [
      "Voce digitou 999, FIM DO PROGRAMA\n",
      "Foram digitados 4 números\n",
      "Você digitou os seguintes números em ordem decrescente [8, 6, 3, 2]\n",
      "Não detectei o número 5 na lista.\n"
     ]
    }
   ],
   "source": [
    "lista = []\n",
    "\n",
    "while True:\n",
    "    numeros = int(input('Digite um númro ou 999 pra parar o programa: '))\n",
    "    if numeros == 999:\n",
    "        print('Voce digitou 999, FIM DO PROGRAMA')\n",
    "        break\n",
    "    else:\n",
    "        lista.append(numeros)\n",
    "        \n",
    "print(f'Foram digitados {len(lista)} números')\n",
    "lista.sort(reverse=True)\n",
    "print(f'Você digitou os seguintes números em ordem decrescente {lista}')\n",
    "if 5 in lista:\n",
    "    print(f'O número cinco está na posição {lista.index(5)}')\n",
    "else:\n",
    "    print('Não detectei o número 5 na lista.')"
   ]
  }
 ],
 "metadata": {
  "kernelspec": {
   "display_name": "Python 3",
   "language": "python",
   "name": "python3"
  },
  "language_info": {
   "codemirror_mode": {
    "name": "ipython",
    "version": 3
   },
   "file_extension": ".py",
   "mimetype": "text/x-python",
   "name": "python",
   "nbconvert_exporter": "python",
   "pygments_lexer": "ipython3",
   "version": "3.12.0"
  }
 },
 "nbformat": 4,
 "nbformat_minor": 2
}
