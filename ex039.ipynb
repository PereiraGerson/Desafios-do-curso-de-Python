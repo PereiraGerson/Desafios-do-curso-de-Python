{
 "cells": [
  {
   "cell_type": "code",
   "execution_count": null,
   "metadata": {},
   "outputs": [],
   "source": [
    "# Desafio 039 - Faça um programa que leia o ano de nascimento de alguém e informe, de acordo com sua idade:\n",
    "# - se ele ainda vai se alistar no serviço militar\n",
    "# - se é a hora de se alistar.\n",
    "# - se passou do tempo do alistamento.\n",
    "# Seu programa também devera mostrar o tempo que pasou ou o tempo que falta para o alistamento."
   ]
  }
 ],
 "metadata": {
  "language_info": {
   "name": "python"
  }
 },
 "nbformat": 4,
 "nbformat_minor": 2
}
