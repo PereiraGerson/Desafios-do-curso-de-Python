{
 "cells": [
  {
   "cell_type": "code",
   "execution_count": null,
   "metadata": {},
   "outputs": [],
   "source": [
    "# Desafio 039 - Faça um programa que leia o ano de nascimento de alguém e informe, de acordo com sua idade:\n",
    "# - se ele ainda vai se alistar no serviço militar\n",
    "# - se é a hora de se alistar.\n",
    "# - se passou do tempo do alistamento.\n",
    "# Seu programa também devera mostrar o tempo que pasou ou o tempo que falta para o alistamento."
   ]
  },
  {
   "cell_type": "code",
   "execution_count": 91,
   "metadata": {},
   "outputs": [
    {
     "name": "stdout",
     "output_type": "stream",
     "text": [
      "Você tem 19 anos, ja passou 1 anos da data do seu alistamento>\n"
     ]
    }
   ],
   "source": [
    "from datetime import datetime\n",
    "ano_nascimento = int(input('Digite apenas o ano do seu nascimento: '))\n",
    "data_atual = datetime.now()\n",
    "idade = data_atual.year - ano_nascimento\n",
    "\n",
    "\n",
    "if idade < 18:\n",
    "    print('Você tem {} anos, faltam {} anos para se alistar'.format(idade, 18 - idade))\n",
    "\n",
    "elif idade == 18:\n",
    "    print('Você tem {} anos, você já pode se alistar'.format(idade))   \n",
    "else:\n",
    "    print('Você tem {} anos, ja passou {} anos da data do seu alistamento>'.format(idade, idade - 18 ))"
   ]
  }
 ],
 "metadata": {
  "kernelspec": {
   "display_name": "Python 3",
   "language": "python",
   "name": "python3"
  },
  "language_info": {
   "codemirror_mode": {
    "name": "ipython",
    "version": 3
   },
   "file_extension": ".py",
   "mimetype": "text/x-python",
   "name": "python",
   "nbconvert_exporter": "python",
   "pygments_lexer": "ipython3",
   "version": "3.12.0"
  }
 },
 "nbformat": 4,
 "nbformat_minor": 2
}
