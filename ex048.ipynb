{
 "cells": [
  {
   "cell_type": "code",
   "execution_count": null,
   "metadata": {},
   "outputs": [],
   "source": [
    "# Desafio 048 - Faça um programa que calcule a soma entre todos os números ímpares que são multiplos de 3 e que se encontra no intervalo entre 1 e 500."
   ]
  },
  {
   "cell_type": "code",
   "execution_count": 18,
   "metadata": {},
   "outputs": [
    {
     "name": "stdout",
     "output_type": "stream",
     "text": [
      "Entre 1 e 500 existem 83 números.\n",
      "A soma entre todos os números impares são 20667\n"
     ]
    }
   ],
   "source": [
    "lista2 = [x for x in range(3, 501, 3)if x % 2]\n",
    "print(f'Entre 1 e 500 existem {len(lista2)} números.')\n",
    "print(f'A soma entre todos os números impares são {sum(lista2)}')"
   ]
  }
 ],
 "metadata": {
  "kernelspec": {
   "display_name": "Python 3",
   "language": "python",
   "name": "python3"
  },
  "language_info": {
   "codemirror_mode": {
    "name": "ipython",
    "version": 3
   },
   "file_extension": ".py",
   "mimetype": "text/x-python",
   "name": "python",
   "nbconvert_exporter": "python",
   "pygments_lexer": "ipython3",
   "version": "3.12.0"
  }
 },
 "nbformat": 4,
 "nbformat_minor": 2
}
