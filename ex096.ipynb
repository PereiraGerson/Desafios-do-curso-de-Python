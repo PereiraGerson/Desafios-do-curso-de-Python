{
 "cells": [
  {
   "cell_type": "code",
   "execution_count": null,
   "metadata": {},
   "outputs": [],
   "source": [
    "# Desafio 96 - Faça um programa que tenha uma função chamada área(), que recebe as dimensãoes de um terreno retangular(largura e comprimento), e mostre a area do terreno."
   ]
  },
  {
   "cell_type": "code",
   "execution_count": 24,
   "metadata": {},
   "outputs": [
    {
     "name": "stdout",
     "output_type": "stream",
     "text": [
      "=========================\n",
      "DIGITE A AREA DO TERRENO\n",
      "=========================\n",
      "LARGURA:  2.0\n",
      "COMPRIMENTO:  3.0\n",
      "A area do terreno é 6.0m2\n"
     ]
    }
   ],
   "source": [
    "def area(a, b):\n",
    "    area = a * b\n",
    "    return(area)\n",
    "    \n",
    "print('='*25)\n",
    "print('DIGITE A AREA DO TERRENO')\n",
    "print('='*25)\n",
    "\n",
    "largura = float(input('LARGURA: '))\n",
    "print('LARGURA: ', largura)\n",
    "\n",
    "comprimento = float(input('COMPRIMENTO: '))\n",
    "print('COMPRIMENTO: ',comprimento)\n",
    "\n",
    "total = area(largura,comprimento)\n",
    "print(f'A area do terreno é {total}m2')"
   ]
  }
 ],
 "metadata": {
  "kernelspec": {
   "display_name": "Python 3",
   "language": "python",
   "name": "python3"
  },
  "language_info": {
   "codemirror_mode": {
    "name": "ipython",
    "version": 3
   },
   "file_extension": ".py",
   "mimetype": "text/x-python",
   "name": "python",
   "nbconvert_exporter": "python",
   "pygments_lexer": "ipython3",
   "version": "3.12.0"
  }
 },
 "nbformat": 4,
 "nbformat_minor": 2
}
