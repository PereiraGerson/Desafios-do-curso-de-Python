{
 "cells": [
  {
   "cell_type": "code",
   "execution_count": null,
   "metadata": {},
   "outputs": [],
   "source": [
    "# Desafio 72 - Crie um um programa que tenha uma tupla totalmente preenchida com uma contagem por extenso de zero até vinte.\n",
    "# Seu programa deverá ler um número pelo teclado (entre 0 e 20) e mostra-lo por extenso."
   ]
  },
  {
   "cell_type": "code",
   "execution_count": 13,
   "metadata": {},
   "outputs": [
    {
     "name": "stdout",
     "output_type": "stream",
     "text": [
      "Você digitou: Quatorze\n"
     ]
    }
   ],
   "source": [
    "num = ('Um','Dois','Três','Quatro','Cinco','Seis','Setes','Oito','Nove','Dez','Onze','Doze','Treze','Quatorze','Quinze','Dezesseis','Dezesete','Dezoito','Dezenove','Vinte')\n",
    "zerovinte = list(range(0,21,1))\n",
    "\n",
    "while True:\n",
    "    entrada = int(input('Digite um número de 0 a 20: '))\n",
    "    if entrada not in zerovinte:\n",
    "        print('Entrada invalida, Digite um número de 0 a 20')\n",
    "    else:\n",
    "        print('Você digitou:',num[entrada-1])\n",
    "        break"
   ]
  }
 ],
 "metadata": {
  "kernelspec": {
   "display_name": "Python 3",
   "language": "python",
   "name": "python3"
  },
  "language_info": {
   "codemirror_mode": {
    "name": "ipython",
    "version": 3
   },
   "file_extension": ".py",
   "mimetype": "text/x-python",
   "name": "python",
   "nbconvert_exporter": "python",
   "pygments_lexer": "ipython3",
   "version": "3.12.0"
  }
 },
 "nbformat": 4,
 "nbformat_minor": 2
}
