{
 "cells": [
  {
   "cell_type": "code",
   "execution_count": 1,
   "metadata": {},
   "outputs": [],
   "source": [
    "# Desafio 015 - Faça um programa que pergunte a quantidade de Km percorridos por um carro e a quantidade de dias pelos quais ele foi alugado. Calcule o preço a pagar, sabendo que o carro custa R$60,00 por dia e R$ 0,15 por Km rodados."
   ]
  },
  {
   "cell_type": "code",
   "execution_count": 2,
   "metadata": {},
   "outputs": [
    {
     "name": "stdout",
     "output_type": "stream",
     "text": [
      "O cliente ficou com o carro por 10 dias e percorreu 100.0 Km, custo total 615.0.\n"
     ]
    }
   ],
   "source": [
    "custo_diaria = 60.00\n",
    "custo_km = 0.15\n",
    "km_percorridos = float(input('Quantos Km o carro percorreu?: '))\n",
    "dias_alugados = int(input('Quantos dias o carro ficou alugado?: '))\n",
    "valor_km = km_percorridos * custo_km\n",
    "valor_dia = dias_alugados * custo_diaria\n",
    "valor_total = valor_dia + valor_km\n",
    "print('O cliente ficou com o carro por {} dias e percorreu {} Km, custo total {}.'.format(dias_alugados, km_percorridos, valor_total))"
   ]
  },
  {
   "cell_type": "code",
   "execution_count": 1,
   "metadata": {},
   "outputs": [
    {
     "name": "stdout",
     "output_type": "stream",
     "text": [
      "hello world.\n",
      "hello world.\n",
      "hello world.\n",
      "hello world.\n",
      "hello world.\n",
      "hello world.\n",
      "hello world.\n",
      "hello world.\n",
      "hello world.\n",
      "hello world.\n"
     ]
    }
   ],
   "source": [
    "for contagem in range(10):\n",
    "    print('hello world.')"
   ]
  }
 ],
 "metadata": {
  "kernelspec": {
   "display_name": "Python 3",
   "language": "python",
   "name": "python3"
  },
  "language_info": {
   "codemirror_mode": {
    "name": "ipython",
    "version": 3
   },
   "file_extension": ".py",
   "mimetype": "text/x-python",
   "name": "python",
   "nbconvert_exporter": "python",
   "pygments_lexer": "ipython3",
   "version": "3.11.5"
  },
  "orig_nbformat": 4
 },
 "nbformat": 4,
 "nbformat_minor": 2
}
