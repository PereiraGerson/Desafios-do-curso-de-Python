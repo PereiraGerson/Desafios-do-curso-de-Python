{
 "cells": [
  {
   "cell_type": "code",
   "execution_count": 10,
   "metadata": {},
   "outputs": [],
   "source": [
    "# Desafio 071 - Crie um programa que simule o funcionamento de um caixa eletrônico. No inicio, pergunte ao usuário qual o valor a ser sacado (número inteiro), e o programa vai informar quantas cedulas de cada valor serão entregues.\n",
    "\n",
    "# OBS: Considere que o caixa possui Cédulas de 50, 20, 10 e 1."
   ]
  },
  {
   "cell_type": "code",
   "execution_count": 66,
   "metadata": {},
   "outputs": [
    {
     "name": "stdout",
     "output_type": "stream",
     "text": [
      "Vocè recebeu:\n",
      "      3 notas de 50\n",
      "      Você recebeu 0 notas de 20\n",
      "      Você recebeu 0 notas de 10\n",
      "      Voce recebeu 0 notas de 1\n"
     ]
    }
   ],
   "source": [
    "saque = int(input('Quanto você quer Sacar?:R$ '))\n",
    "sobra = saque\n",
    "nota50 = 0\n",
    "nota20 = 0\n",
    "nota10 = 0\n",
    "nota1 = 0\n",
    "while sobra > 0:\n",
    "    if sobra >= 50:\n",
    "        nota50 = sobra // 50\n",
    "        sobra -= nota50 * 50\n",
    "    elif sobra >= 20:\n",
    "        nota20 = sobra // 20\n",
    "        sobra -= nota20 * 20\n",
    "    elif sobra >= 10:\n",
    "        nota10 = sobra // 10\n",
    "        sobra -= nota10 * 10\n",
    "    elif sobra >= 1:\n",
    "        nota1 = sobra\n",
    "        sobra = 0\n",
    "    else:\n",
    "        print('Você não tem saldo!')\n",
    "        break\n",
    "print(f'''Vocè recebeu:\n",
    "      {nota50} notas de 50\n",
    "      Você recebeu {nota20} notas de 20\n",
    "      Você recebeu {nota10} notas de 10\n",
    "      Voce recebeu {nota1} notas de 1''')"
   ]
  },
  {
   "cell_type": "code",
   "execution_count": 41,
   "metadata": {},
   "outputs": [
    {
     "name": "stdout",
     "output_type": "stream",
     "text": [
      "sobrou 10\n"
     ]
    }
   ],
   "source": [
    "if 110 % 50 >= 1:\n",
    "    sobra = 110 % 50\n",
    "    print(f'sobrou {sobra}')"
   ]
  },
  {
   "cell_type": "code",
   "execution_count": 56,
   "metadata": {},
   "outputs": [
    {
     "name": "stdout",
     "output_type": "stream",
     "text": [
      "5 2\n"
     ]
    }
   ],
   "source": [
    "saque = 105\n",
    "sobra = saque\n",
    "if sobra >= 50:\n",
    "    nota50 = saque // 50\n",
    "    sobra = saque % 50\n",
    "\n",
    "print(sobra, nota50)"
   ]
  },
  {
   "cell_type": "code",
   "execution_count": null,
   "metadata": {},
   "outputs": [],
   "source": [
    "saque = int(input('Quanto você quer sacar?: R$ '))\n",
    "\n",
    "nota50 = saque // 50\n",
    "sobra = saque % 50\n",
    "\n",
    "nota20 = sobra // 20\n",
    "sobra %= 20\n",
    "\n",
    "nota10 = sobra // 10\n",
    "sobra %= 10\n",
    "\n",
    "nota1 = sobra\n",
    "\n",
    "print(f'Você recebeu:')\n",
    "print(f'{nota50} notas de 50')\n",
    "print(f'{nota20} notas de 20')\n",
    "print(f'{nota10} notas de 10')\n",
    "print(f'{nota1} notas de 1')\n"
   ]
  }
 ],
 "metadata": {
  "kernelspec": {
   "display_name": "Python 3",
   "language": "python",
   "name": "python3"
  },
  "language_info": {
   "codemirror_mode": {
    "name": "ipython",
    "version": 3
   },
   "file_extension": ".py",
   "mimetype": "text/x-python",
   "name": "python",
   "nbconvert_exporter": "python",
   "pygments_lexer": "ipython3",
   "version": "3.12.0"
  }
 },
 "nbformat": 4,
 "nbformat_minor": 2
}
