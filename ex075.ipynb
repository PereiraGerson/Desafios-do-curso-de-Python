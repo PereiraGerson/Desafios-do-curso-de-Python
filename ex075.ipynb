{
 "cells": [
  {
   "cell_type": "code",
   "execution_count": null,
   "metadata": {},
   "outputs": [],
   "source": [
    "# Desafio 75 - Desenvolva um programa que leia quatro valores pelo teclado e guarde-os em uma tupla. No final mostre: \n",
    "# a) Quantas vezes apareceu o número 9.\n",
    "# b) Em que posição foi digitado o primeiro número 3.\n",
    "# c) Quais foram os números pares.\n",
    "\n",
    "# Obs. se for digitado um valor que não está na lista tem que aparecer zero no lugar."
   ]
  },
  {
   "cell_type": "code",
   "execution_count": 14,
   "metadata": {},
   "outputs": [
    {
     "name": "stdout",
     "output_type": "stream",
     "text": [
      "(2, 3, 4, 5)\n",
      "O número 9 aparece 0 vezes\n",
      "O número 3 aparece a primeira vez na posição 1\n",
      "os números pares da lista são: 2\n",
      "os números pares da lista são: 4\n"
     ]
    }
   ],
   "source": [
    "\n",
    "a = int(input('Digite um valor: '))\n",
    "b = int(input('Digite um valor: '))\n",
    "c = int(input('Digite um valor: '))\n",
    "d = int(input('Digite um valor: '))\n",
    "lista = [a,b,c,d]\n",
    "tupla = tuple(lista)\n",
    "print(tupla)\n",
    "\n",
    "print(f'O número 9 aparece {tupla.count(9)} vezes')\n",
    "print(f'O número 3 aparece a primeira vez na posição {tupla.index(3)}')\n",
    "for x in tupla:\n",
    "    if x % 2 == 0:\n",
    "        print(f'os números pares da lista são: {x}')"
   ]
  }
 ],
 "metadata": {
  "kernelspec": {
   "display_name": "Python 3",
   "language": "python",
   "name": "python3"
  },
  "language_info": {
   "codemirror_mode": {
    "name": "ipython",
    "version": 3
   },
   "file_extension": ".py",
   "mimetype": "text/x-python",
   "name": "python",
   "nbconvert_exporter": "python",
   "pygments_lexer": "ipython3",
   "version": "3.12.0"
  }
 },
 "nbformat": 4,
 "nbformat_minor": 2
}
