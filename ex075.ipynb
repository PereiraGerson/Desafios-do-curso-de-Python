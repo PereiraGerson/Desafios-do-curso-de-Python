{
 "cells": [
  {
   "cell_type": "code",
   "execution_count": null,
   "metadata": {},
   "outputs": [],
   "source": [
    "# Desafio 75 - Desenvolva um programa que leia quatro valores pelo teclado e guarde-os em uma tupla. No final mostre: \n",
    "# a) Quantas vezes apareceu o número 9.\n",
    "# b) Em que posição foi digitado o primeiro número 3.\n",
    "# c) Quais foram os números pares.\n",
    "\n",
    "# Obs. se for digitado um valor que não está na lista tem que aparecer zero no lugar."
   ]
  }
 ],
 "metadata": {
  "language_info": {
   "name": "python"
  }
 },
 "nbformat": 4,
 "nbformat_minor": 2
}
