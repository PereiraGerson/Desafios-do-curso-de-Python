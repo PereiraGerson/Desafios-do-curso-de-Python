{
 "cells": [
  {
   "cell_type": "code",
   "execution_count": null,
   "metadata": {},
   "outputs": [],
   "source": [
    "# Desafio 063 - Escreva um programa que leia um número n interiro qualquer e mostre na tela os n primeiros elementos de uma sequência de fibonacci.\n",
    "# ex. 1 -> 1 -> 2 -> 3 -> 5 -> 8"
   ]
  },
  {
   "cell_type": "code",
   "execution_count": null,
   "metadata": {},
   "outputs": [],
   "source": [
    "num = int(input('Digite um número: '))\n",
    "fibo = num + 1\n",
    "\n",
    "for x in range(1,10): \n",
    "    print()"
   ]
  }
 ],
 "metadata": {
  "language_info": {
   "name": "python"
  }
 },
 "nbformat": 4,
 "nbformat_minor": 2
}
