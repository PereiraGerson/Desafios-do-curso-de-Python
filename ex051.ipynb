{
 "cells": [
  {
   "cell_type": "code",
   "execution_count": null,
   "metadata": {},
   "outputs": [],
   "source": [
    "# Desafio 051 - Desenvolva um programa que leia o PRIMEIRO TERMO E A RAZÃO de uma PA(progressão aritimétrica). No final, mostre os primeiros termos dessa progressão."
   ]
  }
 ],
 "metadata": {
  "language_info": {
   "name": "python"
  }
 },
 "nbformat": 4,
 "nbformat_minor": 2
}
