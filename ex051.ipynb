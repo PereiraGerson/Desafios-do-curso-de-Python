{
 "cells": [
  {
   "cell_type": "code",
   "execution_count": null,
   "metadata": {},
   "outputs": [],
   "source": [
    "# Desafio 051 - Desenvolva um programa que leia o PRIMEIRO TERMO E A RAZÃO de uma PA(progressão aritimétrica). No final, mostre os primeiros termos dessa progressão."
   ]
  },
  {
   "cell_type": "code",
   "execution_count": 91,
   "metadata": {},
   "outputs": [
    {
     "name": "stdout",
     "output_type": "stream",
     "text": [
      "[2, 9, 16, 23, 30, 37, 44]\n",
      "O primeiro termo da P.A. é 2\n",
      "A razão da P.A é 7\n"
     ]
    }
   ],
   "source": [
    "import random\n",
    "\n",
    "progressao = []\n",
    "for x in range(random.randint(0,5),50, random.randint(1,10)): # cria um range de 1 a 50 pulando aleatóriamente.\n",
    "    progressao.append(x)\n",
    "\n",
    "print(progressao)\n",
    "print(f'O primeiro termo da P.A. é {progressao[0]}')\n",
    "print(f'A razão da P.A é {progressao[1] - progressao[0]}')"
   ]
  },
  {
   "cell_type": "code",
   "execution_count": null,
   "metadata": {},
   "outputs": [],
   "source": []
  }
 ],
 "metadata": {
  "kernelspec": {
   "display_name": "Python 3",
   "language": "python",
   "name": "python3"
  },
  "language_info": {
   "codemirror_mode": {
    "name": "ipython",
    "version": 3
   },
   "file_extension": ".py",
   "mimetype": "text/x-python",
   "name": "python",
   "nbconvert_exporter": "python",
   "pygments_lexer": "ipython3",
   "version": "3.12.0"
  }
 },
 "nbformat": 4,
 "nbformat_minor": 2
}
