{
 "cells": [
  {
   "cell_type": "code",
   "execution_count": null,
   "metadata": {},
   "outputs": [],
   "source": [
    "# Desafio 061 - Refaça o deasfio 051, lendo o primeiro termo e razão da PA. mostrando os 10 primeiros termos da progressão usando while."
   ]
  },
  {
   "cell_type": "code",
   "execution_count": 17,
   "metadata": {},
   "outputs": [
    {
     "name": "stdout",
     "output_type": "stream",
     "text": [
      "2 -> 6 -> 10 -> 14 -> 18 -> 22 -> 26 -> 30 -> 34 -> 38 -> FIM\n"
     ]
    }
   ],
   "source": [
    "primeiro_termo = int(input('Digite o primeiro termo da P.A.: '))\n",
    "razão = int(input('Digite a Razão da P.A.: '))\n",
    "\n",
    "termo = primeiro_termo\n",
    "cont = 1\n",
    "\n",
    "while cont <= 10:\n",
    "    print('{} -> '.format(termo), end='')\n",
    "    termo += razão\n",
    "    cont += 1\n",
    "print('FIM')"
   ]
  }
 ],
 "metadata": {
  "kernelspec": {
   "display_name": "Python 3",
   "language": "python",
   "name": "python3"
  },
  "language_info": {
   "codemirror_mode": {
    "name": "ipython",
    "version": 3
   },
   "file_extension": ".py",
   "mimetype": "text/x-python",
   "name": "python",
   "nbconvert_exporter": "python",
   "pygments_lexer": "ipython3",
   "version": "3.12.0"
  }
 },
 "nbformat": 4,
 "nbformat_minor": 2
}
