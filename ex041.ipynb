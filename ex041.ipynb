{
 "cells": [
  {
   "cell_type": "code",
   "execution_count": null,
   "metadata": {},
   "outputs": [],
   "source": [
    "# Desafio 041 - A confederação nacional de natação precisa de um programa que leia o ano de nascimento de um atleta e mostra sua categoria, de acordo com a idade.\n",
    "\n",
    "# - até 9 anos: MIRIM\n",
    "# - até 14 anos: INFANTIL\n",
    "# - até 19 anos: JUNIOR\n",
    "# - até 20 anos: SENIOR\n",
    "# - acima: MASTER\n"
   ]
  },
  {
   "cell_type": "code",
   "execution_count": 2,
   "metadata": {},
   "outputs": [
    {
     "ename": "AttributeError",
     "evalue": "module 'datetime' has no attribute 'now'",
     "output_type": "error",
     "traceback": [
      "\u001b[1;31m---------------------------------------------------------------------------\u001b[0m",
      "\u001b[1;31mAttributeError\u001b[0m                            Traceback (most recent call last)",
      "\u001b[1;32mc:\\Users\\gerso\\OneDrive\\Documentos\\GitHub\\Desafios-do-curso-de-Python\\ex041.ipynb Cell 2\u001b[0m line \u001b[0;36m3\n\u001b[0;32m      <a href='vscode-notebook-cell:/c%3A/Users/gerso/OneDrive/Documentos/GitHub/Desafios-do-curso-de-Python/ex041.ipynb#W1sZmlsZQ%3D%3D?line=0'>1</a>\u001b[0m \u001b[39mimport\u001b[39;00m \u001b[39mdatetime\u001b[39;00m\n\u001b[0;32m      <a href='vscode-notebook-cell:/c%3A/Users/gerso/OneDrive/Documentos/GitHub/Desafios-do-curso-de-Python/ex041.ipynb#W1sZmlsZQ%3D%3D?line=1'>2</a>\u001b[0m ano_nascimento \u001b[39m=\u001b[39m \u001b[39mint\u001b[39m(\u001b[39minput\u001b[39m(\u001b[39m'\u001b[39m\u001b[39mDiga o ano de nascimento do candidato:  \u001b[39m\u001b[39m'\u001b[39m))\n\u001b[1;32m----> <a href='vscode-notebook-cell:/c%3A/Users/gerso/OneDrive/Documentos/GitHub/Desafios-do-curso-de-Python/ex041.ipynb#W1sZmlsZQ%3D%3D?line=2'>3</a>\u001b[0m hoje \u001b[39m=\u001b[39m datetime\u001b[39m.\u001b[39;49mnow()\n\u001b[0;32m      <a href='vscode-notebook-cell:/c%3A/Users/gerso/OneDrive/Documentos/GitHub/Desafios-do-curso-de-Python/ex041.ipynb#W1sZmlsZQ%3D%3D?line=3'>4</a>\u001b[0m idade \u001b[39m=\u001b[39m hoje\u001b[39m.\u001b[39myear \u001b[39m-\u001b[39m ano_nascimento\n\u001b[0;32m      <a href='vscode-notebook-cell:/c%3A/Users/gerso/OneDrive/Documentos/GitHub/Desafios-do-curso-de-Python/ex041.ipynb#W1sZmlsZQ%3D%3D?line=5'>6</a>\u001b[0m \u001b[39mif\u001b[39;00m idade \u001b[39m<\u001b[39m\u001b[39m=\u001b[39m \u001b[39m9\u001b[39m:\n",
      "\u001b[1;31mAttributeError\u001b[0m: module 'datetime' has no attribute 'now'"
     ]
    }
   ],
   "source": [
    "from datetime import datetime\n",
    "ano_nascimento = int(input('Diga o ano de nascimento do candidato:  '))\n",
    "hoje = datetime.now()\n",
    "idade = hoje.year - ano_nascimento\n",
    "\n",
    "if idade <= 9:\n",
    "    print('Você tem {} anos, sua categoria é {}'.format(idade, 'MIRIM'))\n",
    "elif idade <= 14:\n",
    "    print('Você tem {} anos, sua categoria é {}'.format(idade, 'INFANTIL'))\n",
    "elif idade <= 19:\n",
    "    print('Você tem {} anos, sua categoria é {}'.format(idade, 'JÚNIOR'))\n",
    "elif idade <= 20:\n",
    "    print('Você tem {} anos, sua categoria é {}'.format(idade, 'SÊNIOR'))\n",
    "else:\n",
    "    print('Você tem {} anos, sua categoria é {}'.format(idade, 'MASTER'))"
   ]
  }
 ],
 "metadata": {
  "kernelspec": {
   "display_name": "Python 3",
   "language": "python",
   "name": "python3"
  },
  "language_info": {
   "codemirror_mode": {
    "name": "ipython",
    "version": 3
   },
   "file_extension": ".py",
   "mimetype": "text/x-python",
   "name": "python",
   "nbconvert_exporter": "python",
   "pygments_lexer": "ipython3",
   "version": "3.12.0"
  }
 },
 "nbformat": 4,
 "nbformat_minor": 2
}
