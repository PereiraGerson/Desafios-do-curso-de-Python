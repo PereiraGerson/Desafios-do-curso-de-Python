{
 "cells": [
  {
   "cell_type": "code",
   "execution_count": null,
   "metadata": {},
   "outputs": [],
   "source": [
    "# Desafio 041 - A confederação nacional de natação precisa de um programa que leia o ano de nascimento de um atleta e mostra sua categoria, de acordo com a idade.\n",
    "\n",
    "# - até 9 anos: MIRIM\n",
    "# - até 14 anos: INFANTIL\n",
    "# - até 19 anos: JUNIOR\n",
    "# - até 20 anos: SENIOR\n",
    "# - acima: MASTER\n"
   ]
  },
  {
   "cell_type": "code",
   "execution_count": 34,
   "metadata": {},
   "outputs": [
    {
     "name": "stdout",
     "output_type": "stream",
     "text": [
      "Você tem 22 anos, sua categoria é MASTER\n"
     ]
    }
   ],
   "source": [
    "from datetime import datetime\n",
    "ano_nascimento = int(input('Diga o ano de nascimento do candidato:  '))\n",
    "hoje = datetime.now()\n",
    "idade = hoje.year - ano_nascimento\n",
    "\n",
    "if idade <= 9:\n",
    "    print('Você tem {} anos, sua categoria é {}'.format(idade, 'MIRIM'))\n",
    "elif idade <= 14:\n",
    "    print('Você tem {} anos, sua categoria é {}'.format(idade, 'INFANTIL'))\n",
    "elif idade <= 19:\n",
    "    print('Você tem {} anos, sua categoria é {}'.format(idade, 'JÚNIOR'))\n",
    "elif idade <= 20:\n",
    "    print('Você tem {} anos, sua categoria é {}'.format(idade, 'SÊNIOR'))\n",
    "else:\n",
    "    print('Você tem {} anos, sua categoria é {}'.format(idade, 'MASTER'))"
   ]
  }
 ],
 "metadata": {
  "kernelspec": {
   "display_name": "Python 3",
   "language": "python",
   "name": "python3"
  },
  "language_info": {
   "codemirror_mode": {
    "name": "ipython",
    "version": 3
   },
   "file_extension": ".py",
   "mimetype": "text/x-python",
   "name": "python",
   "nbconvert_exporter": "python",
   "pygments_lexer": "ipython3",
   "version": "3.12.0"
  }
 },
 "nbformat": 4,
 "nbformat_minor": 2
}
