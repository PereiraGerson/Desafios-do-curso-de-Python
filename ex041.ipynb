{
 "cells": [
  {
   "cell_type": "code",
   "execution_count": null,
   "metadata": {},
   "outputs": [],
   "source": [
    "# Desafio 041 - A confederação nacional de natação precisa de um programa que leia o ano de nascimento de um atleta e mostra sua categoria, de acordo com a idade.\n",
    "\n",
    "# - até 9 anos: MIRIM\n",
    "# - até 14 anos: INFANTIL\n",
    "# - até 19 anos: JUNIOR\n",
    "# - até 20 anos: SENIOR\n",
    "# - acima: MASTER\n"
   ]
  }
 ],
 "metadata": {
  "language_info": {
   "name": "python"
  }
 },
 "nbformat": 4,
 "nbformat_minor": 2
}
