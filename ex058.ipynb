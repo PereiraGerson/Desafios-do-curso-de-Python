{
 "cells": [
  {
   "cell_type": "code",
   "execution_count": null,
   "metadata": {},
   "outputs": [],
   "source": [
    "# Desafio 058 - Melhore o jogo do DESAFIO 28 onde o computador vai \"pensar\" em um número entre 0 e 10. Só que agora o jogador vai tentar adivinhar até acertar, mostrando no final quantos palpipes foram necessario para vencer."
   ]
  },
  {
   "cell_type": "code",
   "execution_count": 13,
   "metadata": {},
   "outputs": [
    {
     "name": "stdout",
     "output_type": "stream",
     "text": [
      "Você errou!\n",
      "O número que eu pensei foi 2. PARABÉNS VOCÊ ACERTOU!\n",
      "Você tentou 2 vezes antes de acertar.\n"
     ]
    }
   ],
   "source": [
    "import random\n",
    "\n",
    "aleatorio = [1,2,3,4,5]\n",
    "sorteado = random.choice(aleatorio)\n",
    "contador = 1\n",
    "\n",
    "while numero != sorteado:\n",
    "    numero = int(input(\"Descubra qual número eu estou pensando: \"))\n",
    "    if numero == sorteado:\n",
    "        print('O número que eu pensei foi {}. PARABÉNS VOCÊ ACERTOU!'.format(sorteado))\n",
    "    else:\n",
    "        print('Você errou!')\n",
    "        contador += 1\n",
    "\n",
    "print(f'Você tentou {contador} vezes antes de acertar.')\n"
   ]
  }
 ],
 "metadata": {
  "kernelspec": {
   "display_name": "Python 3",
   "language": "python",
   "name": "python3"
  },
  "language_info": {
   "codemirror_mode": {
    "name": "ipython",
    "version": 3
   },
   "file_extension": ".py",
   "mimetype": "text/x-python",
   "name": "python",
   "nbconvert_exporter": "python",
   "pygments_lexer": "ipython3",
   "version": "3.12.0"
  }
 },
 "nbformat": 4,
 "nbformat_minor": 2
}
