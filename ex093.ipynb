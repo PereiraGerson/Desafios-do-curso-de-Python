{
 "cells": [
  {
   "cell_type": "code",
   "execution_count": null,
   "metadata": {},
   "outputs": [],
   "source": [
    "# Desafio 93 - Crie um programa que gerencie o aproveitamento de um jogador de futebol. O programa vai ler o nome do jogador e quantas partidas ele jogou. Depois vai ler a quantidade de gols feito em cada partida. No final, tudo isso será guardado em um dicionário, incluindo o total de gols feitos durante o campeonato."
   ]
  },
  {
   "cell_type": "code",
   "execution_count": 14,
   "metadata": {},
   "outputs": [
    {
     "name": "stdout",
     "output_type": "stream",
     "text": [
      "{'Nome': 'gerson', 'Partidas': 5, 'Gols por Partida': [1, 2, 3, 2, 5], 'Gols Total': 13, 'Aproveitamento': None}\n"
     ]
    }
   ],
   "source": [
    "aproveitamento = {\n",
    "    'Nome' : None, \n",
    "    'Partidas' : None, \n",
    "    'Gols por Partida' : None, \n",
    "    'Gols Total' : None, \n",
    "    'Aproveitamento' : None\n",
    "}\n",
    "\n",
    "aproveitamento['Nome'] = str(input('Digite o nome do jogador: ')).strip()\n",
    "partidas = int(input('Quantas partidas jogou: '))\n",
    "aproveitamento['Partidas'] = partidas\n",
    "gol_partidas = []\n",
    "\n",
    "for x in range(partidas):\n",
    "    gol_partidas.append(int(input('Quantas Gols o Jogador jogou marcou: ')))\n",
    "\n",
    "aproveitamento['Gols por Partida'] = gol_partidas\n",
    "aproveitamento['Gols Total'] = sum(gol_partidas)\n",
    "\n",
    "print(aproveitamento) "
   ]
  },
  {
   "cell_type": "code",
   "execution_count": 22,
   "metadata": {},
   "outputs": [
    {
     "name": "stdout",
     "output_type": "stream",
     "text": [
      "O jogador gerson jogou 5 jogos.\n",
      "---> Na 1° partida fez, 1 gols.\n",
      "---> Na 2° partida fez, 2 gols.\n",
      "---> Na 3° partida fez, 3 gols.\n",
      "---> Na 4° partida fez, 2 gols.\n",
      "---> Na 5° partida fez, 5 gols.\n",
      "No total fez, 13 gols.\n"
     ]
    }
   ],
   "source": [
    "print(f'O jogador {aproveitamento['Nome']} jogou {aproveitamento['Partidas']} jogos.')\n",
    "for k,v in enumerate(aproveitamento['Gols por Partida'], start=1):\n",
    "    print(f'---> Na {k}° partida fez, {v} gols.')\n",
    "\n",
    "print(f'No total fez, {aproveitamento['Gols Total']} gols.')\n"
   ]
  }
 ],
 "metadata": {
  "kernelspec": {
   "display_name": "Python 3",
   "language": "python",
   "name": "python3"
  },
  "language_info": {
   "codemirror_mode": {
    "name": "ipython",
    "version": 3
   },
   "file_extension": ".py",
   "mimetype": "text/x-python",
   "name": "python",
   "nbconvert_exporter": "python",
   "pygments_lexer": "ipython3",
   "version": "3.12.0"
  }
 },
 "nbformat": 4,
 "nbformat_minor": 2
}
