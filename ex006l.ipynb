{
 "cells": [
  {
   "cell_type": "code",
   "execution_count": 3,
   "metadata": {},
   "outputs": [],
   "source": [
    "# Desafio 006 - Crie um algoritmo que leia um número e mostre seu dobro, seu triplo e a raiz quadrada."
   ]
  },
  {
   "cell_type": "code",
   "execution_count": 4,
   "metadata": {},
   "outputs": [],
   "source": [
    "import math"
   ]
  },
  {
   "cell_type": "code",
   "execution_count": 8,
   "metadata": {},
   "outputs": [
    {
     "name": "stdout",
     "output_type": "stream",
     "text": [
      "A raiz quadra de 9 é 3.0\n",
      "O dobro de 9 é 18\n",
      "O triplo de 9 é 27\n"
     ]
    }
   ],
   "source": [
    "numero = int(input('Digite um número: '))\n",
    "dobro = numero * 2\n",
    "triplo = numero * 3\n",
    "raiz = numero ** (1/2)\n",
    "print('A raiz quadra de 9 é {}'.format(raiz))\n",
    "print('O dobro de {} é {}'.format(numero, dobro))\n",
    "print('O triplo de {} é {}'.format(numero, triplo))"
   ]
  }
 ],
 "metadata": {
  "kernelspec": {
   "display_name": "Python 3",
   "language": "python",
   "name": "python3"
  },
  "language_info": {
   "codemirror_mode": {
    "name": "ipython",
    "version": 3
   },
   "file_extension": ".py",
   "mimetype": "text/x-python",
   "name": "python",
   "nbconvert_exporter": "python",
   "pygments_lexer": "ipython3",
   "version": "3.11.5"
  },
  "orig_nbformat": 4
 },
 "nbformat": 4,
 "nbformat_minor": 2
}
