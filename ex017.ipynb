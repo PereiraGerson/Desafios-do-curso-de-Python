{
 "cells": [
  {
   "cell_type": "code",
   "execution_count": 7,
   "metadata": {},
   "outputs": [
    {
     "name": "stderr",
     "output_type": "stream",
     "text": [
      "ERROR: Could not find a version that satisfies the requirement math (from versions: none)\n",
      "ERROR: No matching distribution found for math\n"
     ]
    }
   ],
   "source": [
    "# Desafio 017 - Faça um programa que o comprimento do cateto oposto e do cateto adjacente de um triângulo retângulo, calcule e mostre o cumprimento da hipotenusa.\n",
    "from math import hypot"
   ]
  },
  {
   "cell_type": "code",
   "execution_count": 10,
   "metadata": {},
   "outputs": [
    {
     "name": "stdout",
     "output_type": "stream",
     "text": [
      "O tamanho da hipotenusa é 8772.56\n"
     ]
    }
   ],
   "source": [
    "cateto_oposto = float(input('Digite o valor do cateto oposto: '))\n",
    "cateto_adjacente = float(input('Digite o valor do cateto adjacente: '))\n",
    "hipotenusa = (cateto_oposto ** 2 + cateto_adjacente ** 2) ** (1/2)\n",
    "\n",
    "print('O tamanho da hipotenusa é {:.2f}'.format(hipotenusa))"
   ]
  }
 ],
 "metadata": {
  "kernelspec": {
   "display_name": "Python 3",
   "language": "python",
   "name": "python3"
  },
  "language_info": {
   "codemirror_mode": {
    "name": "ipython",
    "version": 3
   },
   "file_extension": ".py",
   "mimetype": "text/x-python",
   "name": "python",
   "nbconvert_exporter": "python",
   "pygments_lexer": "ipython3",
   "version": "3.11.5"
  },
  "orig_nbformat": 4
 },
 "nbformat": 4,
 "nbformat_minor": 2
}
