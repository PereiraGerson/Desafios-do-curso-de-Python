{
 "cells": [
  {
   "cell_type": "code",
   "execution_count": null,
   "metadata": {},
   "outputs": [],
   "source": [
    "# Desafio 82 - Crie um programa que vai ler vários números e coloca-los em uma lista.\n",
    "# Depois disso, crie duas listas extras que vão conter apenas os valores pares e os valores ímpares digitados, respectivamente. \n",
    "# No final mostre o conteúdo das três listas geradas."
   ]
  },
  {
   "cell_type": "code",
   "execution_count": 1,
   "metadata": {},
   "outputs": [
    {
     "name": "stdout",
     "output_type": "stream",
     "text": [
      "Você digitou os seguintes números [13, 27, 20, 20, 3, 22, 5, 6, 18, 2]\n",
      "Os números pares da lista são: [2, 6, 18, 20, 20, 22]\n",
      "Os números impares da lista são: [3, 5, 13, 27]\n"
     ]
    }
   ],
   "source": [
    "from random import randint\n",
    "\n",
    "numeros_aleatorios = list(randint(0,30) for x in range(10))\n",
    "print(f'Você digitou os seguintes números {numeros_aleatorios}')\n",
    "numeros_pares = []\n",
    "numeros_impares = []\n",
    "for i in numeros_aleatorios:\n",
    "    if i % 2 == 0:\n",
    "        numeros_pares.append(i)\n",
    "    else:\n",
    "        numeros_impares.append(i)\n",
    "        \n",
    "numeros_pares.sort()\n",
    "numeros_impares.sort()\n",
    "\n",
    "print(f'Os números pares da lista são: {numeros_pares}')\n",
    "print(f'Os números impares da lista são: {numeros_impares}')"
   ]
  },
  {
   "cell_type": "code",
   "execution_count": null,
   "metadata": {},
   "outputs": [],
   "source": []
  }
 ],
 "metadata": {
  "kernelspec": {
   "display_name": "Python 3",
   "language": "python",
   "name": "python3"
  },
  "language_info": {
   "codemirror_mode": {
    "name": "ipython",
    "version": 3
   },
   "file_extension": ".py",
   "mimetype": "text/x-python",
   "name": "python",
   "nbconvert_exporter": "python",
   "pygments_lexer": "ipython3",
   "version": "3.12.0"
  }
 },
 "nbformat": 4,
 "nbformat_minor": 2
}
