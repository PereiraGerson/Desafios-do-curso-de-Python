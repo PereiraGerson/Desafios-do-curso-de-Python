{
 "cells": [
  {
   "cell_type": "code",
   "execution_count": 1,
   "metadata": {},
   "outputs": [],
   "source": [
    "# Desafio 014 - Faça um programa que uma temperatura digitada em Graus Celsius e converta para Fahreiheit."
   ]
  },
  {
   "cell_type": "code",
   "execution_count": 2,
   "metadata": {},
   "outputs": [
    {
     "name": "stdout",
     "output_type": "stream",
     "text": [
      "Hoje está fazendo 45.0 C°, porém em Fahreinheit está 113.0 F°.\n"
     ]
    }
   ],
   "source": [
    "temperatura_celsius = float(input('Qual é a temperatura hoje em C°?: '))\n",
    "celsius_fahreiheit = temperatura_celsius * 1.8 + 32\n",
    "print('Hoje está fazendo {} C°, porém em Fahreinheit está {} F°.'.format(temperatura_celsius, celsius_fahreiheit))"
   ]
  }
 ],
 "metadata": {
  "kernelspec": {
   "display_name": "Python 3",
   "language": "python",
   "name": "python3"
  },
  "language_info": {
   "codemirror_mode": {
    "name": "ipython",
    "version": 3
   },
   "file_extension": ".py",
   "mimetype": "text/x-python",
   "name": "python",
   "nbconvert_exporter": "python",
   "pygments_lexer": "ipython3",
   "version": "3.11.5"
  },
  "orig_nbformat": 4
 },
 "nbformat": 4,
 "nbformat_minor": 2
}
