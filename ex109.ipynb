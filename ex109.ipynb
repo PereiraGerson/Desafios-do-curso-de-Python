{
 "cells": [
  {
   "cell_type": "code",
   "execution_count": null,
   "metadata": {},
   "outputs": [],
   "source": [
    "# Desafio 109 - Modifique as funções que foram criadas no desafio 107 para que elas aceitem um parâmentro a mais, informando se o valor retornado por eles vai ser ou não formatado pelo moeda(), desenvolvido no 108.\n"
   ]
  }
 ],
 "metadata": {
  "language_info": {
   "name": "python"
  }
 },
 "nbformat": 4,
 "nbformat_minor": 2
}
