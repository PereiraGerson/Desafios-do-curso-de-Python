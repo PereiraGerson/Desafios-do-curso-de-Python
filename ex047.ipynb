{
 "cells": [
  {
   "cell_type": "code",
   "execution_count": null,
   "metadata": {},
   "outputs": [],
   "source": [
    "# Desafio 047 - Crie um programa que mostre na tela todos os números pares que estão no intervalo entre 1 e 50."
   ]
  }
 ],
 "metadata": {
  "language_info": {
   "name": "python"
  }
 },
 "nbformat": 4,
 "nbformat_minor": 2
}
