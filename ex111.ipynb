{
 "cells": [
  {
   "cell_type": "code",
   "execution_count": null,
   "metadata": {},
   "outputs": [],
   "source": [
    "# Desafio 111 - Crie um pacote chamado UtilidadesCev que tenha dois módulos internos chamados moeda e dado. Transfira todas as funções utilizadas no desafio 107, 108, 109, para o primeiro pacote e mantenha tudo funcionando."
   ]
  }
 ],
 "metadata": {
  "language_info": {
   "name": "python"
  }
 },
 "nbformat": 4,
 "nbformat_minor": 2
}
