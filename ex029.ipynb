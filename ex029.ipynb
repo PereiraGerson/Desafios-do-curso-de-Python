{
 "cells": [
  {
   "cell_type": "code",
   "execution_count": 1,
   "metadata": {},
   "outputs": [],
   "source": [
    "# Desafio 029 - Escreva um programa que leia a velocidade de um carro.\n",
    "# Se ele ultrapassar a velocidade de 80km mostra uma mensagem que diz que foi multado.\n",
    "# A multa vai custar 7 reais  por cada km acima da velicade limite."
   ]
  },
  {
   "cell_type": "code",
   "execution_count": 6,
   "metadata": {},
   "outputs": [
    {
     "name": "stdout",
     "output_type": "stream",
     "text": [
      "A velocidade maxima é de \u001b[0;33;41m 80km. Você ultrapassou a velocidade permitida. A multa é de R$1771.00\n",
      "Tenha um bom dia!\n"
     ]
    }
   ],
   "source": [
    "velocidade = int(input(\"Qual é a velicidae do veiculo?: \"))\n",
    "multa = (velocidade - 80) * 7\n",
    "\n",
    "if velocidade > 80:\n",
    "    print(f\"A velocidade maxima é de \\33[0;33;41m 80km. Você ultrapassou a velocidade permitida. A multa é de R${multa:.2f}\")\n",
    "    print(\"Tenha um bom dia!\")\n",
    "else:\n",
    "    print('voce não ultapassou a velocidade permitida')"
   ]
  }
 ],
 "metadata": {
  "kernelspec": {
   "display_name": "Python 3",
   "language": "python",
   "name": "python3"
  },
  "language_info": {
   "codemirror_mode": {
    "name": "ipython",
    "version": 3
   },
   "file_extension": ".py",
   "mimetype": "text/x-python",
   "name": "python",
   "nbconvert_exporter": "python",
   "pygments_lexer": "ipython3",
   "version": "3.12.0"
  }
 },
 "nbformat": 4,
 "nbformat_minor": 2
}
