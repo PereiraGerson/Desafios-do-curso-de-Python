{
 "cells": [
  {
   "cell_type": "code",
   "execution_count": null,
   "metadata": {},
   "outputs": [],
   "source": [
    "# Desafio 95 - Aprimore o desafio 93 para que ele funcione com vários jogadores, incluindo um sistema de visualização de detalhes do aproveitamento de cada jogador."
   ]
  },
  {
   "cell_type": "code",
   "execution_count": 56,
   "metadata": {},
   "outputs": [
    {
     "name": "stdout",
     "output_type": "stream",
     "text": [
      "[{'Nome': 'gerson', 'Partidas': 2, 'Gols por Partida': [1, 2], 'Aproveitamento': 1.5}, {'Nome': 'Joel', 'Partidas': 1, 'Gols por Partida': [0], 'Aproveitamento': 0.0}, {'Nome': 'Cauã', 'Partidas': 3, 'Gols por Partida': [0, 1, 0], 'Aproveitamento': 0.3333333333333333}, {'Nome': 'Abel', 'Partidas': 0, 'Gols por Partida': [], 'Aproveitamento': 0}]\n"
     ]
    }
   ],
   "source": [
    "\n",
    "time = list()\n",
    "while True:\n",
    "    nome = str(input('Digite o nome do Jogador: ')).strip()\n",
    "    partidas = int(input(f'Digite quantas partidas o {nome} jogou: '))\n",
    "    gol = list()\n",
    "    for x in range(1, partidas+1):\n",
    "        gols = int(input(f'Quantos gols o {nome} marcou na {x}° partida: '))\n",
    "        gol.append(gols)\n",
    "    aproveitamento = sum(gol) / partidas if partidas > 0 else 0\n",
    "    jogador = {'Nome' : nome, 'Partidas' : partidas, 'Gols por Partida' : gol, 'Aproveitamento' : aproveitamento}\n",
    "    time.append(jogador)\n",
    "\n",
    "    stop = str(input('Deseja continuar:[S/N]')).strip().upper()[0]\n",
    "    if stop == 'N':\n",
    "        break\n",
    "\n",
    "print(time)"
   ]
  },
  {
   "cell_type": "code",
   "execution_count": 138,
   "metadata": {},
   "outputs": [
    {
     "name": "stdout",
     "output_type": "stream",
     "text": [
      "=========================\n",
      "SISTEMA DE VISUALIZAÇÃO\n",
      "=========================\n",
      "0 gerson\n",
      "1 Joel\n",
      "2 Cauã\n",
      "3 Abel\n",
      "=========================\n",
      "Escolha um jogador de acordo com o índice: \n",
      "Nome gerson\n",
      "Partidas 2\n",
      "Gols por Partida [1, 2]\n",
      "Aproveitamento 1.5\n"
     ]
    }
   ],
   "source": [
    "print('='*25)\n",
    "print('SISTEMA DE VISUALIZAÇÃO')\n",
    "print('='*25)\n",
    "\n",
    "for indice, jogador in enumerate(time):\n",
    "    nome = jogador.get('Nome')\n",
    "    print(indice, nome)\n",
    "print('='*25)\n",
    "\n",
    "print('Escolha um jogador de acordo com o índice: ')\n",
    "var1 = int(input('Digite um número para exibir os dados do jogador: '))\n",
    "\n",
    "player = time[var1]\n",
    "\n",
    "for k,v in player.items():\n",
    "    print(k,v)"
   ]
  },
  {
   "cell_type": "code",
   "execution_count": 169,
   "metadata": {},
   "outputs": [
    {
     "name": "stdout",
     "output_type": "stream",
     "text": [
      "g\n",
      "e\n",
      "r\n",
      "s\n",
      "o\n",
      "n\n",
      "gerson\n",
      "Joel\n",
      "Cauã\n",
      "Abel\n"
     ]
    }
   ],
   "source": [
    "for i in time[0]['Nome']:\n",
    "    print(i)\n",
    "for jogador in time:\n",
    "    print(jogador['Nome'])"
   ]
  }
 ],
 "metadata": {
  "kernelspec": {
   "display_name": "Python 3",
   "language": "python",
   "name": "python3"
  },
  "language_info": {
   "codemirror_mode": {
    "name": "ipython",
    "version": 3
   },
   "file_extension": ".py",
   "mimetype": "text/x-python",
   "name": "python",
   "nbconvert_exporter": "python",
   "pygments_lexer": "ipython3",
   "version": "3.12.0"
  }
 },
 "nbformat": 4,
 "nbformat_minor": 2
}
