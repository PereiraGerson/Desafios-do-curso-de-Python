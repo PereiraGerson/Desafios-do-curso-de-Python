{
 "cells": [
  {
   "cell_type": "code",
   "execution_count": null,
   "metadata": {},
   "outputs": [],
   "source": [
    "# Desafio 066 - Crie um programa que leie varios números inteiros pelo teclado. O programa só vai parar quando o usuário digitar 999, que é a condição de parada. No final, mostre quantos números foram digitados e qual foi a soma entre eles. Desconsiderando o número 999."
   ]
  },
  {
   "cell_type": "code",
   "execution_count": 34,
   "metadata": {},
   "outputs": [
    {
     "name": "stdout",
     "output_type": "stream",
     "text": [
      "Você digitou 2 números e a soma entre eles são: 6\n"
     ]
    }
   ],
   "source": [
    "num = 0\n",
    "quantos_numeros = 0\n",
    "numero = 0\n",
    "while numero != 999: \n",
    "    quantos_numeros += numero\n",
    "    numero = int(input('Digite um número qualquer ou 999 pra parar: '))\n",
    "    if numero == 999:\n",
    "        break\n",
    "    num += 1\n",
    "    \n",
    "    \n",
    "print(f'Você digitou {num} números e a soma entre eles são: {quantos_numeros}')"
   ]
  }
 ],
 "metadata": {
  "kernelspec": {
   "display_name": "Python 3",
   "language": "python",
   "name": "python3"
  },
  "language_info": {
   "codemirror_mode": {
    "name": "ipython",
    "version": 3
   },
   "file_extension": ".py",
   "mimetype": "text/x-python",
   "name": "python",
   "nbconvert_exporter": "python",
   "pygments_lexer": "ipython3",
   "version": "3.12.0"
  }
 },
 "nbformat": 4,
 "nbformat_minor": 2
}
