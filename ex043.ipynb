{
 "cells": [
  {
   "cell_type": "code",
   "execution_count": null,
   "metadata": {},
   "outputs": [],
   "source": [
    "# Desafio 043 - Desenvolva uma lógica que leia o peso a altura de uma pessoa, calcule seu IMC e mostre seu status, de acordo com a tabela abaixo.\n",
    "# - Abaixo de 18.5: Abaixo do peso.\n",
    "# - Entre 18.5 e 25: peso ideal.\n",
    "# - Entre 25 e 30: Sobrepeso.\n",
    "# - Entre 30 e 40: Obeso.\n",
    "# - Acima de 40: Obesidade Mórbida."
   ]
  }
 ],
 "metadata": {
  "language_info": {
   "name": "python"
  }
 },
 "nbformat": 4,
 "nbformat_minor": 2
}
