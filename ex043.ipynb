{
 "cells": [
  {
   "cell_type": "code",
   "execution_count": null,
   "metadata": {},
   "outputs": [],
   "source": [
    "# Desafio 043 - Desenvolva uma lógica que leia o peso a altura de uma pessoa, calcule seu IMC e mostre seu status, de acordo com a tabela abaixo.\n",
    "# - Abaixo de 18.5: Abaixo do peso.\n",
    "# - Entre 18.5 e 25: peso ideal.\n",
    "# - Entre 25 e 30: Sobrepeso.\n",
    "# - Entre 30 e 40: Obeso.\n",
    "# - Acima de 40: Obesidade Mórbida."
   ]
  },
  {
   "cell_type": "code",
   "execution_count": 45,
   "metadata": {},
   "outputs": [
    {
     "name": "stdout",
     "output_type": "stream",
     "text": [
      "imc = 0.0021\n",
      "Peso normal\n"
     ]
    }
   ],
   "source": [
    "peso = float(input('Digite seu peso: '))\n",
    "altura = float(input('Digite sua altura: '))\n",
    "\n",
    "imc = peso / (altura * altura)\n",
    "\n",
    "print('imc = {:.4f}'.format(imc))\n",
    "\n",
    "\n",
    "if imc < 0.0018:\n",
    "    print('Abaixo do peso')\n",
    "elif imc < 0.0024:\n",
    "    print('Peso normal')\n",
    "elif imc < 0.0029:\n",
    "    print('Sobrepeso')\n",
    "\n",
    "elif imc < 0.0039:\n",
    "    print('Obesidade I')\n",
    "\n",
    "elif imc < 0.0049:\n",
    "    print('Obesidade II')\n"
   ]
  }
 ],
 "metadata": {
  "kernelspec": {
   "display_name": "Python 3",
   "language": "python",
   "name": "python3"
  },
  "language_info": {
   "codemirror_mode": {
    "name": "ipython",
    "version": 3
   },
   "file_extension": ".py",
   "mimetype": "text/x-python",
   "name": "python",
   "nbconvert_exporter": "python",
   "pygments_lexer": "ipython3",
   "version": "3.12.0"
  }
 },
 "nbformat": 4,
 "nbformat_minor": 2
}
