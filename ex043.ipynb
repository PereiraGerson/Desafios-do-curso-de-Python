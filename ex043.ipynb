{
 "cells": [
  {
   "cell_type": "code",
   "execution_count": null,
   "metadata": {},
   "outputs": [],
   "source": [
    "# Desafio 043 - Desenvolva uma lógica que leia o peso a altura de uma pessoa, calcule seu IMC e mostre seu status, de acordo com a tabela abaixo.\n",
    "# - Abaixo de 18.5: Abaixo do peso.\n",
    "# - Entre 18.5 e 25: peso ideal.\n",
    "# - Entre 25 e 30: Sobrepeso.\n",
    "# - Entre 30 e 40: Obeso.\n",
    "# - Acima de 40: Obesidade Mórbida."
   ]
  },
  {
   "cell_type": "code",
   "execution_count": 10,
   "metadata": {},
   "outputs": [
    {
     "name": "stdout",
     "output_type": "stream",
     "text": [
      "imc = 330.58\n",
      "Obesidade II\n"
     ]
    }
   ],
   "source": [
    "peso = float(input('Digite seu peso: '))\n",
    "altura = float(input('Digite sua altura EM Mt.: '))\n",
    "\n",
    "imc = peso / (altura ** 2 )\n",
    "\n",
    "print('imc = {:.2f}'.format(imc))\n",
    "\n",
    "\n",
    "if imc <= 18:\n",
    "    print('Abaixo do peso')\n",
    "elif imc <= 25:\n",
    "    print('Peso normal')\n",
    "elif imc <= 30:\n",
    "    print('Sobrepeso')\n",
    "elif imc <= 40:\n",
    "    print('Obesidade I')\n",
    "else:\n",
    "    print('Obesidade II')\n"
   ]
  }
 ],
 "metadata": {
  "kernelspec": {
   "display_name": "Python 3",
   "language": "python",
   "name": "python3"
  },
  "language_info": {
   "codemirror_mode": {
    "name": "ipython",
    "version": 3
   },
   "file_extension": ".py",
   "mimetype": "text/x-python",
   "name": "python",
   "nbconvert_exporter": "python",
   "pygments_lexer": "ipython3",
   "version": "3.12.0"
  }
 },
 "nbformat": 4,
 "nbformat_minor": 2
}
