{
 "cells": [
  {
   "cell_type": "code",
   "execution_count": null,
   "metadata": {},
   "outputs": [],
   "source": [
    "# Desafio 050 - Desenvolva um programa que leia seis números inteiros e mostre a soma apenas daqueles que foram pares. Se o valor digitado for impar, desconsidere-o."
   ]
  },
  {
   "cell_type": "code",
   "execution_count": 31,
   "metadata": {},
   "outputs": [
    {
     "name": "stdout",
     "output_type": "stream",
     "text": [
      "Os números pares que você digitou foram  [4, 6, 8]\n",
      "A soma desses números são:  18\n"
     ]
    }
   ],
   "source": [
    "um = int(input('Digite o primeiro número: '))\n",
    "dois = int(input('Digite o segundo número: '))\n",
    "tres = int(input('Digite o terceiro número: '))\n",
    "quatro = int(input('Digite o quarto número: '))\n",
    "cinco = int(input('Digite o quinto número: '))\n",
    "seis = int(input('Digite o sexto número: '))\n",
    "\n",
    "lista_numeros = [um, dois, tres, quatro, cinco , seis]\n",
    "nova_lista = []\n",
    "for x in lista_numeros:\n",
    "    novo = x % 2\n",
    "    if novo == 0:\n",
    "        nova_lista.append(x)\n",
    "print('Os números pares que você digitou foram ', nova_lista)\n",
    "print('A soma desses números são: ', sum(nova_lista))\n",
    "\n"
   ]
  }
 ],
 "metadata": {
  "kernelspec": {
   "display_name": "Python 3",
   "language": "python",
   "name": "python3"
  },
  "language_info": {
   "codemirror_mode": {
    "name": "ipython",
    "version": 3
   },
   "file_extension": ".py",
   "mimetype": "text/x-python",
   "name": "python",
   "nbconvert_exporter": "python",
   "pygments_lexer": "ipython3",
   "version": "3.12.0"
  }
 },
 "nbformat": 4,
 "nbformat_minor": 2
}
