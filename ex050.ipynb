{
 "cells": [
  {
   "cell_type": "code",
   "execution_count": null,
   "metadata": {},
   "outputs": [],
   "source": [
    "# Desafio 050 - Desenvolva um programa que leia seis números inteiros e mostre a soma apenas daqueles que foram pares. Se o valor digitado for impar, desconsidere-o."
   ]
  },
  {
   "cell_type": "code",
   "execution_count": 42,
   "metadata": {},
   "outputs": [
    {
     "name": "stdout",
     "output_type": "stream",
     "text": [
      "Os números pares que você digitou foram  [2, 4, 6]\n",
      "A soma desses números são:  12\n"
     ]
    }
   ],
   "source": [
    "lista_numeros = [int(input('Digite seis número: ')) for i in range(6)]\n",
    "\n",
    "numeros_pares = [x for x in lista_numeros if x % 2 == 0]\n",
    "\n",
    "print('Os números pares que você digitou foram ', numeros_pares)\n",
    "print('A soma desses números são: ', sum(numeros_pares))\n",
    "\n"
   ]
  }
 ],
 "metadata": {
  "kernelspec": {
   "display_name": "Python 3",
   "language": "python",
   "name": "python3"
  },
  "language_info": {
   "codemirror_mode": {
    "name": "ipython",
    "version": 3
   },
   "file_extension": ".py",
   "mimetype": "text/x-python",
   "name": "python",
   "nbconvert_exporter": "python",
   "pygments_lexer": "ipython3",
   "version": "3.12.0"
  }
 },
 "nbformat": 4,
 "nbformat_minor": 2
}
