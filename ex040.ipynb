{
 "cells": [
  {
   "cell_type": "code",
   "execution_count": null,
   "metadata": {},
   "outputs": [],
   "source": [
    "# Desafio 040 - Crie um programa que leia duas notas de um aluno e calcule sua média, mostrando uma mensagem no final, de acordo com a média atingida. \n",
    "# - Média abaixo de 5 : REPROVADO\n",
    "# - Média entre 5 e 6.9: RECUPERAÇÃO\n",
    "# - Média 7 ou superior: APROVADO."
   ]
  }
 ],
 "metadata": {
  "language_info": {
   "name": "python"
  }
 },
 "nbformat": 4,
 "nbformat_minor": 2
}
