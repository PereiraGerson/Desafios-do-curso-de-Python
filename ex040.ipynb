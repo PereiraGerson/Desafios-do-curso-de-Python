{
 "cells": [
  {
   "cell_type": "code",
   "execution_count": null,
   "metadata": {},
   "outputs": [],
   "source": [
    "# Desafio 040 - Crie um programa que leia duas notas de um aluno e calcule sua média, mostrando uma mensagem no final, de acordo com a média atingida. \n",
    "# - Média abaixo de 5 : REPROVADO\n",
    "# - Média entre 5 e 6.9: RECUPERAÇÃO\n",
    "# - Média 7 ou superior: APROVADO."
   ]
  },
  {
   "cell_type": "code",
   "execution_count": 7,
   "metadata": {},
   "outputs": [
    {
     "name": "stdout",
     "output_type": "stream",
     "text": [
      "sua média foi de: 4.95\n",
      "Aluno reprovado\n"
     ]
    }
   ],
   "source": [
    "nota1 = float(input('Digite a primeira nota do aluno: '))\n",
    "nota2 = float(input('Digite a segunda nota do aluno: '))\n",
    "\n",
    "media = (nota1 + nota2) / 2\n",
    "print('sua média foi de:', media)\n",
    "\n",
    "if media >= 7:\n",
    "    print('Aluno aprovado')\n",
    "elif media  < 5:\n",
    "    print('Aluno reprovado')\n",
    "else:\n",
    "    print('Aluno em recuperação')"
   ]
  }
 ],
 "metadata": {
  "kernelspec": {
   "display_name": "Python 3",
   "language": "python",
   "name": "python3"
  },
  "language_info": {
   "codemirror_mode": {
    "name": "ipython",
    "version": 3
   },
   "file_extension": ".py",
   "mimetype": "text/x-python",
   "name": "python",
   "nbconvert_exporter": "python",
   "pygments_lexer": "ipython3",
   "version": "3.12.0"
  }
 },
 "nbformat": 4,
 "nbformat_minor": 2
}
