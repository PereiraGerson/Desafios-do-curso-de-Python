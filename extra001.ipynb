{
 "cells": [
  {
   "cell_type": "code",
   "execution_count": null,
   "metadata": {},
   "outputs": [],
   "source": [
    "# QUESTÃO 1. Um professor de Matemática deseja construir um programa para gerar uma Progressão Aritmética (PA). Para isso, devem ser informados 3 parâmetros de entrada: a) primeiro termo da PA, b) quantidade de termos da PA e c) razão dessa PA. Construa um programa para carregar e imprimir uma lista contendo os termos da PA, bem como a soma dos elementos da PA."
   ]
  },
  {
   "cell_type": "code",
   "execution_count": 34,
   "metadata": {},
   "outputs": [
    {
     "name": "stdout",
     "output_type": "stream",
     "text": [
      "Primeiro Parametro = -5\n",
      "Quantidade de Termos = 5\n",
      "Razão da P.A. = 3\n",
      "Assim temos a seguinte P.A. = [-5, -2, 1, 4, 7]\n",
      "A soma de todos os elementõs são 5\n"
     ]
    }
   ],
   "source": [
    "parametro_A = int(input('Digite o primeiro termo da P.A.: '))\n",
    "quantidade = int(input('Digite quantos termos terão a P.A.: '))\n",
    "razão = int(input('Digite a Razão da P.A.: '))\n",
    "\n",
    "progressão = [parametro_A]\n",
    "\n",
    "for x in range(1, quantidade):\n",
    "    novo = parametro_A + razão\n",
    "    progressão.append(novo)\n",
    "    parametro_A = novo\n",
    "\n",
    "largura = 20\n",
    "texto_formatado = f'''Primeiro Parametro = {progressão[0]}\n",
    "Quantidade de Termos = {quantidade}\n",
    "Razão da P.A. = {razão}\n",
    "Assim temos a seguinte P.A. = {progressão}\n",
    "A soma de todos os elementõs são {sum(progressão)}'''\n",
    "\n",
    "texto_centralizado = texto_formatado.center(largura)\n",
    "\n",
    "print(texto_centralizado)\n"
   ]
  }
 ],
 "metadata": {
  "kernelspec": {
   "display_name": "Python 3",
   "language": "python",
   "name": "python3"
  },
  "language_info": {
   "codemirror_mode": {
    "name": "ipython",
    "version": 3
   },
   "file_extension": ".py",
   "mimetype": "text/x-python",
   "name": "python",
   "nbconvert_exporter": "python",
   "pygments_lexer": "ipython3",
   "version": "3.12.0"
  }
 },
 "nbformat": 4,
 "nbformat_minor": 2
}
