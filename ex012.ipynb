{
 "cells": [
  {
   "cell_type": "code",
   "execution_count": null,
   "metadata": {},
   "outputs": [],
   "source": [
    "# Desafio 012 - Faça um algoritmo que leia o preço de um produto e mostre seu novo preço, com 5% de desconto."
   ]
  },
  {
   "cell_type": "code",
   "execution_count": 2,
   "metadata": {},
   "outputs": [
    {
     "name": "stdout",
     "output_type": "stream",
     "text": [
      "O produto custava 100.0, você teve um desconto de 5.0, o produto agora custa 95.0\n"
     ]
    }
   ],
   "source": [
    "preco_produto = float(input('Qual é o preço do produto?: '))\n",
    "desconto = preco_produto * 0.05\n",
    "novo_preço = preco_produto - desconto\n",
    "print('O produto custava R$ {}, você teve um desconto de R$ {}, o produto agora custa R${}'.format(preco_produto, desconto, novo_preço))"
   ]
  }
 ],
 "metadata": {
  "kernelspec": {
   "display_name": "Python 3",
   "language": "python",
   "name": "python3"
  },
  "language_info": {
   "codemirror_mode": {
    "name": "ipython",
    "version": 3
   },
   "file_extension": ".py",
   "mimetype": "text/x-python",
   "name": "python",
   "nbconvert_exporter": "python",
   "pygments_lexer": "ipython3",
   "version": "3.11.5"
  },
  "orig_nbformat": 4
 },
 "nbformat": 4,
 "nbformat_minor": 2
}
