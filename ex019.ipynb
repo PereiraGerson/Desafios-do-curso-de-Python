{
 "cells": [
  {
   "cell_type": "code",
   "execution_count": 1,
   "metadata": {},
   "outputs": [],
   "source": [
    "# Desafio 019 - Um professor quer sortear um dos seus 4 alunos para apagar o quadro. Faça um programa que sorteie um aluno para isso."
   ]
  },
  {
   "cell_type": "code",
   "execution_count": 2,
   "metadata": {},
   "outputs": [],
   "source": [
    "import random"
   ]
  },
  {
   "cell_type": "code",
   "execution_count": 7,
   "metadata": {},
   "outputs": [
    {
     "name": "stdout",
     "output_type": "stream",
     "text": [
      "O aluno escolhido foi joel\n"
     ]
    }
   ],
   "source": [
    "alunos = str(input(\"Digite o nome do 1° aluno: \"))\n",
    "alunos2 = str(input(\"Digite o nome do 2° aluno: \"))\n",
    "alunos3 = str(input(\"Digite o nome do 3° aluno: \"))\n",
    "alunos4 = str(input(\"Digite o nome do 4° aluno: \"))\n",
    "\n",
    "lista = [alunos, alunos2, alunos3, alunos4]\n",
    "\n",
    "sorteado = random.choice(lista)\n",
    "\n",
    "print('O aluno escolhido foi {}'.format(sorteado))\n"
   ]
  }
 ],
 "metadata": {
  "kernelspec": {
   "display_name": "base",
   "language": "python",
   "name": "python3"
  },
  "language_info": {
   "codemirror_mode": {
    "name": "ipython",
    "version": 3
   },
   "file_extension": ".py",
   "mimetype": "text/x-python",
   "name": "python",
   "nbconvert_exporter": "python",
   "pygments_lexer": "ipython3",
   "version": "3.11.4"
  }
 },
 "nbformat": 4,
 "nbformat_minor": 2
}
