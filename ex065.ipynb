{
 "cells": [
  {
   "cell_type": "code",
   "execution_count": null,
   "metadata": {},
   "outputs": [],
   "source": [
    "# Desafio 065 - Crie um programa que leia varios números inteiros pelo teclado. No final da execução mostre a média entre todos os valores e qual foi o maior e o menor digitado. O programa deve perguntar ao usuário se ele quer ou não continuar a digitar mais valores."
   ]
  }
 ],
 "metadata": {
  "language_info": {
   "name": "python"
  }
 },
 "nbformat": 4,
 "nbformat_minor": 2
}
