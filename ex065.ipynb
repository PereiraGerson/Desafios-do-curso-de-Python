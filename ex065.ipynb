{
 "cells": [
  {
   "cell_type": "code",
   "execution_count": null,
   "metadata": {},
   "outputs": [],
   "source": [
    "# Desafio 065 - Crie um programa que leia varios números inteiros pelo teclado. No final da execução mostre a média entre todos os valores e qual foi o maior e o menor digitado. O programa deve perguntar ao usuário se ele quer ou não continuar a digitar mais valores."
   ]
  },
  {
   "cell_type": "code",
   "execution_count": 14,
   "metadata": {},
   "outputs": [
    {
     "name": "stdout",
     "output_type": "stream",
     "text": [
      "Voce digitou a seguinte lista [5, 5, 5, 5]\n",
      "O maior valor é: 5 e o menor valor é: 5\n",
      "A soma de todos os valores são: 20 e a média entre eles é 5.00\n"
     ]
    }
   ],
   "source": [
    "contagem = []\n",
    "media = 0\n",
    "\n",
    "while True:\n",
    "    num = int(input('Digite algum número ou digite 999 para parar o programa: '))\n",
    "    if num == 999:\n",
    "        break\n",
    "    contagem.append(num)\n",
    "    media += 1\n",
    "    \n",
    "    \n",
    "print(f'Voce digitou os seguintes números: {contagem}')\n",
    "print(f'O maior valor é: {max(contagem)} e o menor valor é: {min(contagem)}')\n",
    "print('A soma de todos os valores são: {} e a média entre eles é {:.2f}'.format(sum(contagem), sum(contagem) / media))"
   ]
  }
 ],
 "metadata": {
  "kernelspec": {
   "display_name": "Python 3",
   "language": "python",
   "name": "python3"
  },
  "language_info": {
   "codemirror_mode": {
    "name": "ipython",
    "version": 3
   },
   "file_extension": ".py",
   "mimetype": "text/x-python",
   "name": "python",
   "nbconvert_exporter": "python",
   "pygments_lexer": "ipython3",
   "version": "3.12.0"
  }
 },
 "nbformat": 4,
 "nbformat_minor": 2
}
