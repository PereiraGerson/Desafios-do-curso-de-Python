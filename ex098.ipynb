{
 "cells": [
  {
   "cell_type": "code",
   "execution_count": null,
   "metadata": {},
   "outputs": [],
   "source": [
    "# Desafio 98 - Faça um programa que tenha uma função chamada contador(), que receba três parêmetros: inicio, fim e passo e realize a contagem: \n",
    "# Seu programa precisa realizar três contagem apartir da função criada.\n",
    "# a) de 1 até 10 de 1 em 1\n",
    "# b) de 10 até 0 de 2 em 2\n",
    "# c) Uma contagem personalizada."
   ]
  },
  {
   "cell_type": "code",
   "execution_count": 64,
   "metadata": {},
   "outputs": [
    {
     "name": "stdout",
     "output_type": "stream",
     "text": [
      "===================================\n",
      "Contagem de 1 até 10 de 1 em 1.\n",
      "1  2  3  4  5  6  7  8  9  10  FIM!\n",
      "===================================\n",
      "Contagem de 10 até 0 de 2 em 2.\n",
      "10  8  6  4  2  FIM!\n",
      "===================================\n",
      "Agora é a sua vez de personalizar a contagem: \n",
      "-10  -6  -2  2  6  FIM!\n"
     ]
    }
   ],
   "source": [
    "import time\n",
    "def contador(i , f , p):\n",
    "    print('='*35)\n",
    "    print('Contagem de 1 até 10 de 1 em 1.')\n",
    "    for x in range(10):\n",
    "        print(x+1,' ' , end='')\n",
    "        # time.sleep(0.5)\n",
    "    print('FIM!')\n",
    "    \n",
    "    print('='*35)\n",
    "    print('Contagem de 10 até 0 de 2 em 2.')\n",
    "    for x in range(10, 0, -2):\n",
    "        print(x,' ' , end='')\n",
    "        # time.sleep(0.5)\n",
    "    print('FIM!')\n",
    "    print('='*35)\n",
    "    \n",
    "    print('Agora é a sua vez de personalizar a contagem: ')\n",
    "    i = int(i)\n",
    "    f = int(f)\n",
    "    p = int(p)\n",
    "    \n",
    "    if f < i and p > 0:\n",
    "        p = -p\n",
    "    elif f > i:\n",
    "        p = -p\n",
    "        \n",
    "    for i in range(i, f, p):\n",
    "        print(i,' ', end='')\n",
    "        time.sleep(0.5)\n",
    "        \n",
    "    print('FIM!')\n",
    "    \n",
    "contador(-10,10, -4)"
   ]
  }
 ],
 "metadata": {
  "kernelspec": {
   "display_name": "Python 3",
   "language": "python",
   "name": "python3"
  },
  "language_info": {
   "codemirror_mode": {
    "name": "ipython",
    "version": 3
   },
   "file_extension": ".py",
   "mimetype": "text/x-python",
   "name": "python",
   "nbconvert_exporter": "python",
   "pygments_lexer": "ipython3",
   "version": "3.12.0"
  }
 },
 "nbformat": 4,
 "nbformat_minor": 2
}
