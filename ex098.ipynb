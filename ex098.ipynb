{
 "cells": [
  {
   "cell_type": "code",
   "execution_count": null,
   "metadata": {},
   "outputs": [],
   "source": [
    "# Desafio 98 - Faça um programa que tenha uma função chamada contador(), que receba três parêmetros: inicio, fim e passo e realize a contagem: \n",
    "# Seu programa precisa realizar três contagem apartir da função criada.\n",
    "# a) de 1 até 10 de 1 em 1\n",
    "# b) de 10 até 0 de 2 em 2\n",
    "# c) Uma contagem personalizada."
   ]
  }
 ],
 "metadata": {
  "language_info": {
   "name": "python"
  }
 },
 "nbformat": 4,
 "nbformat_minor": 2
}
