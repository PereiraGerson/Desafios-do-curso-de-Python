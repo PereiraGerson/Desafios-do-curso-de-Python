{
 "cells": [
  {
   "cell_type": "code",
   "execution_count": null,
   "metadata": {},
   "outputs": [],
   "source": [
    "# Desafio 069 - Crie um programa que leia a idade e o sexo de várias pessoas. A cada pessoa cadastrada, o programa deve perguntar se o usuário quer ou não continuar.\n",
    "# no final mostre:\n",
    "\n",
    "# A) Quantas pessoas tem mais de 18 anos.\n",
    "# B) Quantos homens foram cadastrado.\n",
    "# C) Quantas mulheres tem menos de 20 anos."
   ]
  },
  {
   "cell_type": "code",
   "execution_count": 23,
   "metadata": {},
   "outputs": [
    {
     "name": "stdout",
     "output_type": "stream",
     "text": [
      "Digite a opção correta\n",
      "Pessoas com mais de 18 = 1\n",
      "Homens cadastrado = 1\n",
      "Mulheres com menos de 20 anos = 1\n"
     ]
    }
   ],
   "source": [
    "\n",
    "maior_idade = 0\n",
    "homens_cadastro = 0\n",
    "mulheres_menor = 0\n",
    "\n",
    "while True:\n",
    "    idade_id = int(input('Quantos anos tem?: '))\n",
    "    sexo_id = str(input('Qual é o sexo?: [M/F] ')).strip().upper()[0]\n",
    "    stop = str(input('Deseja continuar?[S/N] ')).strip().upper()[0]\n",
    "    if idade_id >= 18:\n",
    "        maior_idade += 1\n",
    "    if sexo_id == 'M':\n",
    "        homens_cadastro += 1\n",
    "    if sexo_id == 'F' and idade_id < 20:\n",
    "        mulheres_menor += 1\n",
    "    if stop == 'N':\n",
    "        break\n",
    "        \n",
    "print(f'Pessoas com mais de 18 = {maior_idade}')  \n",
    "print(f'Homens cadastrado = {homens_cadastro}')\n",
    "print(f'Mulheres com menos de 20 anos = {mulheres_menor}')  \n",
    "    \n",
    "    "
   ]
  },
  {
   "cell_type": "code",
   "execution_count": null,
   "metadata": {},
   "outputs": [],
   "source": [
    "maior_idade = 0\n",
    "homens_cadastro = 0\n",
    "mulheres_menor = 0\n",
    "\n",
    "while True:\n",
    "    stop = str(input('Deseja continuar?[S/N] ')).strip().upper()[0]\n",
    "    if stop == 'N':\n",
    "        break\n",
    "    idade_id = int(input('Quantos anos tem?: '))\n",
    "    sexo_id = str(input('Qual é o sexo?: [M/F] ')).strip().upper()[0]\n",
    "    \n",
    "    if idade_id >= 18:\n",
    "        maior_idade += 1\n",
    "    if sexo_id == 'M':\n",
    "        homens_cadastro += 1\n",
    "    if sexo_id == 'F' and idade_id < 20:\n",
    "        mulheres_menor += 1\n",
    "\n",
    "print(f'Pessoas com mais de 18 anos: {maior_idade}')  \n",
    "print(f'Homens cadastrados: {homens_cadastro}')\n",
    "print(f'Mulheres com menos de 20 anos: {mulheres_menor}')\n"
   ]
  }
 ],
 "metadata": {
  "kernelspec": {
   "display_name": "Python 3",
   "language": "python",
   "name": "python3"
  },
  "language_info": {
   "codemirror_mode": {
    "name": "ipython",
    "version": 3
   },
   "file_extension": ".py",
   "mimetype": "text/x-python",
   "name": "python",
   "nbconvert_exporter": "python",
   "pygments_lexer": "ipython3",
   "version": "3.12.0"
  }
 },
 "nbformat": 4,
 "nbformat_minor": 2
}
