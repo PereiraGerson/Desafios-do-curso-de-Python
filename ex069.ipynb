{
 "cells": [
  {
   "cell_type": "code",
   "execution_count": null,
   "metadata": {},
   "outputs": [],
   "source": [
    "# Desafio 069 - Crie um programa que leia a idade e o sexo de várias pessoas. A cada pessoa cadastrada, o programa deve perguntar se o usuário quer ou não continuar.\n",
    "# no final mostre:\n",
    "\n",
    "# A) Quantas pessoas tem mais de 18 anos.\n",
    "# B) Quantos homnes foram cadastrado.\n",
    "# C) Quantas mulheres tem menos de 20 anos."
   ]
  }
 ],
 "metadata": {
  "language_info": {
   "name": "python"
  }
 },
 "nbformat": 4,
 "nbformat_minor": 2
}
