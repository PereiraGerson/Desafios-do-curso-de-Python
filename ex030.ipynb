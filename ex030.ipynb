{
 "cells": [
  {
   "cell_type": "code",
   "execution_count": 1,
   "metadata": {},
   "outputs": [],
   "source": [
    "# Desafio 030 - Faça um programa que leia um número inteiro e mostre na tela se é par ou impar."
   ]
  },
  {
   "cell_type": "code",
   "execution_count": 16,
   "metadata": {},
   "outputs": [
    {
     "name": "stdout",
     "output_type": "stream",
     "text": [
      "Você digitou o número 23452 este número é par.\n"
     ]
    }
   ],
   "source": [
    "numero = int(input('Digite um número: '))\n",
    "resto = numero & 1\n",
    "\n",
    "if resto == 0:\n",
    "    print('Você digitou o número {} este número é par.'.format(numero))\n",
    "else:\n",
    "    print('Você digitou o número {} este número é ímpar.'.format(numero))    \n"
   ]
  }
 ],
 "metadata": {
  "kernelspec": {
   "display_name": "Python 3",
   "language": "python",
   "name": "python3"
  },
  "language_info": {
   "codemirror_mode": {
    "name": "ipython",
    "version": 3
   },
   "file_extension": ".py",
   "mimetype": "text/x-python",
   "name": "python",
   "nbconvert_exporter": "python",
   "pygments_lexer": "ipython3",
   "version": "3.12.0"
  }
 },
 "nbformat": 4,
 "nbformat_minor": 2
}
