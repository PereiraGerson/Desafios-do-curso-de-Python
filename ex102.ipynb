{
 "cells": [
  {
   "cell_type": "code",
   "execution_count": null,
   "metadata": {},
   "outputs": [],
   "source": [
    "# Crie um programa que tenha uma funçao chamada fatorial() que receba dois parâmentos: o primeiro que indique que o número a calcular e o outro chamado show, que sera um valor lógico (opcional) indicando se será mostrado ou não na tela o processo de calculo do fatorial.\n",
    "\n",
    "# Obs. o help deve mostrar como usar a função."
   ]
  }
 ],
 "metadata": {
  "language_info": {
   "name": "python"
  }
 },
 "nbformat": 4,
 "nbformat_minor": 2
}
