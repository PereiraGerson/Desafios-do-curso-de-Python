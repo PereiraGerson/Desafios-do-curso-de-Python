{
 "cells": [
  {
   "cell_type": "code",
   "execution_count": null,
   "metadata": {},
   "outputs": [],
   "source": [
    "# Crie um programa que tenha uma funçao chamada fatorial() que receba dois parâmentos: o primeiro que indique que o número a calcular e o outro chamado show, que sera um valor lógico (opcional) indicando se será mostrado ou não na tela o processo de calculo do fatorial.\n",
    "\n",
    "# Obs. o help deve mostrar como usar a função."
   ]
  },
  {
   "cell_type": "code",
   "execution_count": 8,
   "metadata": {},
   "outputs": [
    {
     "name": "stdout",
     "output_type": "stream",
     "text": [
      "99 x 98 x 97 x 96 x 95 x 94 x 93 x 92 x 91 x 90 x 89 x 88 x 87 x 86 x 85 x 84 x 83 x 82 x 81 x 80 x 79 x 78 x 77 x 76 x 75 x 74 x 73 x 72 x 71 x 70 x 69 x 68 x 67 x 66 x 65 x 64 x 63 x 62 x 61 x 60 x 59 x 58 x 57 x 56 x 55 x 54 x 53 x 52 x 51 x 50 x 49 x 48 x 47 x 46 x 45 x 44 x 43 x 42 x 41 x 40 x 39 x 38 x 37 x 36 x 35 x 34 x 33 x 32 x 31 x 30 x 29 x 28 x 27 x 26 x 25 x 24 x 23 x 22 x 21 x 20 x 19 x 18 x 17 x 16 x 15 x 14 x 13 x 12 x 11 x 10 x 9 x 8 x 7 x 6 x 5 x 4 x 3 x 2 x 1 x 0 = 93326215443944152681699238856266700490715968264381621468592963895217599993229915608941463976156518286253697920827223758251185210916864000000000000000000000000\n",
      "<class 'str'>\n"
     ]
    }
   ],
   "source": [
    "\n",
    "\n",
    "def fatorial(n, show=True):\n",
    "    \"\"\"_summary_\n",
    "\n",
    "    Args:\n",
    "        n (_type_): _description_\n",
    "        show (bool, optional): _description_. Defaults to True.\n",
    "    \"\"\"\n",
    "    f = 1\n",
    "    resultado = 1\n",
    "    \n",
    "    if show:\n",
    "        for i in range(n, 0, -1):\n",
    "            print(f * (i-1), end='')\n",
    "            resultado *= i\n",
    "            if i != 1:\n",
    "                print(' x ', end='')\n",
    "            else:\n",
    "                print(f' = {resultado}')\n",
    "        \n",
    "                \n",
    "        resultado = str(resultado)\n",
    "        print(type(resultado))\n",
    "        \n",
    "\n",
    "fatorial(100)"
   ]
  },
  {
   "cell_type": "code",
   "execution_count": 25,
   "metadata": {},
   "outputs": [
    {
     "name": "stdout",
     "output_type": "stream",
     "text": [
      "6\n"
     ]
    }
   ],
   "source": [
    "a = 'python'\n",
    "contador = 0\n",
    "for letra in a:\n",
    "    contador += 1\n",
    "    \n",
    "print(contador)"
   ]
  }
 ],
 "metadata": {
  "kernelspec": {
   "display_name": "Python 3",
   "language": "python",
   "name": "python3"
  },
  "language_info": {
   "codemirror_mode": {
    "name": "ipython",
    "version": 3
   },
   "file_extension": ".py",
   "mimetype": "text/x-python",
   "name": "python",
   "nbconvert_exporter": "python",
   "pygments_lexer": "ipython3",
   "version": "3.12.0"
  }
 },
 "nbformat": 4,
 "nbformat_minor": 2
}
