{
 "cells": [
  {
   "cell_type": "code",
   "execution_count": 1,
   "metadata": {},
   "outputs": [],
   "source": [
    "# Desafio 027 - Faça um programa que leia o nome completo de uma pessoa, mostrando em seguida o primeiro e o último nome separadamente."
   ]
  },
  {
   "cell_type": "code",
   "execution_count": 4,
   "metadata": {},
   "outputs": [
    {
     "name": "stdout",
     "output_type": "stream",
     "text": [
      "gerson pereira de pula\n",
      "Seu primeiro nome é g\n",
      "Seu último nome é a\n"
     ]
    }
   ],
   "source": [
    "nome_completo = str(input(\"Digite seu nome completo: \")).strip()\n",
    "\n",
    "print(nome_completo)\n",
    "\n",
    "nome_completo = nome_completo.split()\n",
    "print('Seu primeiro nome é {}'.format(nome_completo[0]))\n",
    "print('Seu último nome é {}'.format(nome_completo[-1]))"
   ]
  }
 ],
 "metadata": {
  "kernelspec": {
   "display_name": "Python 3",
   "language": "python",
   "name": "python3"
  },
  "language_info": {
   "codemirror_mode": {
    "name": "ipython",
    "version": 3
   },
   "file_extension": ".py",
   "mimetype": "text/x-python",
   "name": "python",
   "nbconvert_exporter": "python",
   "pygments_lexer": "ipython3",
   "version": "3.12.0"
  }
 },
 "nbformat": 4,
 "nbformat_minor": 2
}
