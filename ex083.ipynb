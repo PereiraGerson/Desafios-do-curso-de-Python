{
 "cells": [
  {
   "cell_type": "code",
   "execution_count": null,
   "metadata": {},
   "outputs": [],
   "source": [
    "# Desafio 83 - Crie um programa onde o usuário digita uma expressão qualquer que use parènteses. Seu aplicativo deverá analizar se a expressão passada está com os parênteses abertos ou fechados na ordem correta."
   ]
  },
  {
   "cell_type": "code",
   "execution_count": 68,
   "metadata": {},
   "outputs": [
    {
     "name": "stdout",
     "output_type": "stream",
     "text": [
      "[1, 1]\n",
      "Sua expressão está ERRADA.\n"
     ]
    }
   ],
   "source": [
    "expressao = input('Digite uma expressão: ')\n",
    "abre_parentese = []\n",
    "for x in expressao: \n",
    "    if x == '(':\n",
    "        abre_parentese.append(1)\n",
    "    elif x == ')':\n",
    "        if len(abre_parentese) > 0:\n",
    "            abre_parentese.pop()\n",
    "        \n",
    "print(abre_parentese)\n",
    "if len(abre_parentese) == 0 and expressao.count('(') == expressao.count(')'):\n",
    "    print('Sua expressão está correta.')\n",
    "else:\n",
    "    print('Sua expressão está ERRADA.')"
   ]
  }
 ],
 "metadata": {
  "kernelspec": {
   "display_name": "Python 3",
   "language": "python",
   "name": "python3"
  },
  "language_info": {
   "codemirror_mode": {
    "name": "ipython",
    "version": 3
   },
   "file_extension": ".py",
   "mimetype": "text/x-python",
   "name": "python",
   "nbconvert_exporter": "python",
   "pygments_lexer": "ipython3",
   "version": "3.12.0"
  }
 },
 "nbformat": 4,
 "nbformat_minor": 2
}
