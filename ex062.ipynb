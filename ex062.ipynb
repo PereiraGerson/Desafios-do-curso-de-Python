{
 "cells": [
  {
   "cell_type": "code",
   "execution_count": 10,
   "metadata": {},
   "outputs": [],
   "source": [
    "# Desafio 062 - Melhore o desafio 61, perguntando para o usuário se ele quer mostrar mais alguns termos. O programa encerra quando ele disser que quer ver 0 termos.\n"
   ]
  },
  {
   "cell_type": "code",
   "execution_count": 15,
   "metadata": {},
   "outputs": [],
   "source": [
    "\n",
    "primeiro_termo = int(input('Digite o primeiro termo da P.A.: '))\n",
    "razão = int(input('Digite a Razão da P.A.: '))\n",
    "\n",
    "termo = primeiro_termo\n",
    "cont = 1\n",
    "continuar = 10\n",
    "total = 0\n",
    "while continuar == 'S':\n",
    "    while cont <= 0:\n",
    "        total = total + continuar\n",
    "        print('{} -> '.format(termo), end='')\n",
    "        termo += razão\n",
    "        cont += 1\n",
    "\n",
    "    print('FIM')\n",
    "    continuar = str(input('Quer continuar? [S/N] ')).upper()"
   ]
  },
  {
   "cell_type": "code",
   "execution_count": 16,
   "metadata": {},
   "outputs": [
    {
     "name": "stdout",
     "output_type": "stream",
     "text": [
      "2 -> 5 -> 8 -> 11 -> 14 -> 17 -> 20 -> 23 -> 26 -> 29 -> FIM\n",
      "Soma dos termos da P.A.: 155\n"
     ]
    }
   ],
   "source": [
    "primeiro_termo = int(input('Digite o primeiro termo da P.A.: '))\n",
    "razão = int(input('Digite a Razão da P.A.: '))\n",
    "\n",
    "termo = primeiro_termo\n",
    "cont = 1\n",
    "continuar = 'S'\n",
    "total = 0\n",
    "\n",
    "while continuar == 'S':\n",
    "    while cont <= 10:\n",
    "        total = total + termo\n",
    "        print('{} -> '.format(termo), end='')\n",
    "        termo += razão\n",
    "        cont += 1\n",
    "\n",
    "    print('FIM')\n",
    "    continuar = str(input('Quer continuar? [S/N] ')).upper()\n",
    "    if continuar == 'S':\n",
    "        cont = 1\n",
    "\n",
    "print(f'Soma dos termos da P.A.: {total}')\n"
   ]
  }
 ],
 "metadata": {
  "kernelspec": {
   "display_name": "Python 3",
   "language": "python",
   "name": "python3"
  },
  "language_info": {
   "codemirror_mode": {
    "name": "ipython",
    "version": 3
   },
   "file_extension": ".py",
   "mimetype": "text/x-python",
   "name": "python",
   "nbconvert_exporter": "python",
   "pygments_lexer": "ipython3",
   "version": "3.12.0"
  }
 },
 "nbformat": 4,
 "nbformat_minor": 2
}
