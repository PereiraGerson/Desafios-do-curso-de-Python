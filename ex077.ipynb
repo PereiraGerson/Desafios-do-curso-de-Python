{
 "cells": [
  {
   "cell_type": "code",
   "execution_count": null,
   "metadata": {},
   "outputs": [],
   "source": [
    "# Desafio 77 - Crie um programa que tenha uma tupla com várias palavras (não usar acentos). Depois disso, você deve mostrar, para cada palavra, quais são as suas vogais."
   ]
  },
  {
   "cell_type": "code",
   "execution_count": 1,
   "metadata": {},
   "outputs": [
    {
     "name": "stdout",
     "output_type": "stream",
     "text": [
      "Na palavra Love temos as seguintes vogais o\n",
      "Na palavra Love temos as seguintes vogais e\n",
      "Na palavra Death temos as seguintes vogais e\n",
      "Na palavra Death temos as seguintes vogais a\n",
      "Na palavra Anger temos as seguintes vogais A\n",
      "Na palavra Anger temos as seguintes vogais e\n",
      "Na palavra Madness temos as seguintes vogais a\n",
      "Na palavra Madness temos as seguintes vogais e\n",
      "Na palavra Truth temos as seguintes vogais u\n"
     ]
    }
   ],
   "source": [
    "words = ('Love', 'Death', 'Anger', 'Madness', 'Truth')\n",
    "\n",
    "for x in words:\n",
    "    \n",
    "    for i in x:\n",
    "        if i.lower() in 'aeiou':\n",
    "            print(f'Na palavra {x} temos as seguintes vogais {i}')"
   ]
  },
  {
   "cell_type": "code",
   "execution_count": 2,
   "metadata": {},
   "outputs": [
    {
     "name": "stdout",
     "output_type": "stream",
     "text": [
      "Na palavra Love temos as seguintes vogais: o, e\n",
      "Na palavra Death temos as seguintes vogais: e, a\n",
      "Na palavra Anger temos as seguintes vogais: a, e\n",
      "Na palavra Madness temos as seguintes vogais: a, e\n",
      "Na palavra Truth temos as seguintes vogais: u\n"
     ]
    }
   ],
   "source": [
    "words = ('Love', 'Death', 'Anger', 'Madness', 'Truth')\n",
    "\n",
    "for palavra in words:\n",
    "    vogais = [letra for letra in palavra.lower() if letra in 'aeiou']\n",
    "    if vogais:\n",
    "        print(f'Na palavra {palavra} temos as seguintes vogais: {\", \".join(vogais)}')\n",
    "    else:\n",
    "        print(f'Na palavra {palavra} não há vogais.')\n"
   ]
  }
 ],
 "metadata": {
  "kernelspec": {
   "display_name": "Python 3",
   "language": "python",
   "name": "python3"
  },
  "language_info": {
   "codemirror_mode": {
    "name": "ipython",
    "version": 3
   },
   "file_extension": ".py",
   "mimetype": "text/x-python",
   "name": "python",
   "nbconvert_exporter": "python",
   "pygments_lexer": "ipython3",
   "version": "3.12.0"
  }
 },
 "nbformat": 4,
 "nbformat_minor": 2
}
