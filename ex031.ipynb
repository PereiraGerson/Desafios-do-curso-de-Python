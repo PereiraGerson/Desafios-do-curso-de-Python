{
 "cells": [
  {
   "cell_type": "code",
   "execution_count": 1,
   "metadata": {},
   "outputs": [],
   "source": [
    "# Desafio 031 - Faça um programa que pergunte a distância de uma viagem em km. Calcule o preço da passagem, cobranddo R$ 0,50 por km para viagens de até 200km e R$ 0,45 para viagens mais longas."
   ]
  },
  {
   "cell_type": "code",
   "execution_count": 7,
   "metadata": {},
   "outputs": [
    {
     "name": "stdout",
     "output_type": "stream",
     "text": [
      "sua passagem custa R$ 100 mais R$ 0,50 por km, total 111.5\n"
     ]
    }
   ],
   "source": [
    "viagem = float(input(\"Quantos kilometros tem a viagem?: \"))\n",
    "valor_da_passagem = 100\n",
    "viagem_curta = viagem * 0.50 + valor_da_passagem\n",
    "viagem_longa = viagem * 0.45 + valor_da_passagem\n",
    "\n",
    "if viagem <= 200:\n",
    "    print(\"sua passagem custa R$ {} mais R$ 0,50 por km, total {}\".format(valor_da_passagem, viagem_curta))\n",
    "else:\n",
    "    print(\"sua passagem custa R$ {} mais R$ 0,45 por km, total {:.2f}\".format(valor_da_passagem, viagem_longa))\n"
   ]
  },
  {
   "cell_type": "code",
   "execution_count": null,
   "metadata": {},
   "outputs": [],
   "source": []
  }
 ],
 "metadata": {
  "kernelspec": {
   "display_name": "Python 3",
   "language": "python",
   "name": "python3"
  },
  "language_info": {
   "codemirror_mode": {
    "name": "ipython",
    "version": 3
   },
   "file_extension": ".py",
   "mimetype": "text/x-python",
   "name": "python",
   "nbconvert_exporter": "python",
   "pygments_lexer": "ipython3",
   "version": "3.12.0"
  }
 },
 "nbformat": 4,
 "nbformat_minor": 2
}
