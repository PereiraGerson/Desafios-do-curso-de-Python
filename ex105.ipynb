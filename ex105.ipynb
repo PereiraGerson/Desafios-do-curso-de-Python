{
 "cells": [
  {
   "cell_type": "code",
   "execution_count": null,
   "metadata": {},
   "outputs": [],
   "source": [
    "# Desafio 105 - Faça um programa que tenha uma função notas() que pode receber várias notas de alunos e vai retornar um dicionário com as seguintes informações: \n",
    "\n",
    "# Quantidade de notas\n",
    "# A maior nota\n",
    "# A menor nota\n",
    "# A média da turma\n",
    "# A situação (opcional) \n",
    "# Adicione também as docstrings da função."
   ]
  }
 ],
 "metadata": {
  "language_info": {
   "name": "python"
  }
 },
 "nbformat": 4,
 "nbformat_minor": 2
}
