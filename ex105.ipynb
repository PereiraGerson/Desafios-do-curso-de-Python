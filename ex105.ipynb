{
 "cells": [
  {
   "cell_type": "code",
   "execution_count": null,
   "metadata": {},
   "outputs": [],
   "source": [
    "# Desafio 105 - Faça um programa que tenha uma função notas() que pode receber várias notas de alunos e vai retornar um dicionário com as seguintes informações: \n",
    "\n",
    "# Quantidade de notas\n",
    "# A maior nota\n",
    "# A menor nota\n",
    "# A média da turma\n",
    "# A situação (opcional) \n",
    "# Adicione também as docstrings da função."
   ]
  },
  {
   "cell_type": "code",
   "execution_count": 31,
   "metadata": {},
   "outputs": [
    {
     "data": {
      "text/plain": [
       "{'total': 5, 'maior': 11, 'menor': 1.5, 'média': 6.3, 'situação': 'RAZOAVEL'}"
      ]
     },
     "execution_count": 31,
     "metadata": {},
     "output_type": "execute_result"
    }
   ],
   "source": [
    "\n",
    "\n",
    "def notas(*valor, sit=False):\n",
    "    \"\"\"_summary_\n",
    "\n",
    "    Args:\n",
    "        sit (bool, optional): _description_. Defaults to False.\n",
    "\n",
    "    Returns:\n",
    "        _type_: _description_\n",
    "    \"\"\"\n",
    "    media = {}\n",
    "    media['total'] = len(valor)\n",
    "    media['maior'] = max(valor)\n",
    "    media['menor'] = min(valor)\n",
    "    media['média'] = sum(valor) / media['total']\n",
    "    \n",
    "    if sit:\n",
    "        if media['média'] >= 7:\n",
    "            media['situação'] = 'BOM'\n",
    "        elif media['média'] >= 5:\n",
    "            media['situação'] = 'RAZOAVEL'\n",
    "        else:\n",
    "            media['situação'] = 'RUIM'\n",
    "        \n",
    "    return media\n",
    "\n",
    "notas(3,10.5,5.5,1.5,11, sit=True)"
   ]
  }
 ],
 "metadata": {
  "kernelspec": {
   "display_name": "Python 3",
   "language": "python",
   "name": "python3"
  },
  "language_info": {
   "codemirror_mode": {
    "name": "ipython",
    "version": 3
   },
   "file_extension": ".py",
   "mimetype": "text/x-python",
   "name": "python",
   "nbconvert_exporter": "python",
   "pygments_lexer": "ipython3",
   "version": "3.12.0"
  }
 },
 "nbformat": 4,
 "nbformat_minor": 2
}
