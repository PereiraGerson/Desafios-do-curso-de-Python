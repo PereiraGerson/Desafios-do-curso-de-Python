{
 "cells": [
  {
   "cell_type": "code",
   "execution_count": null,
   "metadata": {},
   "outputs": [],
   "source": [
    "# Desafio 87 - Aprimore o exercício anterior, mostrando no final:\n",
    "# a) A soma de todos os valores pares digitados.\n",
    "# b) A soma dos valores da terceira coluna.\n",
    "# c) O maior valor da segunda linha."
   ]
  },
  {
   "cell_type": "code",
   "execution_count": 43,
   "metadata": {},
   "outputs": [
    {
     "name": "stdout",
     "output_type": "stream",
     "text": [
      "-=-=-=-=-=-=-=-=-=-=-=-=-=-=-=-=-=-=-=-=\n",
      "[ 11  ][ 22  ][ 33  ]\n",
      "[ 44  ][ 55  ][ 66  ]\n",
      "[ 77  ][ 88  ][ 99  ]\n"
     ]
    }
   ],
   "source": [
    "from random import randint\n",
    "matriz = [[],[],[]]\n",
    "par = []\n",
    "for l in range(0,3):\n",
    "        par.append(matriz[l])\n",
    "        for c in range(0,3):\n",
    "            matriz[l].append(int(input(f\"Digite um valor para [{l},{c}]: \")))\n",
    "        \n",
    "        \n",
    "print('-='*20)\n",
    "for l in range(0,3):\n",
    "        for c in range(0,3):\n",
    "                print(f'[{matriz[l][c]:^5}]', end='')\n",
    "        print()\n"
   ]
  },
  {
   "cell_type": "code",
   "execution_count": 60,
   "metadata": {},
   "outputs": [
    {
     "name": "stdout",
     "output_type": "stream",
     "text": [
      "[[11, 22, 33], [44, 55, 66], [77, 88, 99]]\n",
      "\n",
      "A soma dos números pares são 220\n",
      "\n",
      "A soma dos números impares são 275\n",
      "\n",
      "A soma da terceira coluna é 198\n",
      "\n",
      "O maio número da segunda linha é: 66\n"
     ]
    }
   ],
   "source": [
    "nova = []\n",
    "print(matriz)\n",
    "for x in matriz:\n",
    "    nova.append(x[0])\n",
    "    nova.append(x[1])\n",
    "    nova.append(x[2])\n",
    "\n",
    "somente_par = []\n",
    "somente_impar = []\n",
    "for y in nova:\n",
    "    if y % 2 == 0:\n",
    "        somente_par.append(y)\n",
    "    else:\n",
    "        somente_impar.append(y)\n",
    "print()\n",
    "print(f'A soma dos números pares são {sum(somente_par)}')\n",
    "print()\n",
    "print(f'A soma dos números impares são {sum(somente_impar)}')\n",
    "terceira_coluna = matriz[0][2] + matriz[1][2] + matriz[2][2]\n",
    "print()\n",
    "print(f'A soma da terceira coluna é {terceira_coluna}')\n",
    "print()\n",
    "print(f'O maio número da segunda linha é: {max(matriz[1])}')\n"
   ]
  }
 ],
 "metadata": {
  "kernelspec": {
   "display_name": "Python 3",
   "language": "python",
   "name": "python3"
  },
  "language_info": {
   "codemirror_mode": {
    "name": "ipython",
    "version": 3
   },
   "file_extension": ".py",
   "mimetype": "text/x-python",
   "name": "python",
   "nbconvert_exporter": "python",
   "pygments_lexer": "ipython3",
   "version": "3.12.0"
  }
 },
 "nbformat": 4,
 "nbformat_minor": 2
}
