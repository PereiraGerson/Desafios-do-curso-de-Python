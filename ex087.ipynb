{
 "cells": [
  {
   "cell_type": "code",
   "execution_count": null,
   "metadata": {},
   "outputs": [],
   "source": [
    "# Desafio 87 - Aprimore o exercício anterior, mostrando no final:\n",
    "# a) A soma de todos os valores pares digitados.\n",
    "# b) A dos valores da terceira coluna.\n",
    "# c) O maior valor da segunda linha."
   ]
  }
 ],
 "metadata": {
  "language_info": {
   "name": "python"
  }
 },
 "nbformat": 4,
 "nbformat_minor": 2
}
