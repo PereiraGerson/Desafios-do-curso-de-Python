{
 "cells": [
  {
   "cell_type": "code",
   "execution_count": null,
   "metadata": {},
   "outputs": [],
   "source": [
    "# Desafio 85 - Crie um programa onde o usuário possa digitar sete valores numéricos e cadastre-os em uma unica lista que mantenha separado os valores pares e ímpares. No final, mostre os valores pares e impares em ordem crescente.\n",
    "\n",
    "# OBS: as duas listas devem estar dentro de uma única lista."
   ]
  }
 ],
 "metadata": {
  "language_info": {
   "name": "python"
  }
 },
 "nbformat": 4,
 "nbformat_minor": 2
}
