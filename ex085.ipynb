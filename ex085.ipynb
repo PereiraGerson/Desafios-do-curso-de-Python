{
 "cells": [
  {
   "cell_type": "code",
   "execution_count": null,
   "metadata": {},
   "outputs": [],
   "source": [
    "# Desafio 85 - Crie um programa onde o usuário possa digitar sete valores numéricos e cadastre-os em uma unica lista que mantenha separado os valores pares e ímpares. No final, mostre os valores pares e impares em ordem crescente.\n",
    "\n",
    "# OBS: as duas listas devem estar dentro de uma única lista."
   ]
  },
  {
   "cell_type": "code",
   "execution_count": 20,
   "metadata": {},
   "outputs": [
    {
     "name": "stdout",
     "output_type": "stream",
     "text": [
      "Você digitou os seguintes números: [[6, 8, 88], [7, 55, 77, 99]]\n",
      "os números pares são: [6, 8, 88]\n",
      "os numeros ímpares são: [7, 55, 77, 99]\n"
     ]
    }
   ],
   "source": [
    "total = [[],[]]\n",
    "for x in range(7):\n",
    "    numero = int(input('Digite um número: '))\n",
    "    if numero % 2 == 0:\n",
    "        total[0].append(numero)\n",
    "    else:\n",
    "        total[1].append(numero)\n",
    "        \n",
    "total[0].sort()\n",
    "total[1].sort()\n",
    "\n",
    "print(f'Você digitou os seguintes números: {total}')\n",
    "print(f'os números pares são: {total[0]}')\n",
    "print(f'os numeros ímpares são: {total[1]}')"
   ]
  }
 ],
 "metadata": {
  "kernelspec": {
   "display_name": "Python 3",
   "language": "python",
   "name": "python3"
  },
  "language_info": {
   "codemirror_mode": {
    "name": "ipython",
    "version": 3
   },
   "file_extension": ".py",
   "mimetype": "text/x-python",
   "name": "python",
   "nbconvert_exporter": "python",
   "pygments_lexer": "ipython3",
   "version": "3.12.0"
  }
 },
 "nbformat": 4,
 "nbformat_minor": 2
}
