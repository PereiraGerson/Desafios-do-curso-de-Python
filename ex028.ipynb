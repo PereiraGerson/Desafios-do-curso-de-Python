{
 "cells": [
  {
   "cell_type": "code",
   "execution_count": 1,
   "metadata": {},
   "outputs": [],
   "source": [
    "# Desafio 028 - Escreva um programa que faça o computador \"pensar\" em um número inteiro entre 0 e 5 e peça para o usuário tentar descobrir qual foi o número escolhido pelo computador.\n",
    "# O programa deve escrever na  tela se o usuário venceu ou perdeu."
   ]
  },
  {
   "cell_type": "code",
   "execution_count": 15,
   "metadata": {},
   "outputs": [
    {
     "name": "stdout",
     "output_type": "stream",
     "text": [
      "Voçê errou, eu pensei no número 3.\n"
     ]
    }
   ],
   "source": [
    "import random\n",
    "\n",
    "aleatorio = [1,2,3,4,5]\n",
    "sorteado = random.choice(aleatorio)\n",
    "\n",
    "numero = int(input(\"Descubra qual número eu estou pensando: \"))\n",
    "if numero == sorteado:\n",
    "    print('O número que eu pensei foi {}. PARABÉNS VOCÊ ACERTOU!'.format(sorteado))\n",
    "else:\n",
    "    print('Você errou, eu pensei no número {}.'.format(sorteado))"
   ]
  }
 ],
 "metadata": {
  "kernelspec": {
   "display_name": "Python 3",
   "language": "python",
   "name": "python3"
  },
  "language_info": {
   "codemirror_mode": {
    "name": "ipython",
    "version": 3
   },
   "file_extension": ".py",
   "mimetype": "text/x-python",
   "name": "python",
   "nbconvert_exporter": "python",
   "pygments_lexer": "ipython3",
   "version": "3.12.0"
  }
 },
 "nbformat": 4,
 "nbformat_minor": 2
}
