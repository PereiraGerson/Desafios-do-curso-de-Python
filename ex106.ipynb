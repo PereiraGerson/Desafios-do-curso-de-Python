{
 "cells": [
  {
   "cell_type": "code",
   "execution_count": null,
   "metadata": {},
   "outputs": [],
   "source": [
    "# Desafio 106 - Faça um mini-sistema que utilize o interactive Help do python. O usuário vai digitar o comando e o manual vai aparecer. Quando o usuário digitar a paçlavra 'FIM', o programa se encerrará.\n",
    "\n",
    "# Obs. use cores."
   ]
  }
 ],
 "metadata": {
  "language_info": {
   "name": "python"
  }
 },
 "nbformat": 4,
 "nbformat_minor": 2
}
