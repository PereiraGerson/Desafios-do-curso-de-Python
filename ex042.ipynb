{
 "cells": [
  {
   "cell_type": "code",
   "execution_count": null,
   "metadata": {},
   "outputs": [],
   "source": [
    "# desafio 042 - Refaça o desafio 035 dos triângulos, acrescentando o recurdo de mostrar que tipo de triângulo será formado:\n",
    "\n",
    "# - Equilátero: todos os lados iguais\n",
    "\n",
    "# - Isósceles: dois lados iguais\n",
    "\n",
    "# - Escaleno: todos os lados diferentes"
   ]
  }
 ],
 "metadata": {
  "language_info": {
   "name": "python"
  }
 },
 "nbformat": 4,
 "nbformat_minor": 2
}
