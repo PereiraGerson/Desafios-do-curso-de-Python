{
 "cells": [
  {
   "cell_type": "code",
   "execution_count": null,
   "metadata": {},
   "outputs": [],
   "source": [
    "# desafio 042 - Refaça o desafio 035 dos triângulos, acrescentando o recurdo de mostrar que tipo de triângulo será formado:\n",
    "\n",
    "# - Equilátero: todos os lados iguais\n",
    "\n",
    "# - Isósceles: dois lados iguais\n",
    "\n",
    "# - Escaleno: todos os lados diferentes"
   ]
  },
  {
   "cell_type": "code",
   "execution_count": 1,
   "metadata": {},
   "outputs": [
    {
     "name": "stdout",
     "output_type": "stream",
     "text": [
      "Pode se formar um triângulo\n",
      "É Escaleno\n"
     ]
    }
   ],
   "source": [
    "lado_a = int(input('Digite um lado do triângulo: '))\n",
    "lado_b = int(input('Digite outro lado do triângulo: '))\n",
    "lado_c = int(input('Digite o terceiro lado do triângulo: '))\n",
    "\n",
    "if lado_a + lado_b > lado_c and lado_a + lado_c > lado_b and lado_b + lado_c > lado_a:\n",
    "    print('Pode se formar um triângulo')\n",
    "    \n",
    "    if lado_a == lado_b and lado_a == lado_c and lado_b == lado_c:\n",
    "        print('É Equilátero')\n",
    "    elif lado_a == lado_b or lado_a == lado_c or lado_b == lado_c:\n",
    "        print('É Isósceles')\n",
    "    else:\n",
    "        print('É Escaleno')\n",
    "else:\n",
    "    print('Não pode se formar um triângulo com esses lados.')\n",
    "    "
   ]
  }
 ],
 "metadata": {
  "kernelspec": {
   "display_name": "Python 3",
   "language": "python",
   "name": "python3"
  },
  "language_info": {
   "codemirror_mode": {
    "name": "ipython",
    "version": 3
   },
   "file_extension": ".py",
   "mimetype": "text/x-python",
   "name": "python",
   "nbconvert_exporter": "python",
   "pygments_lexer": "ipython3",
   "version": "3.12.0"
  }
 },
 "nbformat": 4,
 "nbformat_minor": 2
}
