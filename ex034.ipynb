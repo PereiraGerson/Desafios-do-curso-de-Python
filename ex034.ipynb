{
 "cells": [
  {
   "cell_type": "code",
   "execution_count": 1,
   "metadata": {},
   "outputs": [],
   "source": [
    "# Desafio 034 - Escreva um programa que pergunte o salário de um funcionário e calcule o valor do seu aumento.\n",
    "# Para salários acima de R$ 1.250,00 calcule um aumento de 10%.\n",
    "# Para salários inferiores ou iguais o aumento será de 15%."
   ]
  },
  {
   "cell_type": "code",
   "execution_count": 5,
   "metadata": {},
   "outputs": [
    {
     "name": "stdout",
     "output_type": "stream",
     "text": [
      "O novo salário é de R$1376.10\n"
     ]
    }
   ],
   "source": [
    "salario = float(input('Digite o valor do salário, para que eu possa calcular o reajuste.: '))\n",
    "\n",
    "if salario >= 1250.00:\n",
    "    novo_salario = salario + (salario * 10 / 100)\n",
    "    print('O novo salário é de R${:.2f}'.format(novo_salario))\n",
    "else:\n",
    "    novo_salario = salario + (salario * 15 / 100)\n",
    "    print('O novo salário é de R${:.2f}'.format(novo_salario))"
   ]
  }
 ],
 "metadata": {
  "kernelspec": {
   "display_name": "Python 3",
   "language": "python",
   "name": "python3"
  },
  "language_info": {
   "codemirror_mode": {
    "name": "ipython",
    "version": 3
   },
   "file_extension": ".py",
   "mimetype": "text/x-python",
   "name": "python",
   "nbconvert_exporter": "python",
   "pygments_lexer": "ipython3",
   "version": "3.12.0"
  }
 },
 "nbformat": 4,
 "nbformat_minor": 2
}
