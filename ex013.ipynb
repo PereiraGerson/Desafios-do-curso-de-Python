{
 "cells": [
  {
   "cell_type": "code",
   "execution_count": 1,
   "metadata": {},
   "outputs": [],
   "source": [
    "# Desafio 013 - Faça um algoritmo que leia o salário de um funcionario e mostre seu novo salário com, 15% de aumento."
   ]
  },
  {
   "cell_type": "code",
   "execution_count": 6,
   "metadata": {},
   "outputs": [
    {
     "name": "stdout",
     "output_type": "stream",
     "text": [
      "o salario do funcionario é 1320.0, o aumento foi de 198.0, o novo salario é 1518.0.\n"
     ]
    }
   ],
   "source": [
    "salario = float(input('Qual é o salario atual do funcionário?: '))\n",
    "aumento = salario / 100 * 15\n",
    "novoSalario = salario + aumento\n",
    "print('o salario do funcionario é {}, o aumento foi de {}, o novo salario é {}.'.format(salario,aumento,novoSalario))"
   ]
  }
 ],
 "metadata": {
  "kernelspec": {
   "display_name": "Python 3",
   "language": "python",
   "name": "python3"
  },
  "language_info": {
   "codemirror_mode": {
    "name": "ipython",
    "version": 3
   },
   "file_extension": ".py",
   "mimetype": "text/x-python",
   "name": "python",
   "nbconvert_exporter": "python",
   "pygments_lexer": "ipython3",
   "version": "3.11.5"
  },
  "orig_nbformat": 4
 },
 "nbformat": 4,
 "nbformat_minor": 2
}
