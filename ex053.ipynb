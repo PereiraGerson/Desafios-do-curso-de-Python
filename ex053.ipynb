{
 "cells": [
  {
   "cell_type": "code",
   "execution_count": null,
   "metadata": {},
   "outputs": [],
   "source": [
    "# Desafio 053 - Crie um programa que leia uma frase e diga se ela é um PALÍNDROMO, desconsiderando os espaços."
   ]
  },
  {
   "cell_type": "code",
   "execution_count": 218,
   "metadata": {},
   "outputs": [
    {
     "name": "stdout",
     "output_type": "stream",
     "text": [
      "TIKKIT\n",
      "TIKKIT\n",
      "A frase é um PALÍNDROMO.\n"
     ]
    }
   ],
   "source": [
    "frase = str(input('Digite um frase: ')).strip().upper()\n",
    "palavras = frase.split()\n",
    "junto = ''.join(palavras)\n",
    "junto = junto.replace(',', '')\n",
    "print(junto)\n",
    "\n",
    "inverso = junto[::-1]\n",
    "print(inverso)\n",
    "\n",
    "if junto == inverso:\n",
    "    print(f'A frase é um PALÍNDROMO.')\n",
    "else:\n",
    "    print(f'A frase não é um PALÍNDROMO.')\n",
    "  "
   ]
  },
  {
   "cell_type": "code",
   "execution_count": 219,
   "metadata": {},
   "outputs": [
    {
     "name": "stdout",
     "output_type": "stream",
     "text": [
      "A frase invertida é: ATORREDADERROTA\n",
      "A frase é um PALÍNDROMO.\n"
     ]
    }
   ],
   "source": [
    "frase = input('Digite uma frase: ').replace(' ', '').replace(',', '').upper()\n",
    "inverso = frase[::-1]\n",
    "\n",
    "print(f'A frase invertida é: {inverso}')\n",
    "\n",
    "if frase == inverso:\n",
    "    print('A frase é um PALÍNDROMO.')\n",
    "else:\n",
    "    print('A frase não é um PALÍNDROMO.')\n"
   ]
  },
  {
   "cell_type": "code",
   "execution_count": 221,
   "metadata": {},
   "outputs": [
    {
     "name": "stdout",
     "output_type": "stream",
     "text": [
      "anoretsotset ad etset\n"
     ]
    }
   ],
   "source": [
    "a = 'teste da testosterona'\n",
    "inverso = a[::-1]\n",
    "print(inverso)"
   ]
  }
 ],
 "metadata": {
  "language_info": {
   "name": "python"
  }
 },
 "nbformat": 4,
 "nbformat_minor": 2
}
