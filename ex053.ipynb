{
 "cells": [
  {
   "cell_type": "code",
   "execution_count": null,
   "metadata": {},
   "outputs": [],
   "source": [
    "# Desafio 053 - Crie um programa que leia uma frase e diga se ela é um PALÍNDROMO, desconsiderando os espaços."
   ]
  },
  {
   "cell_type": "code",
   "execution_count": 110,
   "metadata": {},
   "outputs": [
    {
     "name": "stdout",
     "output_type": "stream",
     "text": [
      "['e', 'u', 'c', 'o', 'm', 'i', 'r', 'a', 'p', 'a', 'd', 'u', 'r', 'a']\n",
      "['a', 'r', 'u', 'd', 'a', 'p', 'a', 'r', 'i', 'm', 'o', 'c', 'u', 'e']\n",
      "Esta frase não é um PALÍNDROMO.\n"
     ]
    }
   ],
   "source": [
    "f1 ='A base do teto desaba'\n",
    "f2 ='A cara rajada da jararaca'\n",
    "f3 ='Subi em um pe de batata doce'\n",
    "f4 ='Acuda cadela da Leda caduca'\n",
    "f5 ='Eu comi rapadura'\n",
    "\n",
    "listaf1 = []\n",
    "for x in f5:\n",
    "    if x != ' ':\n",
    "        menor = x.lower()\n",
    "        listaf1.append(menor)\n",
    "\n",
    "print(listaf1)\n",
    "new_list = listaf1[:]\n",
    "new_list.reverse()\n",
    "print(new_list)\n",
    "\n",
    "if new_list == listaf1:\n",
    "    print('Esta frase é um PALÍNDROMO.')\n",
    "else:\n",
    "    print('Esta frase não é um PALÍNDROMO.')\n",
    "    "
   ]
  }
 ],
 "metadata": {
  "kernelspec": {
   "display_name": "Python 3",
   "language": "python",
   "name": "python3"
  },
  "language_info": {
   "name": "python",
   "version": "3.12.0"
  }
 },
 "nbformat": 4,
 "nbformat_minor": 2
}
