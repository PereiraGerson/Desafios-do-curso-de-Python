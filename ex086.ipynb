{
 "cells": [
  {
   "cell_type": "code",
   "execution_count": null,
   "metadata": {},
   "outputs": [],
   "source": [
    "# Desafio 86 - Crie um programa que cria uma matriz de 3x3 e preencha com valores lidos pelo teclado. No final mostre a matriz na tela, com a formatação correta."
   ]
  }
 ],
 "metadata": {
  "language_info": {
   "name": "python"
  }
 },
 "nbformat": 4,
 "nbformat_minor": 2
}
