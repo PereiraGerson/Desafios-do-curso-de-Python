{
 "cells": [
  {
   "cell_type": "code",
   "execution_count": null,
   "metadata": {},
   "outputs": [],
   "source": [
    "# Desafio 86 - Crie um programa que cria uma matriz de 3x3 e preencha com valores lidos pelo teclado. No final mostre a matriz na tela, com a formatação correta."
   ]
  },
  {
   "cell_type": "code",
   "execution_count": 52,
   "metadata": {},
   "outputs": [
    {
     "name": "stdout",
     "output_type": "stream",
     "text": [
      "-=-=-=-=-=-=-=-=-=-=-=-=-=-=-=-=-=-=-=-=-=-=-=-=-=-=-=-=-=-=\n",
      "[ 33  ][ 44  ][ 55  ]\n",
      "[ 66  ][ 77  ][ 33  ]\n",
      "[ 22  ][ 22  ][ 33  ]\n"
     ]
    }
   ],
   "source": [
    "from random import randint\n",
    "matriz = [[],[],[]]\n",
    "for l in range(0,3):\n",
    "        for c in range(0,3):\n",
    "                matriz[l].append(int(input(f\"Digite um valor para [{l},{c}]: \")))\n",
    "print('-='*20)\n",
    "for l in range(0,3):\n",
    "        for c in range(0,3):\n",
    "                print(f'[{matriz[l][c]:^5}]', end='')\n",
    "        print()"
   ]
  }
 ],
 "metadata": {
  "kernelspec": {
   "display_name": "Python 3",
   "language": "python",
   "name": "python3"
  },
  "language_info": {
   "codemirror_mode": {
    "name": "ipython",
    "version": 3
   },
   "file_extension": ".py",
   "mimetype": "text/x-python",
   "name": "python",
   "nbconvert_exporter": "python",
   "pygments_lexer": "ipython3",
   "version": "3.12.0"
  }
 },
 "nbformat": 4,
 "nbformat_minor": 2
}
