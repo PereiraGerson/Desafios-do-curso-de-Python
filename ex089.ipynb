{
 "cells": [
  {
   "cell_type": "code",
   "execution_count": null,
   "metadata": {},
   "outputs": [],
   "source": [
    "# Desadfio 89 - Crie um programa que leia nome e duas notas de vários alunos e guarde tudo em uma lista composta. No final, mostre um boletim contendo a média de cada um e permita que o usuário possa mostrar as notas de cada aluno individualmente."
   ]
  },
  {
   "cell_type": "code",
   "execution_count": 81,
   "metadata": {},
   "outputs": [
    {
     "name": "stdout",
     "output_type": "stream",
     "text": [
      "\n",
      "\n",
      "\n",
      "\n",
      "\n",
      "[['GERSON', 8.1, 7.2, '7.65'], ['GEOVANIA', 7.0, 3.3, '5.15'], ['ESTER', 5.5, 6.6, '6.05'], ['JOEL', 6.7, 7.0, '6.85'], ['ABEL', 8.0, 7.0, '7.50']]\n"
     ]
    }
   ],
   "source": [
    "tabela = []\n",
    "while True:\n",
    "    \n",
    "    aluno = []\n",
    "    aluno.append(str(input('Digite o nome do aluno ')).upper().strip())\n",
    "    aluno.append(float(input('Digite a 1° nota: ')))\n",
    "    aluno.append(float(input('Digite a 2° nota: ')))\n",
    "    media = \"{:.2f}\".format((aluno[1] + aluno[2])/2)\n",
    "    aluno.append(media)\n",
    "    tabela.append(aluno)\n",
    "    print()\n",
    "    stop = str(input('Deseja Continuar: [S/N]')).upper().strip()[0]\n",
    "    if stop == 'N':\n",
    "        break\n",
    "print(tabela)"
   ]
  },
  {
   "cell_type": "code",
   "execution_count": 83,
   "metadata": {},
   "outputs": [
    {
     "name": "stdout",
     "output_type": "stream",
     "text": [
      "-=-=-=-=-= Boletim Escolar -=-=-=-=-=\n",
      "N°          Nome               Média\n",
      "-=-=-=-=-=-=-=-=-=-=-=-=-=-=-=-=-=-=-=\n",
      "1--------- GERSON-------------- 7.65\n",
      "2--------- GEOVANIA------------ 5.15\n",
      "3--------- ESTER--------------- 6.05\n",
      "4--------- JOEL---------------- 6.85\n",
      "5--------- ABEL---------------- 7.50\n",
      "-=-=-=-=-=-=-=-=-=-=-=-=-=-=-=-=-=-=-=\n"
     ]
    }
   ],
   "source": [
    "print('-='*5, 'Boletim Escolar', '-='*5)\n",
    "print('N°          Nome               Média')\n",
    "print('-='*19)\n",
    "num = 1\n",
    "for x in tabela:\n",
    "    print(f'{num:-<10} {x[0]:-<20} {x[3]}')\n",
    "    num += 1\n",
    "print('-='*19)\n",
    "\n"
   ]
  },
  {
   "cell_type": "code",
   "execution_count": 84,
   "metadata": {},
   "outputs": [
    {
     "name": "stdout",
     "output_type": "stream",
     "text": [
      "['GERSON', 8.1, 7.2, '7.65']\n",
      "['GEOVANIA', 7.0, 3.3, '5.15']\n",
      "['ESTER', 5.5, 6.6, '6.05']\n",
      "['ESTER', 5.5, 6.6, '6.05']\n",
      "['JOEL', 6.7, 7.0, '6.85']\n",
      "['ABEL', 8.0, 7.0, '7.50']\n",
      "['ABEL', 8.0, 7.0, '7.50']\n",
      "['GEOVANIA', 7.0, 3.3, '5.15']\n"
     ]
    }
   ],
   "source": [
    "\n",
    "while True:\n",
    "    nota = int(input('Digite o N° do aluno para saber as notas ou 999 para sair: '))\n",
    "    if nota == 999:\n",
    "        break\n",
    "    print(tabela[nota-1])\n",
    "    "
   ]
  }
 ],
 "metadata": {
  "kernelspec": {
   "display_name": "Python 3",
   "language": "python",
   "name": "python3"
  },
  "language_info": {
   "codemirror_mode": {
    "name": "ipython",
    "version": 3
   },
   "file_extension": ".py",
   "mimetype": "text/x-python",
   "name": "python",
   "nbconvert_exporter": "python",
   "pygments_lexer": "ipython3",
   "version": "3.12.0"
  }
 },
 "nbformat": 4,
 "nbformat_minor": 2
}
