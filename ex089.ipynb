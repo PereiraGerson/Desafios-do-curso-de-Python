{
 "cells": [
  {
   "cell_type": "code",
   "execution_count": null,
   "metadata": {},
   "outputs": [],
   "source": [
    "# Desadfio 89 - Crie um programa que leia nome e duas notas de vários alunos e guarde tudo em uma lista composta. No final, mostre um boletim contendo a média de cada um e permita que o usuário possa mostrar as notas de cada aluno individualmente."
   ]
  },
  {
   "cell_type": "code",
   "execution_count": 2,
   "metadata": {},
   "outputs": [
    {
     "name": "stdout",
     "output_type": "stream",
     "text": [
      "[['gerson', 3, 5], ['geo', 2, 5]]\n"
     ]
    }
   ],
   "source": [
    "media = []\n",
    "while True:\n",
    "    aluno = []\n",
    "    aluno.append(str(input('Digite o nome do aluno: ')))\n",
    "    aluno.append(int(input('Digite a 1° Nosta: ')))\n",
    "    aluno.append(int(input('Digite a 2° Nosta: ')))\n",
    "    media.append(aluno[:])\n",
    "    continuar = str(input('Deseja Cadastrar mais algum aluno?[S/N]')).upper().split()[0]\n",
    "    if continuar == 'N':\n",
    "        break\n",
    "print(media)"
   ]
  },
  {
   "cell_type": "code",
   "execution_count": 3,
   "metadata": {},
   "outputs": [
    {
     "name": "stdout",
     "output_type": "stream",
     "text": [
      "A media de gerson foi 4.0\n",
      "A media de geo foi 3.5\n"
     ]
    }
   ],
   "source": [
    "for x in media:\n",
    "    nome = x[0]\n",
    "    nota1 = x[1]\n",
    "    nota2 = x[2]\n",
    "    media = (nota1 + nota2) / 2   \n",
    "    print(f'A media de {nome} foi {media}')"
   ]
  }
 ],
 "metadata": {
  "kernelspec": {
   "display_name": "Python 3",
   "language": "python",
   "name": "python3"
  },
  "language_info": {
   "codemirror_mode": {
    "name": "ipython",
    "version": 3
   },
   "file_extension": ".py",
   "mimetype": "text/x-python",
   "name": "python",
   "nbconvert_exporter": "python",
   "pygments_lexer": "ipython3",
   "version": "3.12.0"
  }
 },
 "nbformat": 4,
 "nbformat_minor": 2
}
