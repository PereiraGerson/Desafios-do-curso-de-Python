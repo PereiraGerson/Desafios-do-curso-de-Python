{
 "cells": [
  {
   "cell_type": "code",
   "execution_count": null,
   "metadata": {},
   "outputs": [],
   "source": [
    "# Desadfio 89 - Crie um programa que leia nome e duas notas de vários alunos e guarde tudo em uma lista composta. No final, mostre um boletim contendo a média de cada um e permita que o usuário possa mostrar as notas de cada aluno individualmente."
   ]
  },
  {
   "cell_type": "code",
   "execution_count": 44,
   "metadata": {},
   "outputs": [
    {
     "name": "stdout",
     "output_type": "stream",
     "text": [
      "indice    Nome       Média\n",
      "0          gerson          7.5\n",
      "1          geovania          5.0\n"
     ]
    },
    {
     "ename": "KeyboardInterrupt",
     "evalue": "",
     "output_type": "error",
     "traceback": [
      "\u001b[1;31m---------------------------------------------------------------------------\u001b[0m",
      "\u001b[1;31mKeyboardInterrupt\u001b[0m                         Traceback (most recent call last)",
      "\u001b[1;32mc:\\Users\\gerso\\OneDrive\\Documentos\\GitHub\\Desafios-do-curso-de-Python\\ex089.ipynb Cell 2\u001b[0m line \u001b[0;36m2\n\u001b[0;32m     <a href='vscode-notebook-cell:/c%3A/Users/gerso/OneDrive/Documentos/GitHub/Desafios-do-curso-de-Python/ex089.ipynb#W1sZmlsZQ%3D%3D?line=19'>20</a>\u001b[0m     contagem \u001b[39m+\u001b[39m\u001b[39m=\u001b[39m \u001b[39m1\u001b[39m\n\u001b[0;32m     <a href='vscode-notebook-cell:/c%3A/Users/gerso/OneDrive/Documentos/GitHub/Desafios-do-curso-de-Python/ex089.ipynb#W1sZmlsZQ%3D%3D?line=21'>22</a>\u001b[0m nota \u001b[39m=\u001b[39m \u001b[39mint\u001b[39m(\u001b[39minput\u001b[39m((\u001b[39m'\u001b[39m\u001b[39mMostrar a nota média de qual aluno, digite 999 pra parar.\u001b[39m\u001b[39m'\u001b[39m)))\n\u001b[1;32m---> <a href='vscode-notebook-cell:/c%3A/Users/gerso/OneDrive/Documentos/GitHub/Desafios-do-curso-de-Python/ex089.ipynb#W1sZmlsZQ%3D%3D?line=22'>23</a>\u001b[0m \u001b[39mwhile\u001b[39;00m \u001b[39mTrue\u001b[39;00m:\n\u001b[0;32m     <a href='vscode-notebook-cell:/c%3A/Users/gerso/OneDrive/Documentos/GitHub/Desafios-do-curso-de-Python/ex089.ipynb#W1sZmlsZQ%3D%3D?line=23'>24</a>\u001b[0m     \u001b[39mif\u001b[39;00m nota \u001b[39m==\u001b[39m cont:\n\u001b[0;32m     <a href='vscode-notebook-cell:/c%3A/Users/gerso/OneDrive/Documentos/GitHub/Desafios-do-curso-de-Python/ex089.ipynb#W1sZmlsZQ%3D%3D?line=24'>25</a>\u001b[0m         \u001b[39mprint\u001b[39m(media[\u001b[39m1\u001b[39m], media[\u001b[39m2\u001b[39m])\n",
      "\u001b[1;31mKeyboardInterrupt\u001b[0m: "
     ]
    }
   ],
   "source": [
    "media = []\n",
    "cont = 0\n",
    "while True:\n",
    "    aluno = []\n",
    "    aluno.append(str(input('Digite o nome do aluno: ')))\n",
    "    aluno.append(int(input('Digite a 1° Nosta: ')))\n",
    "    aluno.append(int(input('Digite a 2° Nosta: ')))\n",
    "    media.append(aluno)\n",
    "    cont += 1\n",
    "    continuar = str(input('Deseja Cadastrar mais algum aluno?[S/N]')).upper().split()[0]\n",
    "    if continuar == 'N':\n",
    "        break\n",
    "\n",
    "\n",
    "contagem = 0\n",
    "print('indice    Nome       Média')\n",
    "for cont in media:\n",
    "    media = (cont[1] + cont[2]) / 2\n",
    "    print(contagem, '        ',cont[0],'        ',media)\n",
    "    contagem += 1\n",
    "    \n",
    "nota = int(input(('Mostrar a nota média de qual aluno, digite 999 pra parar.')))\n",
    "while True:\n",
    "    if nota == cont:\n",
    "        print(media[1], media[2])\n",
    "    elif nota == 999:\n",
    "        break"
   ]
  }
 ],
 "metadata": {
  "kernelspec": {
   "display_name": "Python 3",
   "language": "python",
   "name": "python3"
  },
  "language_info": {
   "codemirror_mode": {
    "name": "ipython",
    "version": 3
   },
   "file_extension": ".py",
   "mimetype": "text/x-python",
   "name": "python",
   "nbconvert_exporter": "python",
   "pygments_lexer": "ipython3",
   "version": "3.12.0"
  }
 },
 "nbformat": 4,
 "nbformat_minor": 2
}
