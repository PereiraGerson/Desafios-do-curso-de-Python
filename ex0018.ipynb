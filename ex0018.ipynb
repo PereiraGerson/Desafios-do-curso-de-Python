{
 "cells": [
  {
   "cell_type": "code",
   "execution_count": 1,
   "metadata": {},
   "outputs": [],
   "source": [
    "# Desafio 018 - Faça um programa que leia um ângulo qualquer e mostre na tela o seno, cosseno e tangente desse angulo."
   ]
  },
  {
   "cell_type": "code",
   "execution_count": 2,
   "metadata": {},
   "outputs": [],
   "source": [
    "import math\n"
   ]
  },
  {
   "cell_type": "code",
   "execution_count": 17,
   "metadata": {},
   "outputs": [
    {
     "name": "stdout",
     "output_type": "stream",
     "text": [
      "O seno de 45.0 é 0.71\n",
      "O cosseno de 45.0 é 0.71\n",
      "A tangente de 45.0 é 1.00\n"
     ]
    }
   ],
   "source": [
    "seno = float(input('Digite o ângulo do seno: '))\n",
    "cosseno = float(input('Digite o ãngulo do cosseno: '))\n",
    "tangente = float(input('Digite o angulo da tangente: '))\n",
    "\n",
    "print('O seno de {} é {:.2f}'.format(seno, math.sin(math.radians(seno))))\n",
    "print('O cosseno de {} é {:.2f}'.format(cosseno, math.cos(math.radians(cosseno))))\n",
    "print('A tangente de {} é {:.2f}'.format(tangente, math.tan(math.radians(tangente))))\n",
    "                       "
   ]
  }
 ],
 "metadata": {
  "kernelspec": {
   "display_name": "base",
   "language": "python",
   "name": "python3"
  },
  "language_info": {
   "codemirror_mode": {
    "name": "ipython",
    "version": 3
   },
   "file_extension": ".py",
   "mimetype": "text/x-python",
   "name": "python",
   "nbconvert_exporter": "python",
   "pygments_lexer": "ipython3",
   "version": "3.11.4"
  }
 },
 "nbformat": 4,
 "nbformat_minor": 2
}
