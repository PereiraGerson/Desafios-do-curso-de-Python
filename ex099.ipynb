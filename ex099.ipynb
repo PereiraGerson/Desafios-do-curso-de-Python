{
 "cells": [
  {
   "cell_type": "code",
   "execution_count": null,
   "metadata": {},
   "outputs": [],
   "source": [
    "# Desafio 99 - Faça um programa que tenha uma função chamada maior(), que recebe vários programas com valores inteiros.\n",
    "# seu programa tem que analizar todos os números e dizer qual deles é o maior."
   ]
  }
 ],
 "metadata": {
  "language_info": {
   "name": "python"
  }
 },
 "nbformat": 4,
 "nbformat_minor": 2
}
