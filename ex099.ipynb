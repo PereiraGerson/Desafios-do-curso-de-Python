{
 "cells": [
  {
   "cell_type": "code",
   "execution_count": null,
   "metadata": {},
   "outputs": [],
   "source": [
    "# Desafio 99 - Faça um programa que tenha uma função chamada maior(), que recebe vários programas com valores inteiros.\n",
    "# seu programa tem que analizar todos os números e dizer qual deles é o maior."
   ]
  },
  {
   "cell_type": "code",
   "execution_count": 71,
   "metadata": {},
   "outputs": [
    {
     "name": "stdout",
     "output_type": "stream",
     "text": [
      "Analizando os valores passados: \n",
      "~~~~~~~~~\n",
      "0  Foram digitados 1 valores\n",
      "O maior valor é 0\n"
     ]
    }
   ],
   "source": [
    "from time import sleep\n",
    "def maior(*valor):\n",
    "    lista_valores = list(valor)\n",
    "    if not lista_valores:\n",
    "        print('Nenhum valor digitado')\n",
    "    else:\n",
    "        print('Analizando os valores passados: ')\n",
    "        print('~~~~~~~~~'*len(lista_valores))\n",
    "        for x in lista_valores:\n",
    "            sleep(0.5)\n",
    "            print(x,' ' , end='')\n",
    "        print(f'Foram digitados {len(lista_valores)} valores')\n",
    "        print(f'O maior valor é {max(lista_valores)}')\n",
    "\n",
    "maior(0)"
   ]
  }
 ],
 "metadata": {
  "kernelspec": {
   "display_name": "Python 3",
   "language": "python",
   "name": "python3"
  },
  "language_info": {
   "codemirror_mode": {
    "name": "ipython",
    "version": 3
   },
   "file_extension": ".py",
   "mimetype": "text/x-python",
   "name": "python",
   "nbconvert_exporter": "python",
   "pygments_lexer": "ipython3",
   "version": "3.12.0"
  }
 },
 "nbformat": 4,
 "nbformat_minor": 2
}
