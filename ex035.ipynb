{
 "cells": [
  {
   "cell_type": "code",
   "execution_count": 1,
   "metadata": {},
   "outputs": [],
   "source": [
    "# Desafio 035 - Desenvolva um programa que leia o cumprimento de 3 linhas e diga ao usuário se elas podem formar um triângulo."
   ]
  },
  {
   "cell_type": "code",
   "execution_count": 4,
   "metadata": {},
   "outputs": [
    {
     "name": "stdout",
     "output_type": "stream",
     "text": [
      "pode se formar um triangulo\n"
     ]
    }
   ],
   "source": [
    "a = int(input(\"Digite o tamanho da primeira linha do triângulo: \"))\n",
    "b = int(input(\"Digite o tamanho da segunda linha do triângulo: \"))\n",
    "c = int(input(\"digite o tamanho da terceira linha do triângulo: \"))\n",
    "\n",
    "if (b - c) < a and (b + c) > a:\n",
    "    print(\"pode se formar um triangulo\")\n",
    "elif (a - c) < b and (c + a) > b:\n",
    "    print(\"pode se formar um triangulo\")\n",
    "else (a - b) < c and (a + b) > c:\n",
    "    print(\"pode se formar um triangulo\")"
   ]
  }
 ],
 "metadata": {
  "kernelspec": {
   "display_name": "Python 3",
   "language": "python",
   "name": "python3"
  },
  "language_info": {
   "codemirror_mode": {
    "name": "ipython",
    "version": 3
   },
   "file_extension": ".py",
   "mimetype": "text/x-python",
   "name": "python",
   "nbconvert_exporter": "python",
   "pygments_lexer": "ipython3",
   "version": "3.12.0"
  }
 },
 "nbformat": 4,
 "nbformat_minor": 2
}
