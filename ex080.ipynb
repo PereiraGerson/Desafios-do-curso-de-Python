{
 "cells": [
  {
   "cell_type": "code",
   "execution_count": 13,
   "metadata": {},
   "outputs": [],
   "source": [
    "# Desafio 80 - Crie um programa onde o usuário possa digitar cinco valores numéricos e cadastre-os em uma lista, ja na posição correta de inserção (sem usar o sort()).\n",
    "# No final, mostre a lista ordenada na tela."
   ]
  },
  {
   "cell_type": "code",
   "execution_count": 1,
   "metadata": {},
   "outputs": [
    {
     "name": "stdout",
     "output_type": "stream",
     "text": [
      "[2, 4, 5, 6, 7]\n"
     ]
    }
   ],
   "source": [
    "lista = []\n",
    "\n",
    "for x in range(5):\n",
    "    numero = int(input('Digite um número: '))\n",
    "    if x == 0 or numero > lista[-1]:\n",
    "        lista.append(numero)\n",
    "    else:\n",
    "        posição = 0\n",
    "        while posição < len(lista):\n",
    "            if numero <= lista[posição]:\n",
    "                lista.insert(posição, numero)\n",
    "                break\n",
    "                posição += 1\n",
    "\n",
    "print(lista)\n"
   ]
  },
  {
   "cell_type": "code",
   "execution_count": null,
   "metadata": {},
   "outputs": [],
   "source": [
    "# Inicializa uma lista vazia para armazenar os números\n",
    "lista = []\n",
    "\n",
    "# Loop que executa 5 vezes para solicitar ao usuário 5 números\n",
    "for x in range(5):\n",
    "    # Solicita ao usuário que digite um número\n",
    "    numero = int(input('Digite um número: '))\n",
    "\n",
    "    # Verifica se é a primeira iteração ou se o número é maior que o último número na lista\n",
    "    if x == 0 or numero > lista[-1]:\n",
    "        # Adiciona o número ao final da lista\n",
    "        lista.append(numero)\n",
    "    else:\n",
    "        # Inicializa uma variável para rastrear a posição na lista\n",
    "        posição = 0\n",
    "\n",
    "        # Loop para encontrar a posição correta para inserir o número na lista mantendo a ordem crescente\n",
    "        while posição < len(lista):\n",
    "            # Verifica se o número é menor ou igual ao número na posição atual na lista\n",
    "            if numero <= lista[posição]:\n",
    "                # Insere o número na posição atual\n",
    "                lista.insert(posição, numero)\n",
    "                # Sai do loop while após a inserção\n",
    "                break\n",
    "            # Incrementa a posição para verificar o próximo elemento na próxima iteração do loop while\n",
    "            posição += 1\n",
    "\n",
    "# Imprime a lista ordenada em ordem crescente\n",
    "print(f'Lista ordenada em ordem crescente: {lista}')\n"
   ]
  }
 ],
 "metadata": {
  "kernelspec": {
   "display_name": "Python 3",
   "language": "python",
   "name": "python3"
  },
  "language_info": {
   "codemirror_mode": {
    "name": "ipython",
    "version": 3
   },
   "file_extension": ".py",
   "mimetype": "text/x-python",
   "name": "python",
   "nbconvert_exporter": "python",
   "pygments_lexer": "ipython3",
   "version": "3.12.0"
  }
 },
 "nbformat": 4,
 "nbformat_minor": 2
}
