{
 "cells": [
  {
   "cell_type": "code",
   "execution_count": 5,
   "metadata": {},
   "outputs": [],
   "source": [
    "# Desafio 037 - Escreva um programa que leia um número inteiro qualquer e peça para o usuário escolher qual será a base da conversão:\n",
    "# 1 - base binario\n",
    "# 2 - base octal\n",
    "# 3 - base hexadecimal"
   ]
  },
  {
   "cell_type": "code",
   "execution_count": 6,
   "metadata": {},
   "outputs": [],
   "source": [
    "numero = int(input('Digite um número inteiro para conversão: '))\n",
    "base_numerica = input('Digite 1 para base núerica, 2 para base octal, 3 para base hexadecimal: ')\n",
    "\n",
    "if base_numerica == '1':\n",
    "    print(f'O número {numero} convertido para base númerica é igual a {bin(numero)[2:]}')\n",
    "elif base_numerica == '2':\n",
    "    print(f'O número {numero} convertido para base octal é igual a {oct(numero)[2:]}')\n",
    "elif base_numerica == '3':\n",
    "    print(f'O número {numero} convertido para base hexa é igual a {hex(numero)[2:]}')\t"
   ]
  }
 ],
 "metadata": {
  "kernelspec": {
   "display_name": "Python 3",
   "language": "python",
   "name": "python3"
  },
  "language_info": {
   "codemirror_mode": {
    "name": "ipython",
    "version": 3
   },
   "file_extension": ".py",
   "mimetype": "text/x-python",
   "name": "python",
   "nbconvert_exporter": "python",
   "pygments_lexer": "ipython3",
   "version": "3.12.0"
  }
 },
 "nbformat": 4,
 "nbformat_minor": 2
}
