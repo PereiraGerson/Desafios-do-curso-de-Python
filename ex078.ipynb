{
 "cells": [
  {
   "cell_type": "code",
   "execution_count": null,
   "metadata": {},
   "outputs": [],
   "source": [
    "# Desafio 78 - Faça um programa que leia cinco valores numéricos e guarde-os em uma lista.\n",
    "# No final, mostre qual foi o maior e o menor valor digitado e suas respectivas posições na lista."
   ]
  },
  {
   "cell_type": "code",
   "execution_count": 20,
   "metadata": {},
   "outputs": [
    {
     "name": "stdout",
     "output_type": "stream",
     "text": [
      "Os valores digitados foram [9, 0, 8, 3, 6, 7]\n",
      "O maior número foi 9 e está na posição 0.\n",
      "O menor número foi 0 e está na posição 1.\n"
     ]
    }
   ],
   "source": [
    "from random import randint\n",
    "minha_lista = [randint(0,10) for x in range(0,6)]\n",
    "\n",
    "print(f'Os valores digitados foram {minha_lista}')\n",
    "print(f'O maior número foi {max(minha_lista)} e está na posição {minha_lista.index(max(minha_lista))}.')\n",
    "print(f'O menor número foi {min(minha_lista)} e está na posição {minha_lista.index(min(minha_lista))}.')"
   ]
  },
  {
   "cell_type": "code",
   "execution_count": 36,
   "metadata": {},
   "outputs": [
    {
     "name": "stdout",
     "output_type": "stream",
     "text": [
      "Os valores digitados foram [5, 10, 2, 0, 0, 0]\n",
      "O maior número foi 10 e aparece 1 vezes nas posições: 1 \n",
      "O menor número foi 0 e aparece 3 vezes nas posições: 3 4 5 \n"
     ]
    }
   ],
   "source": [
    "from random import randint\n",
    "\n",
    "minha_lista = [randint(0, 10) for _ in range(6)]\n",
    "maior = max(minha_lista)\n",
    "menor = min(minha_lista)\n",
    "contador_maior = minha_lista.count(maior)\n",
    "contador_menor = minha_lista.count(menor)\n",
    "\n",
    "print(f'Os valores digitados foram {minha_lista}')\n",
    "print(f'O maior número foi {maior} e aparece {contador_maior} vezes nas posições:', end=' ')\n",
    "\n",
    "for i, x in enumerate(minha_lista):\n",
    "    if x == maior:\n",
    "        print(i, end=' ')\n",
    "\n",
    "print()  # Print a new line\n",
    "print(f'O menor número foi {menor} e aparece {contador_menor} vezes nas posições:', end=' ')\n",
    "\n",
    "for i, x in enumerate(minha_lista):\n",
    "    if x == menor:\n",
    "        print(i, end=' ')\n",
    "\n",
    "print()  # Print a new line\n"
   ]
  }
 ],
 "metadata": {
  "kernelspec": {
   "display_name": "Python 3",
   "language": "python",
   "name": "python3"
  },
  "language_info": {
   "codemirror_mode": {
    "name": "ipython",
    "version": 3
   },
   "file_extension": ".py",
   "mimetype": "text/x-python",
   "name": "python",
   "nbconvert_exporter": "python",
   "pygments_lexer": "ipython3",
   "version": "3.12.0"
  }
 },
 "nbformat": 4,
 "nbformat_minor": 2
}
