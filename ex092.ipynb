{
 "cells": [
  {
   "cell_type": "code",
   "execution_count": null,
   "metadata": {},
   "outputs": [],
   "source": [
    "# Desafio 92 - Crie um programa que leia nome, ano de nascimento e carteira de trabalho e cadastre-os (com idade) em um dicionário se por acaso a CTPS for diferente de zero, o dicionário receberá tambem o ano de contratação e o salário.\n",
    "# calcule e acrescente, além da idade, com quantos anos a pessoa vai se aposentar."
   ]
  },
  {
   "cell_type": "code",
   "execution_count": 64,
   "metadata": {},
   "outputs": [
    {
     "name": "stdout",
     "output_type": "stream",
     "text": [
      "{'Nome': 'Gerson', 'Data de Nascimento': 1979, 'CTPS': '9876/1234', 'Ano_Contrato': 1998, 'Salário': 1.318, 'Idade da Aposentadoria': 54}\n"
     ]
    }
   ],
   "source": [
    "funcionarios = {}\n",
    "funcionarios['Nome'] = None\n",
    "funcionarios['Data de Nascimento'] = None\n",
    "funcionarios['CTPS'] = None\n",
    "funcionarios['Ano_Contrato'] = None\n",
    "funcionarios['Salário'] = None\n",
    "funcionarios['Nome'] = str(input('Digite o nome do Funcionário: '))\n",
    "funcionarios['Idade da Aposentadoria'] = None\n",
    "\n",
    "\n",
    "while True:\n",
    "    ano_nascimento = str(input('Digite apenas ano de nascimento do funcionário: '))\n",
    "    data = len(ano_nascimento)\n",
    "    if data != 4:\n",
    "        print('Você digitou uma dara inválida.')\n",
    "    else:\n",
    "        funcionarios['Data de Nascimento'] = int(ano_nascimento)\n",
    "        break\n",
    "\n",
    "ano_nascimento = int(ano_nascimento)\n",
    "ctps = str(input('Digite o N° da carteira de trabalho ou 0 se nunca trabalhou: ')).strip()\n",
    "\n",
    "if ctps[0] != '0':\n",
    "    funcionarios['CTPS'] = ctps\n",
    "    ano_contrato = int(input('Digite o ano de contrato:'))\n",
    "    funcionarios['Ano_Contrato'] = ano_contrato\n",
    "    salario = 1.318\n",
    "    funcionarios['Salário'] = salario\n",
    "    funcionarios['Idade da Aposentadoria'] = ano_contrato + 35 - ano_nascimento\n",
    "print(funcionarios)\n",
    "    "
   ]
  },
  {
   "cell_type": "code",
   "execution_count": 19,
   "metadata": {},
   "outputs": [
    {
     "name": "stdout",
     "output_type": "stream",
     "text": [
      "dict_keys(['Nome', 'Data de Nascimento', 'CTPS', 'Ano_Contrato', 'Salário', 'Idade da Aposentadoria'])\n"
     ]
    }
   ],
   "source": [
    "print(funcionarios.keys())"
   ]
  },
  {
   "cell_type": "code",
   "execution_count": 65,
   "metadata": {},
   "outputs": [
    {
     "name": "stdout",
     "output_type": "stream",
     "text": [
      "Nome do funcionario: Gerson\n",
      "Data de Nascimento: 1979\n",
      "Carteira de Trabalho: 9876/1234\n",
      "Ano do Contrato: 1998\n",
      "Salário: 1.318\n",
      "Idade em que vai se aposentar: 54\n"
     ]
    }
   ],
   "source": [
    "if funcionarios['CTPS'] == None:\n",
    "    print(f'Nome do funcionario: {funcionarios['Nome']}')\n",
    "    print(f'Data de Nascimento: {funcionarios['Data de Nascimento']}')\n",
    "    print(f'Carteira de Trabalho: {funcionarios['CTPS']}')\n",
    "else:\n",
    "    print(f'Nome do funcionario: {funcionarios['Nome']}')\n",
    "    print(f'Data de Nascimento: {funcionarios['Data de Nascimento']}')\n",
    "    print(f'Carteira de Trabalho: {funcionarios['CTPS']}')\n",
    "    print(f'Ano do Contrato: {funcionarios['Ano_Contrato']}')\n",
    "    print(f'Salário: {funcionarios['Salário']}')\n",
    "    print(f'Idade em que vai se aposentar: {funcionarios['Idade da Aposentadoria']}')\n"
   ]
  }
 ],
 "metadata": {
  "kernelspec": {
   "display_name": "Python 3",
   "language": "python",
   "name": "python3"
  },
  "language_info": {
   "codemirror_mode": {
    "name": "ipython",
    "version": 3
   },
   "file_extension": ".py",
   "mimetype": "text/x-python",
   "name": "python",
   "nbconvert_exporter": "python",
   "pygments_lexer": "ipython3",
   "version": "3.12.0"
  }
 },
 "nbformat": 4,
 "nbformat_minor": 2
}
