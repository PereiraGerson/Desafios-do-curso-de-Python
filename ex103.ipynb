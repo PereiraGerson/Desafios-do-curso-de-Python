{
 "cells": [
  {
   "cell_type": "code",
   "execution_count": null,
   "metadata": {},
   "outputs": [],
   "source": [
    "# Desafio 103 - Faça um programa que tenha uma função chamada ficha(), que receba dois parâmetros opcionais: o nome de um jogador e quantos gols ele marcou.\n",
    "\n",
    "# O programa deverá ser capaz de mostrar a ficha do jogador, mesmo que algum dado não tenha sido informado corretamente.\n",
    "\n",
    "# Obs. mesmo se não for digitado nenhum parâmetro o programa deve mostrar o resultado mesmo assim."
   ]
  },
  {
   "cell_type": "code",
   "execution_count": 50,
   "metadata": {},
   "outputs": [
    {
     "name": "stdout",
     "output_type": "stream",
     "text": [
      "--------------\n",
      "O jogador gerson fez 0 gols.\n"
     ]
    }
   ],
   "source": [
    "\n",
    "def ficha(*a, **b):\n",
    "    print('--------------')\n",
    "    nome = str(input('Digite o nome do Jogador: ')).strip()\n",
    "    gols = str(input('Digite a quantidade de gols: '))\n",
    "    \n",
    "    \n",
    "    if nome == '':\n",
    "        nome = '<desconhecido>'\n",
    "    if gols == '':\n",
    "        gols = int(0)\n",
    "        \n",
    "    else:\n",
    "        try:\n",
    "            gols = int(gols)\n",
    "        except ValueError:\n",
    "            gols = 0\n",
    "    \n",
    "    print(f'O jogador {nome} fez {gols} gols.')\n",
    "\n",
    "ficha()"
   ]
  }
 ],
 "metadata": {
  "kernelspec": {
   "display_name": "Python 3",
   "language": "python",
   "name": "python3"
  },
  "language_info": {
   "codemirror_mode": {
    "name": "ipython",
    "version": 3
   },
   "file_extension": ".py",
   "mimetype": "text/x-python",
   "name": "python",
   "nbconvert_exporter": "python",
   "pygments_lexer": "ipython3",
   "version": "3.12.0"
  }
 },
 "nbformat": 4,
 "nbformat_minor": 2
}
