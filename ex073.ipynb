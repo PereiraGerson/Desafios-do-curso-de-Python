{
 "cells": [
  {
   "cell_type": "code",
   "execution_count": null,
   "metadata": {},
   "outputs": [],
   "source": [
    "# Desafio 73 - crie uma tupla com os vinte primeiros colocados da tabela do campeonato brasileiro de futebol, na ordem de colocação. Depois mostre:\n",
    "# a) apenas os 5 primeiros colocados.\n",
    "# b) os últimos 4 colocados da tabela.\n",
    "# c) Uma lista com os times em ordem alfabética.\n",
    "# d) Em que posição na tabela está o time do Vasco."
   ]
  },
  {
   "cell_type": "code",
   "execution_count": 28,
   "metadata": {},
   "outputs": [
    {
     "name": "stdout",
     "output_type": "stream",
     "text": [
      "Os cinco primeiro colocados são: ('Botafogo', 'Bragantino', 'Palmeiras', 'Flamengo', 'Athletico-PR')\n",
      "Os últimos 4 colocados da tabela são: ('Goiás', 'Vasco', 'Coritiba', 'América-MG')\n",
      "Os times em ordem alfabética: ['América-MG', 'Athletico-MG', 'Athletico-PR', 'Bahia', 'Botafogo', 'Bragantino', 'Corinthians', 'Coritiba', 'Cruzeiro', 'Cuiaba', 'Flamengo', 'Fluminense', 'Fortaleza', 'Goiás', 'Grêmio', 'Internacional', 'Palmeiras', 'Santos', 'São Paulo', 'Vasco']\n",
      "O vasco esta na posição: 18°\n"
     ]
    }
   ],
   "source": [
    "tabela = ('Botafogo', 'Bragantino','Palmeiras','Flamengo','Athletico-PR','Grêmio','Athletico-MG','Fluminense','Fortaleza','São Paulo','Internacional','Cuiaba','Cruzeiro','Corinthians','Bahia','Santos','Goiás','Vasco','Coritiba','América-MG')\n",
    "\n",
    "\n",
    "print(f'Os cinco primeiro colocados são: {tabela[0:5]}')\n",
    "print(f'Os últimos 4 colocados da tabela são: {tabela[-4:]}')\n",
    "print(f'Os times em ordem alfabética: {sorted(tabela)}')\n",
    "print(f'O vasco esta na posição: {tabela.index('Vasco')+1}°')"
   ]
  }
 ],
 "metadata": {
  "kernelspec": {
   "display_name": "Python 3",
   "language": "python",
   "name": "python3"
  },
  "language_info": {
   "codemirror_mode": {
    "name": "ipython",
    "version": 3
   },
   "file_extension": ".py",
   "mimetype": "text/x-python",
   "name": "python",
   "nbconvert_exporter": "python",
   "pygments_lexer": "ipython3",
   "version": "3.12.0"
  }
 },
 "nbformat": 4,
 "nbformat_minor": 2
}
