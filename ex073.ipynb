{
 "cells": [
  {
   "cell_type": "code",
   "execution_count": null,
   "metadata": {},
   "outputs": [],
   "source": [
    "# Desafio 73 - crie uma tupla com os vinte primeiros colocados da tabela do campeonato brasileiro de futebol, na ordem de colocação. Depois mostre:\n",
    "# a) apenas os 5 primeiros colocados.\n",
    "# b) os últimos 4 colocados da tabela.\n",
    "# c) Uma lista com os times em ordem alfabética.\n",
    "# d) Em que posição na tabela está o time da chapecoense."
   ]
  }
 ],
 "metadata": {
  "language_info": {
   "name": "python"
  }
 },
 "nbformat": 4,
 "nbformat_minor": 2
}
