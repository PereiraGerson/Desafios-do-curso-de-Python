{
 "cells": [
  {
   "cell_type": "code",
   "execution_count": 313,
   "metadata": {},
   "outputs": [],
   "source": [
    "# QUESTÃO 2. Os professores de Educação Física estão organizando uma seletiva para montar a equipe de natação. Para isso, eles convocaram os 7 melhores tempos da última competição e marcaram o tempo de cada um dos nadadores, na prova dos 25 metros, estilo nado livre.\n",
    "# Considerando que não houve tempos iguais, construa um programa que leia o nome e o tempo (em segundos) de cada atleta e, em seguida, gere o seguinte relatório: a) nadador com o melhor tempo;  b) nadador com o pior desempenho e; c) tempo médio dos nadadores"
   ]
  },
  {
   "cell_type": "code",
   "execution_count": 314,
   "metadata": {},
   "outputs": [
    {
     "name": "stdout",
     "output_type": "stream",
     "text": [
      "[['Gerson', 49.08], ['Geovania', 21.54], ['Ester', 23.14], ['Joel', 40.54], ['Abel', 27.82], ['Cauã', 10.35], ['Marco', 41.53]]\n"
     ]
    }
   ],
   "source": [
    "import random\n",
    "competidores = []\n",
    "\n",
    "atleta = []\n",
    "\n",
    "for x in range(7):\n",
    "    atleta.append(str(input('Digite o nome do Nadador: ').strip()))\n",
    "    atleta.append(round(random.uniform(10.0, 50.0),2))\n",
    "    competidores.append(atleta[:])\n",
    "    atleta.clear()\n",
    "\n",
    "print(competidores)\n",
    "\n"
   ]
  },
  {
   "cell_type": "code",
   "execution_count": 315,
   "metadata": {},
   "outputs": [
    {
     "name": "stdout",
     "output_type": "stream",
     "text": [
      "O atleta Gerson teve o pior desempenho com 49.08 segundos.\n",
      "O Atleta Cauã venceu a competição com o tempo de 10.35 segundos.\n",
      "A média de tempo dos atletas foram 30.57 segundos.\n"
     ]
    }
   ],
   "source": [
    "segundos = []\n",
    "\n",
    "for i in competidores:\n",
    "    segundos.append(i[1])\n",
    "\n",
    "for y in competidores:\n",
    "    if min(segundos) == y[1]:\n",
    "        print(f'O Atleta {y[0]} venceu a competição com o tempo de {y[1]} segundos.')\n",
    "    elif max(segundos) == y[1]:\n",
    "        print(f'O atleta {y[0]} teve o pior desempenho com {y[1]} segundos.')\n",
    "print(f'A média de tempo dos atletas foram {sum(segundos) / len(competidores):.2f} segundos.')"
   ]
  },
  {
   "cell_type": "code",
   "execution_count": 323,
   "metadata": {},
   "outputs": [
    {
     "name": "stdout",
     "output_type": "stream",
     "text": [
      "['Gerson', 'Geovania', 'Ester', 'Joel', 'Abel', 'Cauã', 'Marco']\n",
      "[10.35, 21.54, 23.14, 27.82, 40.54, 41.53, 49.08]\n",
      "O atleta com o pior desempenho foi o Marco com o tempo de 49.08 segundos.\n",
      "O atleta com o melhor desempenho foi o Gerson com o tempo de 10.35 segundos.\n"
     ]
    }
   ],
   "source": [
    "lista_atletas = []\n",
    "lista_tempo = []\n",
    "for x in competidores:\n",
    "    lista_atletas.append(x[0])\n",
    "    lista_tempo.append(x[1])\n",
    "    \n",
    "lista_tempo = sorted(lista_tempo)\n",
    "print(lista_atletas)\n",
    "print(lista_tempo)\n",
    "maior_tempo = max(lista_tempo)\n",
    "menor_tempo = min(lista_tempo)\n",
    "\n",
    "print(f'O atleta com o pior desempenho foi o {lista_atletas[lista_tempo.index(maior_tempo)]} com o tempo de {maior_tempo} segundos.')\n",
    "print(f'O atleta com o melhor desempenho foi o {lista_atletas[lista_tempo.index(menor_tempo)]} com o tempo de {menor_tempo} segundos.')"
   ]
  },
  {
   "cell_type": "code",
   "execution_count": 324,
   "metadata": {},
   "outputs": [
    {
     "name": "stdout",
     "output_type": "stream",
     "text": [
      "==============================\n",
      "~~~~~~~LISTA DOS ATLETAS~~~~~~\n",
      "==============================\n",
      "Ind.0     Gerson   .....49.08\n",
      "Ind.1     Geovania .....21.54\n",
      "Ind.2     Ester    .....23.14\n",
      "Ind.3     Joel     .....40.54\n",
      "Ind.4     Abel     .....27.82\n",
      "Ind.5     Cauã     .....10.35\n",
      "Ind.6     Marco    .....41.53\n",
      "==============================\n",
      "O Atleta Geovania concluiu a competição em 21.54s.\n"
     ]
    }
   ],
   "source": [
    "print('='*30)\n",
    "print('~~~~~~~LISTA DOS ATLETAS~~~~~~')\n",
    "print('='*30)\n",
    "\n",
    "for indice, (nome, tempo) in enumerate(competidores):\n",
    "    print(f'Ind.{indice: <5} {nome:<8} {tempo:.>10}')\n",
    "\n",
    "print('='*30)\n",
    "\n",
    "escolha = int(input('Escolha atravé do indice qual Atleta deseja ver os dados:'))\n",
    "\n",
    "print(f'O Atleta {competidores[escolha][0]} concluiu a competição em {competidores[escolha][1]}s.')"
   ]
  }
 ],
 "metadata": {
  "kernelspec": {
   "display_name": "Python 3",
   "language": "python",
   "name": "python3"
  },
  "language_info": {
   "codemirror_mode": {
    "name": "ipython",
    "version": 3
   },
   "file_extension": ".py",
   "mimetype": "text/x-python",
   "name": "python",
   "nbconvert_exporter": "python",
   "pygments_lexer": "ipython3",
   "version": "3.12.0"
  }
 },
 "nbformat": 4,
 "nbformat_minor": 2
}
