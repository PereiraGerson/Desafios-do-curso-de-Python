{
 "cells": [
  {
   "cell_type": "code",
   "execution_count": null,
   "metadata": {},
   "outputs": [],
   "source": [
    "# QUESTÃO 2. Os professores de Educação Física estão organizando uma seletiva para montar a equipe de natação. Para isso, eles convocaram os 7 melhores tempos da última competição e marcaram o tempo de cada um dos nadadores, na prova dos 25 metros, estilo nado livre.\n",
    "# Considerando que não houve tempos iguais, construa um programa que leia o nome e o tempo (em segundos) de cada atleta e, em seguida, gere o seguinte relatório: a) nadador com o melhor tempo;  b) nadador com o pior desempenho e; c) tempo médio dos nadadores"
   ]
  },
  {
   "cell_type": "code",
   "execution_count": 157,
   "metadata": {},
   "outputs": [
    {
     "name": "stdout",
     "output_type": "stream",
     "text": [
      "[['gerson', 49.62], ['geovania', 16.78], ['joel', 33.9], ['abel', 11.39], ['ester', 20.22], ['cauã', 44.24], ['marco', 45.94]]\n"
     ]
    }
   ],
   "source": [
    "import random\n",
    "competidores = []\n",
    "\n",
    "atleta = []\n",
    "\n",
    "for x in range(7):\n",
    "    atleta.append(str(input('Digite o nome do Nadador: ').strip()))\n",
    "    atleta.append(round(random.uniform(10.0, 50.0),2))\n",
    "    competidores.append(atleta[:])\n",
    "    atleta.clear()\n",
    "\n",
    "print(competidores)\n",
    "\n"
   ]
  },
  {
   "cell_type": "code",
   "execution_count": 158,
   "metadata": {},
   "outputs": [
    {
     "name": "stdout",
     "output_type": "stream",
     "text": [
      "O atleta gerson teve o pior desempenho com 49.62 segundos.\n",
      "O Atleta abel venceu a competição com o tempo de 11.39 segundos.\n",
      "A média de tempo dos atletas foram 31.73 segundos.\n"
     ]
    }
   ],
   "source": [
    "segundos = []\n",
    "\n",
    "for i in competidores:\n",
    "    segundos.append(i[1])\n",
    "\n",
    "for y in competidores:\n",
    "    if min(segundos) == y[1]:\n",
    "        print(f'O Atleta {y[0]} venceu a competição com o tempo de {y[1]} segundos.')\n",
    "    elif max(segundos) == y[1]:\n",
    "        print(f'O atleta {y[0]} teve o pior desempenho com {y[1]} segundos.')\n",
    "print(f'A média de tempo dos atletas foram {sum(segundos) / len(competidores):.2f} segundos.')"
   ]
  }
 ],
 "metadata": {
  "kernelspec": {
   "display_name": "Python 3",
   "language": "python",
   "name": "python3"
  },
  "language_info": {
   "codemirror_mode": {
    "name": "ipython",
    "version": 3
   },
   "file_extension": ".py",
   "mimetype": "text/x-python",
   "name": "python",
   "nbconvert_exporter": "python",
   "pygments_lexer": "ipython3",
   "version": "3.12.0"
  }
 },
 "nbformat": 4,
 "nbformat_minor": 2
}
