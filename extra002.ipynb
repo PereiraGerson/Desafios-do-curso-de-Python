{
 "cells": [
  {
   "cell_type": "code",
   "execution_count": null,
   "metadata": {},
   "outputs": [],
   "source": [
    "# QUESTÃO 2. Os professores de Educação Física estão organizando uma seletiva para montar a equipe de natação. Para isso, eles convocaram os 7 melhores tempos da última competição e marcaram o tempo de cada um dos nadadores, na prova dos 25 metros, estilo nado livre.\n",
    "# Considerando que não houve tempos iguais, construa um programa que leia o nome e o tempo (em segundos) de cada atleta e, em seguida, gere o seguinte relatório: a) nadador com o melhor tempo;  b) nadador com o pior desempenho e; c) tempo médio dos nadadores"
   ]
  },
  {
   "cell_type": "code",
   "execution_count": 3,
   "metadata": {},
   "outputs": [
    {
     "name": "stdout",
     "output_type": "stream",
     "text": [
      "[['gerson', 'geo', 'ester', 'joel', 'abel', 'cauã', 'marco'], [9.0, 8.0, 7.0, 6.0, 5.0, 4.0, 3.0]]\n"
     ]
    }
   ],
   "source": [
    "competidores = []\n",
    "nome = []\n",
    "tempo = []\n",
    "for x in range(7):\n",
    "    nome.append(str(input('Digite o nome do Nadador: ').strip()))\n",
    "    tempo.append(float(input('Tempo do Atleta: ')))\n",
    "    \n",
    "competidores.append(nome)\n",
    "competidores.append(tempo)\n",
    "\n",
    "print(competidores)\n",
    "\n"
   ]
  },
  {
   "cell_type": "code",
   "execution_count": 75,
   "metadata": {},
   "outputs": [
    {
     "name": "stdout",
     "output_type": "stream",
     "text": [
      "['gerson', 'geo', 'ester', 'joel', 'abel', 'cauã', 'marco']\n",
      "[9.0, 8.0, 7.0, 6.0, 5.0, 4.0, 3.0]\n"
     ]
    }
   ],
   "source": [
    "for x in competidores:\n",
    "    print(x)"
   ]
  }
 ],
 "metadata": {
  "kernelspec": {
   "display_name": "Python 3",
   "language": "python",
   "name": "python3"
  },
  "language_info": {
   "codemirror_mode": {
    "name": "ipython",
    "version": 3
   },
   "file_extension": ".py",
   "mimetype": "text/x-python",
   "name": "python",
   "nbconvert_exporter": "python",
   "pygments_lexer": "ipython3",
   "version": "3.12.0"
  }
 },
 "nbformat": 4,
 "nbformat_minor": 2
}
