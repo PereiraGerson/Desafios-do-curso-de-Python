{
 "cells": [
  {
   "cell_type": "code",
   "execution_count": 2,
   "metadata": {},
   "outputs": [],
   "source": [
    "# Desafio 007 - Faça um Programa que as Duas notas de um aluno, calcule e mostre a média."
   ]
  },
  {
   "cell_type": "code",
   "execution_count": 4,
   "metadata": {},
   "outputs": [
    {
     "name": "stdout",
     "output_type": "stream",
     "text": [
      "A nota do primeiro bimestre é 23.0, e a do segundo bimestre é 55.0\n",
      "O total de pontos que o aluno fez foi 78.0 e a média geral foi 39.0\n"
     ]
    }
   ],
   "source": [
    "nota1 = float(input('Digite a primeira nota do aluno: '))\n",
    "nota2 = float(input('Digite a segunda nota do aluno: '))\n",
    "total = nota1 + nota2\n",
    "media = total / 2\n",
    "print('A nota do primeiro bimestre é {}, e a do segundo bimestre é {}'.format(nota1, nota2))\n",
    "print(\"O total de pontos que o aluno fez foi {} e a média geral foi {}\".format(total, media))"
   ]
  },
  {
   "cell_type": "code",
   "execution_count": null,
   "metadata": {},
   "outputs": [],
   "source": []
  }
 ],
 "metadata": {
  "kernelspec": {
   "display_name": "Python 3",
   "language": "python",
   "name": "python3"
  },
  "language_info": {
   "codemirror_mode": {
    "name": "ipython",
    "version": 3
   },
   "file_extension": ".py",
   "mimetype": "text/x-python",
   "name": "python",
   "nbconvert_exporter": "python",
   "pygments_lexer": "ipython3",
   "version": "3.11.5"
  },
  "orig_nbformat": 4
 },
 "nbformat": 4,
 "nbformat_minor": 2
}
