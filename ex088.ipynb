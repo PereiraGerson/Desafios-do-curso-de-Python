{
 "cells": [
  {
   "cell_type": "code",
   "execution_count": null,
   "metadata": {},
   "outputs": [],
   "source": [
    "# Desafio 88 - Faça um programa que ajude um jogador da mega sena a criar palpites. O programa vai perguntar quantos jogos serão gerados e vai sortear 6 números entre 1 e 60 para cada jogo, cadastrando tudo em uma lista composta.\n",
    "\n",
    "# OBS: Cada palpite deve demorar um segundo antes de aparecer."
   ]
  },
  {
   "cell_type": "code",
   "execution_count": 13,
   "metadata": {},
   "outputs": [
    {
     "name": "stdout",
     "output_type": "stream",
     "text": [
      "===== SORTEANDO 2 JOGOS =====\n",
      "O 1° jogo: [0, 3, 21, 27, 28, 58]\n",
      "O 2° jogo: [14, 25, 26, 39, 41, 57]\n",
      "===== BOA SORTE! =====\n"
     ]
    }
   ],
   "source": [
    "from time import sleep\n",
    "from random import randint\n",
    "\n",
    "jogos = []\n",
    "total = int(input('Quantos jogos deseja Sortear? '))\n",
    "print('='*5,f'SORTEANDO {total} JOGOS','='*5)\n",
    "for x in range(total):\n",
    "    sleep(1)\n",
    "    jogo = [randint(0,60) for i in range(6)]\n",
    "    jogo.sort()\n",
    "    jogos.append(jogo)\n",
    "    sleep(1)\n",
    "    print(f'O {x+1}° jogo: {jogo}')\n",
    "    \n",
    "print('='*5,'BOA SORTE!','='*5)"
   ]
  }
 ],
 "metadata": {
  "kernelspec": {
   "display_name": "Python 3",
   "language": "python",
   "name": "python3"
  },
  "language_info": {
   "codemirror_mode": {
    "name": "ipython",
    "version": 3
   },
   "file_extension": ".py",
   "mimetype": "text/x-python",
   "name": "python",
   "nbconvert_exporter": "python",
   "pygments_lexer": "ipython3",
   "version": "3.12.0"
  }
 },
 "nbformat": 4,
 "nbformat_minor": 2
}
