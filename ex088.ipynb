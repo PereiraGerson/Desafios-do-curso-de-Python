{
 "cells": [
  {
   "cell_type": "code",
   "execution_count": null,
   "metadata": {},
   "outputs": [],
   "source": [
    "# Desafio 88 - Faça um programa que ajude um jogador da mega sena a criar palpites. O programa vai perguntar quantos jogos serão gerados e vai sortear 6 números entre 1 e 60 para cada jogo, cadastrando tudo em uma lista composta.\n",
    "\n",
    "# OBS: Cada palpite deve demorar um segundo antes de aparecer."
   ]
  },
  {
   "cell_type": "code",
   "execution_count": 8,
   "metadata": {},
   "outputs": [
    {
     "name": "stdout",
     "output_type": "stream",
     "text": [
      "O 1° jogo sorteao é [40, 51, 5, 7, 13, 19]\n",
      "O 2° jogo sorteao é [56, 59, 21, 0, 49, 47]\n",
      "O 3° jogo sorteao é [52, 36, 17, 17, 37, 52]\n",
      "O 4° jogo sorteao é [49, 4, 8, 27, 44, 31]\n",
      "O 5° jogo sorteao é [29, 55, 58, 57, 11, 19]\n",
      "O 6° jogo sorteao é [7, 26, 58, 31, 48, 28]\n"
     ]
    }
   ],
   "source": [
    "from time import sleep\n",
    "from random import randint\n",
    "\n",
    "jogos = []\n",
    "for x in range(6):\n",
    "    sleep(1)\n",
    "    jogo = [randint(0,60) for i in range(6)]\n",
    "    jogos.append(jogo)\n",
    "    sleep(1)\n",
    "    print(f'O {x+1}° jogo sorteao é {jogo}')"
   ]
  }
 ],
 "metadata": {
  "kernelspec": {
   "display_name": "Python 3",
   "language": "python",
   "name": "python3"
  },
  "language_info": {
   "codemirror_mode": {
    "name": "ipython",
    "version": 3
   },
   "file_extension": ".py",
   "mimetype": "text/x-python",
   "name": "python",
   "nbconvert_exporter": "python",
   "pygments_lexer": "ipython3",
   "version": "3.12.0"
  }
 },
 "nbformat": 4,
 "nbformat_minor": 2
}
