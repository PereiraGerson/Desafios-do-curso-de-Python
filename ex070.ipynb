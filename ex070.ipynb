{
 "cells": [
  {
   "cell_type": "code",
   "execution_count": null,
   "metadata": {},
   "outputs": [],
   "source": [
    "# Desafio 070 - Crie um programa o nome e o preço de vários produtos. O programa deverá perguntar se o usuário quer continuar. no final mostre:\n",
    "\n",
    "# A) qual é o total gasto na compra.\n",
    "# B) Quantos produtos custam mais de 1.000.\n",
    "# C) Qual é o nome do produto mais barato."
   ]
  }
 ],
 "metadata": {
  "language_info": {
   "name": "python"
  }
 },
 "nbformat": 4,
 "nbformat_minor": 2
}
