{
 "cells": [
  {
   "cell_type": "code",
   "execution_count": null,
   "metadata": {},
   "outputs": [],
   "source": [
    "# Desafio 070 - Crie um programa que leia o nome e o preço de vários produtos. O programa deverá perguntar se o usuário quer continuar. no final mostre:\n",
    "\n",
    "# A) qual é o total gasto na compra.\n",
    "# B) Quantos produtos custam mais de 1.000.\n",
    "# C) Qual é o nome do produto mais barato."
   ]
  },
  {
   "cell_type": "code",
   "execution_count": 23,
   "metadata": {},
   "outputs": [
    {
     "name": "stdout",
     "output_type": "stream",
     "text": [
      "====================\n",
      "NOTA FISCAL\n",
      "====================\n",
      "Produtos\n",
      "['caneta', 'caderno', 'lapis']\n",
      "====================\n",
      "TOTAL GASTO R$ 2080.0\n",
      "O PRODUTO MAIS CARO custou R$ 1999.0\n",
      "PRODUTO MAIS BARATO DA LISTA FOI lapis  E CUSTOU 22.0\n"
     ]
    }
   ],
   "source": [
    "print('='*20)\n",
    "print('NOTA FISCAL')\n",
    "print('='*20)\n",
    "\n",
    "contador = 0\n",
    "menor_preço = 0\n",
    "produto_preço = 0\n",
    "barato = ''\n",
    "custo_total = []\n",
    "lista_produtos = []\n",
    "while True:\n",
    "    produto = str(input('Digite o nome do produto: ')).strip()\n",
    "    preço = float(input('Digite o valor: R$'))\n",
    "    continuar = str(input('Deseja continuar?[S/N] ')).strip().upper()[0]\n",
    "    custo_total.append(preço)\n",
    "    lista_produtos.append(produto)\n",
    "    menor_preço = preço\n",
    "    barato = produto\n",
    "    contador += 1\n",
    "    if contador == 1 or preço < menor_preço:\n",
    "        menor_preço = preço\n",
    "    if preço > 1000:\n",
    "        produto_preço += 1\n",
    "        \n",
    "    if continuar == 'N':\n",
    "        break\n",
    "    \n",
    "print('Produtos')\n",
    "print(lista_produtos)\n",
    "print('='*20)\n",
    "print(f'TOTAL GASTO R$ {sum(custo_total)}')\n",
    "print(f'O PRODUTO MAIS CARO custou R$ {max(custo_total)}')\n",
    "print(f'PRODUTO MAIS BARATO DA LISTA FOI {barato} E CUSTOU {menor_preço}')"
   ]
  }
 ],
 "metadata": {
  "kernelspec": {
   "display_name": "Python 3",
   "language": "python",
   "name": "python3"
  },
  "language_info": {
   "codemirror_mode": {
    "name": "ipython",
    "version": 3
   },
   "file_extension": ".py",
   "mimetype": "text/x-python",
   "name": "python",
   "nbconvert_exporter": "python",
   "pygments_lexer": "ipython3",
   "version": "3.12.0"
  }
 },
 "nbformat": 4,
 "nbformat_minor": 2
}
