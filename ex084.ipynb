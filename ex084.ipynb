{
 "cells": [
  {
   "cell_type": "code",
   "execution_count": 38,
   "metadata": {},
   "outputs": [],
   "source": [
    "# Desafio 84 - Faça um programa que leia o nome e peso de várias pessoas, guardando tudo em uma lista, no final mostre:\n",
    "# a) Quantas pessoas foram cadastradas.\n",
    "# b) Uma listagem com as pessoas mais pesadas.\n",
    "# c) Uma listagem com as pessoas mais leves."
   ]
  },
  {
   "cell_type": "code",
   "execution_count": 44,
   "metadata": {},
   "outputs": [
    {
     "name": "stdout",
     "output_type": "stream",
     "text": [
      "[['Gerson', 99], ['Geovania', 88], ['Ester', 50], ['Joel', 45], ['Abel', 39]]\n"
     ]
    }
   ],
   "source": [
    "nomes = []\n",
    "while True:\n",
    "    nome = []\n",
    "    nome.append(str(input('Digite um nome: ')))\n",
    "    nome.append(int(input('Digite o peso: ')))\n",
    "    nomes.append(nome)\n",
    "    stop = input('Deseja continuar[S/N]').upper()[0]\n",
    "    if stop == 'N':\n",
    "        break\n",
    "print(nomes)"
   ]
  },
  {
   "cell_type": "code",
   "execution_count": 70,
   "metadata": {},
   "outputs": [
    {
     "name": "stdout",
     "output_type": "stream",
     "text": [
      "foram cadastradas 5 pessoas.\n",
      "O mais pesado da lista é Gerson com 99Kg.\n",
      "O mais leve da lista é Abel com 39Kg.\n"
     ]
    }
   ],
   "source": [
    "print(f'foram cadastradas {len(nomes)} pessoas.')\n",
    "pesados = []\n",
    "for x in nomes:\n",
    "    pesados.append(x[1])\n",
    "    if x[1] == max(pesados):\n",
    "        print(f'O mais pesado da lista é {x[0]} com {max(pesados)}Kg.')\n",
    "for i in nomes:\n",
    "    if i[1] == min(pesados):\n",
    "        print(f'O mais leve da lista é {i[0]} com {min(pesados)}Kg.')"
   ]
  }
 ],
 "metadata": {
  "kernelspec": {
   "display_name": "Python 3",
   "language": "python",
   "name": "python3"
  },
  "language_info": {
   "codemirror_mode": {
    "name": "ipython",
    "version": 3
   },
   "file_extension": ".py",
   "mimetype": "text/x-python",
   "name": "python",
   "nbconvert_exporter": "python",
   "pygments_lexer": "ipython3",
   "version": "3.12.0"
  }
 },
 "nbformat": 4,
 "nbformat_minor": 2
}
