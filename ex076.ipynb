{
 "cells": [
  {
   "cell_type": "code",
   "execution_count": null,
   "metadata": {},
   "outputs": [],
   "source": [
    "# Desafio 76 - Crie um programa que tenha uma tupla única com nomes de produtos e seus respectivos preços, na sequencia.\n",
    "# No final, mostre uma listagem de preços, organizando os dados em forma tabular."
   ]
  }
 ],
 "metadata": {
  "language_info": {
   "name": "python"
  }
 },
 "nbformat": 4,
 "nbformat_minor": 2
}
