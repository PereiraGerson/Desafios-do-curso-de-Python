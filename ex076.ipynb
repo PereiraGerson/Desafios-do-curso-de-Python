{
 "cells": [
  {
   "cell_type": "code",
   "execution_count": null,
   "metadata": {},
   "outputs": [],
   "source": [
    "# Desafio 76 - Crie um programa que tenha uma tupla única com nomes de produtos e seus respectivos preços, na sequencia.\n",
    "# No final, mostre uma listagem de preços, organizando os dados em forma tabular."
   ]
  },
  {
   "cell_type": "code",
   "execution_count": 100,
   "metadata": {},
   "outputs": [
    {
     "name": "stdout",
     "output_type": "stream",
     "text": [
      "=========================\n",
      "       Nota Fiscal       \n",
      "=========================\n",
      "café................ R$ 8.00\n",
      "leite............... R$ 3.85\n",
      "pão................. R$ 0.50\n",
      "queijo.............. R$ 3.20\n",
      "  Total: R$ 15.55\n",
      "=========================\n",
      "           Fim           \n",
      "=========================\n"
     ]
    }
   ],
   "source": [
    "produtos = ('café', 8.00, 'leite', 3.85, 'pão', 0.50, 'queijo', 3.20)\n",
    "\n",
    "print('='*25)\n",
    "print('Nota Fiscal'.center(25))\n",
    "print('='*25)\n",
    "print(f'{produtos[0]:.<20} R$ {produtos[1]:.2f}')\n",
    "print(f'{produtos[2]:.<20} R$ {produtos[3]:.2f}')\n",
    "print(f'{produtos[4]:.<20} R$ {produtos[5]:.2f}')\n",
    "print(f'{produtos[6]:.<20} R$ {produtos[7]:.2f}')\n",
    "print(f'Total: R$ {sum(produtos[1::2]):.2f}'.rjust(17))\n",
    "print('='*25)\n",
    "print('Fim '.center(25))\n",
    "print('='*25)"
   ]
  },
  {
   "cell_type": "code",
   "execution_count": 101,
   "metadata": {},
   "outputs": [
    {
     "name": "stdout",
     "output_type": "stream",
     "text": [
      "=========================\n",
      "       Nota Fiscal       \n",
      "=========================\n",
      "café................ R$ 8.00\n",
      "leite............... R$ 3.85\n",
      "pão................. R$ 0.50\n",
      "queijo.............. R$ 3.20\n",
      "          Total: R$ 15.55\n",
      "=========================\n",
      "           Fim           \n",
      "=========================\n"
     ]
    }
   ],
   "source": [
    "produtos = ('café', 8.00, 'leite', 3.85, 'pão', 0.50, 'queijo', 3.20)\n",
    "\n",
    "print('=' * 25)\n",
    "print('Nota Fiscal'.center(25))\n",
    "print('=' * 25)\n",
    "\n",
    "for i in range(0, len(produtos), 2):\n",
    "    nome_produto = produtos[i]\n",
    "    preco_produto = produtos[i + 1]\n",
    "    print(f'{nome_produto:.<20} R$ {preco_produto:.2f}')\n",
    "\n",
    "total = sum(produtos[1::2])\n",
    "print(f'Total: R$ {total:.2f}'.rjust(25))\n",
    "\n",
    "print('=' * 25)\n",
    "print('Fim'.center(25))\n",
    "print('=' * 25)\n"
   ]
  }
 ],
 "metadata": {
  "kernelspec": {
   "display_name": "Python 3",
   "language": "python",
   "name": "python3"
  },
  "language_info": {
   "name": "python",
   "version": "3.12.0"
  }
 },
 "nbformat": 4,
 "nbformat_minor": 2
}
