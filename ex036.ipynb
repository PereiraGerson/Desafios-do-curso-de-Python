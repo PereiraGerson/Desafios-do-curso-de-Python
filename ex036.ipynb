{
 "cells": [
  {
   "cell_type": "code",
   "execution_count": 1,
   "metadata": {},
   "outputs": [],
   "source": [
    "# Desafio 036 - Escreva um programa para aprovar um empréstimo bancário para compra de uma casa. O programa vai perguntar o  VALOR DA CASA, o SALÁRIO do comprador em em QUANTOS ANOS ele vai pagar.\n",
    "# Calcule valor da prestação mensal, sabendo que ele não pode exceder 30% do salário ou então o emprestimo será negado."
   ]
  },
  {
   "cell_type": "code",
   "execution_count": 34,
   "metadata": {},
   "outputs": [
    {
     "name": "stdout",
     "output_type": "stream",
     "text": [
      "Suas parcelas ficaram em 750.0/Mes, isso representa mais do que 30% do seu salário que é de 2000.0.\n"
     ]
    }
   ],
   "source": [
    "emprestimo = float(input('Qual é o valor da casa?: '))\n",
    "parcelas = int(input('Quantas prestações serão?: '))\n",
    "salario = float(input('Qual é o salário do tomador?: '))\n",
    "prestação = emprestimo / parcelas\n",
    "\n",
    "if prestação > (salario / 100 * 30):\n",
    "    print('Suas parcelas ficaram em {}/Mes, isso representa mais do que 30% do seu salário que é de {}.' .format(prestação, salario))\n",
    "else:\n",
    "    print('Seu empréstimo foi aprovado! PARABÉNS! Você pagará parcelas de: {}.' .format(prestação))"
   ]
  }
 ],
 "metadata": {
  "kernelspec": {
   "display_name": "Python 3",
   "language": "python",
   "name": "python3"
  },
  "language_info": {
   "codemirror_mode": {
    "name": "ipython",
    "version": 3
   },
   "file_extension": ".py",
   "mimetype": "text/x-python",
   "name": "python",
   "nbconvert_exporter": "python",
   "pygments_lexer": "ipython3",
   "version": "3.12.0"
  }
 },
 "nbformat": 4,
 "nbformat_minor": 2
}
