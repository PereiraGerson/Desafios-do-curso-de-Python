{
 "cells": [
  {
   "cell_type": "code",
   "execution_count": null,
   "metadata": {},
   "outputs": [],
   "source": [
    "# Desafio 064 - Crie um programa que leia varios números inteiro pelo teclado. O programa só vai parar quando o usuário digitar o valor 999, que é a condição de parada. No final, mostre quantos números foram digitados e qual foi a soma entre eles (desconsiderando o flag),"
   ]
  },
  {
   "cell_type": "code",
   "execution_count": 2,
   "metadata": {},
   "outputs": [
    {
     "name": "stdout",
     "output_type": "stream",
     "text": [
      "Você digitou 3 vezes.\n"
     ]
    }
   ],
   "source": [
    "contagem = 0\n",
    "while True:\n",
    "    aleatorio = int(input('Digite um número:'))\n",
    "    contagem += 1\n",
    "    if aleatorio == 999:\n",
    "        break\n",
    "print(f'Você digitou {contagem} vezes.')"
   ]
  },
  {
   "cell_type": "code",
   "execution_count": null,
   "metadata": {},
   "outputs": [],
   "source": [
    "contagem = 0\n",
    "\n",
    "print(\"Digite números. Digite 999 para sair.\")\n",
    "\n",
    "while True:\n",
    "    try:\n",
    "        aleatorio = int(input('Digite um número: '))\n",
    "        contagem += 1\n",
    "        if aleatorio == 999:\n",
    "            break\n",
    "    except ValueError:\n",
    "        print(\"Por favor, digite um número válido.\")\n",
    "\n",
    "print(f'Você digitou {contagem} vezes.')\n"
   ]
  }
 ],
 "metadata": {
  "kernelspec": {
   "display_name": "Python 3",
   "language": "python",
   "name": "python3"
  },
  "language_info": {
   "codemirror_mode": {
    "name": "ipython",
    "version": 3
   },
   "file_extension": ".py",
   "mimetype": "text/x-python",
   "name": "python",
   "nbconvert_exporter": "python",
   "pygments_lexer": "ipython3",
   "version": "3.12.0"
  }
 },
 "nbformat": 4,
 "nbformat_minor": 2
}
