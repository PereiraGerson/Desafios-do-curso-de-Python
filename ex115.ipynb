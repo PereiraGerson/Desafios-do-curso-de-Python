{
 "cells": [
  {
   "cell_type": "code",
   "execution_count": null,
   "metadata": {},
   "outputs": [],
   "source": [
    "# Desafio 115 - Crie um pequeno sistema modularizado que permita cadastrar pessoas pelo seu nome e idade em um arquivo de texto simples.\n",
    "# O sistema só vai ter 2 opções: Cadastrar uma nova pessoa e listar todas as pessoas cadastradas."
   ]
  },
  {
   "cell_type": "code",
   "execution_count": 13,
   "metadata": {},
   "outputs": [
    {
     "name": "stdout",
     "output_type": "stream",
     "text": [
      "--------------------\n",
      "CADASTRO\n",
      "--------------------\n",
      "NOME      IDADE\n",
      "--------------------\n",
      "Oque deseja fazer:\n",
      "[01] - CADASTRAR USUÁRIO\n",
      "[02] - FIM\n",
      "--------------------\n",
      "CADASTRO\n",
      "--------------------\n",
      "NOME      IDADE\n",
      "gerson \t33\n",
      "--------------------\n",
      "Oque deseja fazer:\n",
      "[01] - CADASTRAR USUÁRIO\n",
      "[02] - FIM\n",
      "--------------------\n",
      "CADASTRO\n",
      "--------------------\n",
      "NOME      IDADE\n",
      "gerson \t33\n",
      "2 \t2\n",
      "--------------------\n",
      "Oque deseja fazer:\n",
      "[01] - CADASTRAR USUÁRIO\n",
      "[02] - FIM\n"
     ]
    }
   ],
   "source": [
    "usuarios = []\n",
    "\n",
    "def cadastro():\n",
    "    dicionario = {'Nome':'', 'Idade':0}\n",
    "    nome = str(input('Digite um nome: ')).strip()\n",
    "    idade = int(input(f'Digite a idade de {nome}: '))\n",
    "    dicionario['Idade'] = idade\n",
    "    dicionario['Nome'] = nome\n",
    "    usuarios.append(dicionario)\n",
    "    \n",
    "\n",
    "while True:\n",
    "    print('-'*20)\n",
    "    print('CADASTRO')\n",
    "    print('-'*20)\n",
    "    print('NOME      IDADE')\n",
    "    \n",
    "    for x in usuarios:\n",
    "        \n",
    "        print(f'{x['Nome']} \\t{x['Idade']}')\n",
    "    \n",
    "    print('-'*20)\n",
    "    print('Oque deseja fazer:')\n",
    "    print('[01] - CADASTRAR USUÁRIO')\n",
    "    print('[02] - FIM')\n",
    "    \n",
    "    opção = int(input('Digite a opção desejada: '))\n",
    "    if opção == 1:\n",
    "        cadastro()\n",
    "    elif opção == 2:\n",
    "        break"
   ]
  }
 ],
 "metadata": {
  "kernelspec": {
   "display_name": "Python 3",
   "language": "python",
   "name": "python3"
  },
  "language_info": {
   "codemirror_mode": {
    "name": "ipython",
    "version": 3
   },
   "file_extension": ".py",
   "mimetype": "text/x-python",
   "name": "python",
   "nbconvert_exporter": "python",
   "pygments_lexer": "ipython3",
   "version": "3.12.0"
  }
 },
 "nbformat": 4,
 "nbformat_minor": 2
}
