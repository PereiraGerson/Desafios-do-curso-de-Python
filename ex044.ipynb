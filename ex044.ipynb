{
 "cells": [
  {
   "cell_type": "code",
   "execution_count": null,
   "metadata": {},
   "outputs": [],
   "source": [
    "# Desafio 044 - Elabore um programa que calcule o valor a ser pago por um produto, considerando o seu preço normal e condições de pagamento:\n",
    "# - A vista dinheiro ou cheque: 10% de desconto.\n",
    "# - A vista no cartão: 5% de desconto.\n",
    "# - Em até 2x no cartão: Preço normal.\n",
    "# - 3x ou mais no cartão: 20% de juros."
   ]
  }
 ],
 "metadata": {
  "language_info": {
   "name": "python"
  }
 },
 "nbformat": 4,
 "nbformat_minor": 2
}
