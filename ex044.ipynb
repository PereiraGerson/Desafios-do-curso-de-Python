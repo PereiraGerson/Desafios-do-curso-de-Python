{
 "cells": [
  {
   "cell_type": "code",
   "execution_count": 1,
   "metadata": {},
   "outputs": [],
   "source": [
    "# Desafio 044 - Elabore um programa que calcule o valor a ser pago por um produto, considerando o seu preço normal e condições de pagamento:\n",
    "# - A vista dinheiro ou cheque: 10% de desconto.\n",
    "# - A vista no cartão: 5% de desconto.\n",
    "# - Em até 2x no cartão: Preço normal.\n",
    "# - 3x ou mais no cartão: 20% de juros."
   ]
  },
  {
   "cell_type": "code",
   "execution_count": 1,
   "metadata": {},
   "outputs": [
    {
     "name": "stdout",
     "output_type": "stream",
     "text": [
      "Escolha uma opção: \n",
      "[ 1 ]Avista \n",
      "[ 2 ]cartão \n",
      "[ 3 ]parcelado 2x \n",
      "[ 4 ]parcelado 3x \n",
      "O produto parcelado 2x custará 1000.0\n"
     ]
    }
   ],
   "source": [
    "preço = float(input('Qual é o valor do produto: '))\n",
    "\n",
    "avista = preço - (preço / 100 * 10)\n",
    "cartao = preço - (preço / 100 * 5)\n",
    "parcelado_2x = preço + 0\n",
    "parcelado_3x = preço + (preço / 100 * 20)\n",
    "\n",
    "print('''Escolha uma opção: \n",
    "[ 1 ]Avista \n",
    "[ 2 ]cartão \n",
    "[ 3 ]parcelado 2x \n",
    "[ 4 ]parcelado 3x ''')\n",
    "forma_de_pagamento = input('Qual é a forma de pagamento: ')\n",
    "\n",
    "if forma_de_pagamento == '1':\n",
    "    print('O produto avista custará {}'.format(avista))\n",
    "\n",
    "elif forma_de_pagamento == '2':\n",
    "    print('O produto no cartão custará {}'.format(cartao))\n",
    "\n",
    "elif forma_de_pagamento == '3':\n",
    "    print('O produto parcelado 2x custará {}'.format(parcelado_2x))\n",
    "\n",
    "elif forma_de_pagamento == '4':\n",
    "    print('O produto parcelado 3x custará {}'.format(parcelado_3x))\n"
   ]
  }
 ],
 "metadata": {
  "kernelspec": {
   "display_name": "Python 3",
   "language": "python",
   "name": "python3"
  },
  "language_info": {
   "codemirror_mode": {
    "name": "ipython",
    "version": 3
   },
   "file_extension": ".py",
   "mimetype": "text/x-python",
   "name": "python",
   "nbconvert_exporter": "python",
   "pygments_lexer": "ipython3",
   "version": "3.12.0"
  }
 },
 "nbformat": 4,
 "nbformat_minor": 2
}
