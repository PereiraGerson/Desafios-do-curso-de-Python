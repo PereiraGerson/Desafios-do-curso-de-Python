{
 "cells": [
  {
   "cell_type": "code",
   "execution_count": null,
   "metadata": {},
   "outputs": [],
   "source": [
    "# Desafio 045 - Crie um programa que faça o computador jogar Jokenpo com você."
   ]
  },
  {
   "cell_type": "code",
   "execution_count": 33,
   "metadata": {},
   "outputs": [
    {
     "name": "stdout",
     "output_type": "stream",
     "text": [
      "Eu escolhi: pedra\n",
      "\u001b[1;31;47mEmpatou!\u001b[m\n"
     ]
    }
   ],
   "source": [
    "import random\n",
    "\n",
    "lista = ['pedra', 'papel', 'tesoura']\n",
    "escolha = input('Escolha qual será sua mão: ')\n",
    "computador = random.choice(lista)\n",
    "print('Eu escolhi:',computador)\n",
    "\n",
    "if escolha == 'tesoura' and computador == 'papel':\n",
    "    print('\\033[0;33;44m Você Ganhou!\\33[m')\n",
    "\n",
    "elif escolha == 'papel' and computador == 'pedra':\n",
    "    print('\\033[0;33;44m Você Ganhou!\\33[m')\n",
    "\n",
    "elif escolha == 'pedra' and computador == 'tesoura':\n",
    "    print('\\033[0;33;44m Você Ganhou!\\33[m')\n",
    "    \n",
    "elif escolha == computador:\n",
    "    print('\\033[1;31;47mEmpatou!\\33[m')\n",
    "\n",
    "elif escolha not in ['tesoura', 'papel', 'pedra']:\n",
    "    print('Você digitou algo errado.')\n",
    "    \n",
    "else:\n",
    "    print('\\033[1;33;41mVocê Perdeu!\\33[m')\n",
    "    \n",
    "     "
   ]
  }
 ],
 "metadata": {
  "kernelspec": {
   "display_name": "Python 3",
   "language": "python",
   "name": "python3"
  },
  "language_info": {
   "codemirror_mode": {
    "name": "ipython",
    "version": 3
   },
   "file_extension": ".py",
   "mimetype": "text/x-python",
   "name": "python",
   "nbconvert_exporter": "python",
   "pygments_lexer": "ipython3",
   "version": "3.12.0"
  }
 },
 "nbformat": 4,
 "nbformat_minor": 2
}
