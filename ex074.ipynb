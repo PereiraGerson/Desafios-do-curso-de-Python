{
 "cells": [
  {
   "cell_type": "code",
   "execution_count": null,
   "metadata": {},
   "outputs": [],
   "source": [
    "# Desafio 74 - Crie um programa que vai gerar cinco números aleatorios e colocar em uma tupla.\n",
    "# Depois disso, mostrar a listagem de números gerados e também indique o menor e o maior valor que estão na tupla."
   ]
  }
 ],
 "metadata": {
  "language_info": {
   "name": "python"
  }
 },
 "nbformat": 4,
 "nbformat_minor": 2
}
