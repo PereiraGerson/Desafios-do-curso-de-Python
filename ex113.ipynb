{
 "cells": [
  {
   "cell_type": "code",
   "execution_count": null,
   "metadata": {},
   "outputs": [],
   "source": [
    "# Desafio 113 - Reescreva a função leiaint() que fizemos no desafio 104, incluindo agora a possibilidade da digitação de um número do tipo inválido. Aproveite e crie também uma função leiafloat() com a mesma funcionalidade."
   ]
  },
  {
   "cell_type": "code",
   "execution_count": 6,
   "metadata": {},
   "outputs": [
    {
     "name": "stdout",
     "output_type": "stream",
     "text": [
      "Erro, \"'1'\" não é um número inteiro. Digite um número inteiro.\n"
     ]
    }
   ],
   "source": [
    "def leiaint():\n",
    "    while True:\n",
    "        \n",
    "        n = input()\n",
    "        \n",
    "        if n.isnumeric():\n",
    "            break\n",
    "        else:\n",
    "            print(f'Erro, \"{n}\" não é um número inteiro. Digite um número inteiro.')\n",
    "        \n",
    "leiaint()\n"
   ]
  }
 ],
 "metadata": {
  "kernelspec": {
   "display_name": "Python 3",
   "language": "python",
   "name": "python3"
  },
  "language_info": {
   "codemirror_mode": {
    "name": "ipython",
    "version": 3
   },
   "file_extension": ".py",
   "mimetype": "text/x-python",
   "name": "python",
   "nbconvert_exporter": "python",
   "pygments_lexer": "ipython3",
   "version": "3.12.0"
  }
 },
 "nbformat": 4,
 "nbformat_minor": 2
}
