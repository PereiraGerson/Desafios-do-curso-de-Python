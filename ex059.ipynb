{
 "cells": [
  {
   "cell_type": "code",
   "execution_count": null,
   "metadata": {},
   "outputs": [],
   "source": [
    "# Desafio 059 - Crie um programa que leie dois valores e mostre um menú na tela:\n",
    "# [1] somar\n",
    "# [2] multiplicar\n",
    "# [3] maior\n",
    "# [4] novos números\n",
    "# [5] Sair do programa.\n",
    "# Seu programa devererá mostrar a operação solicitada em cada caso."
   ]
  },
  {
   "cell_type": "code",
   "execution_count": 22,
   "metadata": {},
   "outputs": [
    {
     "name": "stdout",
     "output_type": "stream",
     "text": [
      "ESCOLHA UMA OPÇÃO ABAIXO: \n",
      "    [1] somar\n",
      "    [2] multiplicar\n",
      "    [3] maior\n",
      "    [4] novos números\n",
      "    [5] Sair do programa\n",
      "Você digitou 5, fim do programa.\n"
     ]
    }
   ],
   "source": [
    "while True:\n",
    "    valor1 = int(input('Digite um número: '))\n",
    "    valor2 = int(input('Digite outro número: '))\n",
    "\n",
    "    print('''ESCOLHA UMA OPÇÃO ABAIXO: \n",
    "    [1] somar\n",
    "    [2] multiplicar\n",
    "    [3] maior\n",
    "    [4] novos números\n",
    "    [5] Sair do programa''')\n",
    "\n",
    "    opcao = int(input('DIGITE A OPÇÃO DESEJADA: '))\n",
    "\n",
    "    if opcao == 1:\n",
    "        print('Você escolheu a opção 1, o resultado é {} + {} = {}'.format(valor1, valor2, valor1 + valor2))\n",
    "    elif opcao == 2:\n",
    "        print('Você escolheu a opção 2, o resultado é {} * {} = {}'.format(valor1, valor2, valor2 * valor1))\n",
    "    elif opcao == 3:\n",
    "        if valor1 > valor2:\n",
    "            print('Você escolheu a opção 3, entre {} e {} o maior é {}'.format(valor1, valor2, valor1))\n",
    "        else:\n",
    "            print('Você escolheu a opção 3, entre {} e {} o maior é {}'.format(valor1, valor2, valor2))\n",
    "    elif opcao == 4:\n",
    "        continue  # Permite que o loop continue e solicite novos números\n",
    "    elif opcao == 5:\n",
    "        print('Você digitou 5, fim do programa.')\n",
    "        break\n"
   ]
  }
 ],
 "metadata": {
  "kernelspec": {
   "display_name": "Python 3",
   "language": "python",
   "name": "python3"
  },
  "language_info": {
   "codemirror_mode": {
    "name": "ipython",
    "version": 3
   },
   "file_extension": ".py",
   "mimetype": "text/x-python",
   "name": "python",
   "nbconvert_exporter": "python",
   "pygments_lexer": "ipython3",
   "version": "3.12.0"
  }
 },
 "nbformat": 4,
 "nbformat_minor": 2
}
