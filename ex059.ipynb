{
 "cells": [
  {
   "cell_type": "code",
   "execution_count": null,
   "metadata": {},
   "outputs": [],
   "source": [
    "# Desafio 059 - Crie um programa que leie dois valores e mostre um menú na tela:\n",
    "# [1] somar\n",
    "# [2] multiplicar\n",
    "# [3] maior\n",
    "# [4] novos números\n",
    "# [5] Sair do programa.\n",
    "# Seu programa devererá mostrar a operação solicitada em cada caso."
   ]
  },
  {
   "cell_type": "code",
   "execution_count": 21,
   "metadata": {},
   "outputs": [
    {
     "name": "stdout",
     "output_type": "stream",
     "text": [
      "ESCOLHA UMA OPÇÃO ABAIXO: \n",
      "    [1] somar\n",
      "    [2] multiplicar\n",
      "    [3] maior\n",
      "    [4] novos números\n",
      "    [5] Sair do programa\n",
      "Você escolheu a opção 2, o resultado é 3 * 4 = 12\n",
      "ESCOLHA UMA OPÇÃO ABAIXO: \n",
      "    [1] somar\n",
      "    [2] multiplicar\n",
      "    [3] maior\n",
      "    [4] novos números\n",
      "    [5] Sair do programa\n"
     ]
    },
    {
     "ename": "ValueError",
     "evalue": "invalid literal for int() with base 10: ''",
     "output_type": "error",
     "traceback": [
      "\u001b[1;31m---------------------------------------------------------------------------\u001b[0m",
      "\u001b[1;31mValueError\u001b[0m                                Traceback (most recent call last)",
      "\u001b[1;32mc:\\Users\\gerso\\OneDrive\\Documentos\\GitHub\\Desafios-do-curso-de-Python\\ex059.ipynb Cell 2\u001b[0m line \u001b[0;36m2\n\u001b[0;32m      <a href='vscode-notebook-cell:/c%3A/Users/gerso/OneDrive/Documentos/GitHub/Desafios-do-curso-de-Python/ex059.ipynb#W1sZmlsZQ%3D%3D?line=0'>1</a>\u001b[0m \u001b[39mwhile\u001b[39;00m \u001b[39mTrue\u001b[39;00m:\n\u001b[1;32m----> <a href='vscode-notebook-cell:/c%3A/Users/gerso/OneDrive/Documentos/GitHub/Desafios-do-curso-de-Python/ex059.ipynb#W1sZmlsZQ%3D%3D?line=1'>2</a>\u001b[0m     valor1 \u001b[39m=\u001b[39m \u001b[39mint\u001b[39;49m(\u001b[39minput\u001b[39;49m(\u001b[39m'\u001b[39;49m\u001b[39mDigite um número: \u001b[39;49m\u001b[39m'\u001b[39;49m))\n\u001b[0;32m      <a href='vscode-notebook-cell:/c%3A/Users/gerso/OneDrive/Documentos/GitHub/Desafios-do-curso-de-Python/ex059.ipynb#W1sZmlsZQ%3D%3D?line=2'>3</a>\u001b[0m     valor2 \u001b[39m=\u001b[39m \u001b[39mint\u001b[39m(\u001b[39minput\u001b[39m(\u001b[39m'\u001b[39m\u001b[39mDigite outro número: \u001b[39m\u001b[39m'\u001b[39m))\n\u001b[0;32m      <a href='vscode-notebook-cell:/c%3A/Users/gerso/OneDrive/Documentos/GitHub/Desafios-do-curso-de-Python/ex059.ipynb#W1sZmlsZQ%3D%3D?line=4'>5</a>\u001b[0m     \u001b[39mprint\u001b[39m(\u001b[39m'''\u001b[39m\u001b[39mESCOLHA UMA OPÇÃO ABAIXO: \u001b[39m\n\u001b[0;32m      <a href='vscode-notebook-cell:/c%3A/Users/gerso/OneDrive/Documentos/GitHub/Desafios-do-curso-de-Python/ex059.ipynb#W1sZmlsZQ%3D%3D?line=5'>6</a>\u001b[0m \u001b[39m    [1] somar\u001b[39m\n\u001b[0;32m      <a href='vscode-notebook-cell:/c%3A/Users/gerso/OneDrive/Documentos/GitHub/Desafios-do-curso-de-Python/ex059.ipynb#W1sZmlsZQ%3D%3D?line=6'>7</a>\u001b[0m \u001b[39m    [2] multiplicar\u001b[39m\n\u001b[0;32m      <a href='vscode-notebook-cell:/c%3A/Users/gerso/OneDrive/Documentos/GitHub/Desafios-do-curso-de-Python/ex059.ipynb#W1sZmlsZQ%3D%3D?line=7'>8</a>\u001b[0m \u001b[39m    [3] maior\u001b[39m\n\u001b[0;32m      <a href='vscode-notebook-cell:/c%3A/Users/gerso/OneDrive/Documentos/GitHub/Desafios-do-curso-de-Python/ex059.ipynb#W1sZmlsZQ%3D%3D?line=8'>9</a>\u001b[0m \u001b[39m    [4] novos números\u001b[39m\n\u001b[0;32m     <a href='vscode-notebook-cell:/c%3A/Users/gerso/OneDrive/Documentos/GitHub/Desafios-do-curso-de-Python/ex059.ipynb#W1sZmlsZQ%3D%3D?line=9'>10</a>\u001b[0m \u001b[39m    [5] Sair do programa\u001b[39m\u001b[39m'''\u001b[39m)\n",
      "\u001b[1;31mValueError\u001b[0m: invalid literal for int() with base 10: ''"
     ]
    }
   ],
   "source": [
    "while True:\n",
    "    valor1 = int(input('Digite um número: '))\n",
    "    valor2 = int(input('Digite outro número: '))\n",
    "\n",
    "    print('''ESCOLHA UMA OPÇÃO ABAIXO: \n",
    "    [1] somar\n",
    "    [2] multiplicar\n",
    "    [3] maior\n",
    "    [4] novos números\n",
    "    [5] Sair do programa''')\n",
    "\n",
    "    opcao = int(input('DIGITE A OPÇÃO DESEJADA: '))\n",
    "\n",
    "    if opcao == 1:\n",
    "        print('Você escolheu a opção 1, o resultado é {} + {} = {}'.format(valor1, valor2, valor1 + valor2))\n",
    "    elif opcao == 2:\n",
    "        print('Você escolheu a opção 2, o resultado é {} * {} = {}'.format(valor1, valor2, valor2 * valor1))\n",
    "    elif opcao == 3:\n",
    "        if valor1 > valor2:\n",
    "            print('Você escolheu a opção 3, entre {} e {} o maior é {}'.format(valor1, valor2, valor1))\n",
    "        else:\n",
    "            print('Você escolheu a opção 3, entre {} e {} o maior é {}'.format(valor1, valor2, valor2))\n",
    "    elif opcao == 4:\n",
    "        continue  # Permite que o loop continue e solicite novos números\n",
    "    elif opcao == 5:\n",
    "        print('Você digitou 5, fim do programa.')\n",
    "        break\n"
   ]
  }
 ],
 "metadata": {
  "kernelspec": {
   "display_name": "Python 3",
   "language": "python",
   "name": "python3"
  },
  "language_info": {
   "codemirror_mode": {
    "name": "ipython",
    "version": 3
   },
   "file_extension": ".py",
   "mimetype": "text/x-python",
   "name": "python",
   "nbconvert_exporter": "python",
   "pygments_lexer": "ipython3",
   "version": "3.12.0"
  }
 },
 "nbformat": 4,
 "nbformat_minor": 2
}
