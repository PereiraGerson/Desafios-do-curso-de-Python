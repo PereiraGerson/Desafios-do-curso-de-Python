{
 "cells": [
  {
   "cell_type": "code",
   "execution_count": null,
   "metadata": {},
   "outputs": [],
   "source": [
    "# Desafio 055 - Faça um programa que leia o peso de cinco pessoas. No final, mostre qual foi o maior e qual foi o menor peso lidos."
   ]
  },
  {
   "cell_type": "code",
   "execution_count": 4,
   "metadata": {},
   "outputs": [
    {
     "name": "stdout",
     "output_type": "stream",
     "text": [
      "O menor peso é 10\n",
      "O maior peso é 100\n"
     ]
    }
   ],
   "source": [
    "\n",
    "lista = [int(input('Digite o {}° peso: '.format(x))) for x in range(1, 6)]\n",
    "\n",
    "print(f'O menor peso é {min(lista)}')\n",
    "print(f'O maior peso é {max(lista)}')\n"
   ]
  }
 ],
 "metadata": {
  "kernelspec": {
   "display_name": "Python 3",
   "language": "python",
   "name": "python3"
  },
  "language_info": {
   "codemirror_mode": {
    "name": "ipython",
    "version": 3
   },
   "file_extension": ".py",
   "mimetype": "text/x-python",
   "name": "python",
   "nbconvert_exporter": "python",
   "pygments_lexer": "ipython3",
   "version": "3.12.0"
  }
 },
 "nbformat": 4,
 "nbformat_minor": 2
}
