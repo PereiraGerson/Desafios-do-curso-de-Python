{
 "cells": [
  {
   "cell_type": "code",
   "execution_count": null,
   "metadata": {},
   "outputs": [],
   "source": [
    "# Desafio 055 - Faça um programa que leia o peso de cinco pessoas. No final, mostre qual foi o maior e qual foi o menor peso lidos."
   ]
  },
  {
   "cell_type": "code",
   "execution_count": 7,
   "metadata": {},
   "outputs": [
    {
     "name": "stdout",
     "output_type": "stream",
     "text": [
      "O menor peso é 34\n",
      "O maior peso é 666\n"
     ]
    }
   ],
   "source": [
    "maria = int(input('Qual é o peso da Maria: '))\n",
    "pedro = int(input('Qual é do Pedro: '))\n",
    "joao = int(input('Qual é o peso do Joao: '))\n",
    "jorge = int(input('Qual é o peso do Jorge: '))\n",
    "joana = int(input('Qual é o peso do Joana: '))\n",
    "\n",
    "lista = [maria, pedro, joao, jorge, joana]\n",
    "\n",
    "print(f'O menor peso é {min(lista)}')\n",
    "print(f'O maior peso é {max(lista)}')\n"
   ]
  }
 ],
 "metadata": {
  "kernelspec": {
   "display_name": "Python 3",
   "language": "python",
   "name": "python3"
  },
  "language_info": {
   "codemirror_mode": {
    "name": "ipython",
    "version": 3
   },
   "file_extension": ".py",
   "mimetype": "text/x-python",
   "name": "python",
   "nbconvert_exporter": "python",
   "pygments_lexer": "ipython3",
   "version": "3.12.0"
  }
 },
 "nbformat": 4,
 "nbformat_minor": 2
}
