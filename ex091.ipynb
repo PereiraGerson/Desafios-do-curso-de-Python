{
 "cells": [
  {
   "cell_type": "code",
   "execution_count": null,
   "metadata": {},
   "outputs": [],
   "source": [
    "# Desafio 91 - Crie um programa onde 4 jogadores joguem um dado e tenham resultado aleatórios. Guarde esses resultados em um dicionário. No final, coloque esses resultados em ordem, sabendo que o vencedor tirou o maior número no dado."
   ]
  },
  {
   "cell_type": "code",
   "execution_count": 135,
   "metadata": {},
   "outputs": [
    {
     "name": "stdout",
     "output_type": "stream",
     "text": [
      "O jogador1 tirou 2\n",
      "O jogador2 tirou 1\n",
      "O jogador3 tirou 1\n",
      "O jogador4 tirou 4\n",
      "O 1° vencedor foi o jogador4 com 4 no dado\n",
      "O 2° vencedor foi o jogador1 com 2 no dado\n",
      "O 3° vencedor foi o jogador2 com 1 no dado\n",
      "O 4° vencedor foi o jogador3 com 1 no dado\n"
     ]
    }
   ],
   "source": [
    "from random import randint\n",
    "from operator import itemgetter\n",
    "\n",
    "jogadores = {'jogador1': randint(1,6), 'jogador2': randint(1,6), 'jogador3': randint(1,6), 'jogador4': randint(1,6)}\n",
    "\n",
    "for x,i in jogadores.items():\n",
    "    print(f'O {x} tirou {i}')\n",
    "\n",
    "ranking = list()\n",
    "\n",
    "ranking = sorted(jogadores.items(), key=itemgetter(1), reverse=True)\n",
    "\n",
    "for k,v in enumerate(ranking):\n",
    "    print(f'O {k+1}° vencedor foi o {v[0]} com {v[1]} no dado')\n",
    "\n",
    "    \n",
    "    \n",
    "\n",
    "    "
   ]
  }
 ],
 "metadata": {
  "kernelspec": {
   "display_name": "Python 3",
   "language": "python",
   "name": "python3"
  },
  "language_info": {
   "codemirror_mode": {
    "name": "ipython",
    "version": 3
   },
   "file_extension": ".py",
   "mimetype": "text/x-python",
   "name": "python",
   "nbconvert_exporter": "python",
   "pygments_lexer": "ipython3",
   "version": "3.12.0"
  }
 },
 "nbformat": 4,
 "nbformat_minor": 2
}
