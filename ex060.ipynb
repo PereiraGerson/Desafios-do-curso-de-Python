{
 "cells": [
  {
   "cell_type": "code",
   "execution_count": null,
   "metadata": {},
   "outputs": [],
   "source": [
    "# Desafio 060 - Faça um programa que leia um número qualquer e mostre o seu fatorial.\n",
    "# ex:\n",
    "# 5!=5x4x3x3x1=120"
   ]
  },
  {
   "cell_type": "code",
   "execution_count": 15,
   "metadata": {},
   "outputs": [
    {
     "name": "stdout",
     "output_type": "stream",
     "text": [
      " 5 x 4 x 3 x 2 x 1 x"
     ]
    }
   ],
   "source": [
    "num_qualquer = int(input('Digite um número qualquer: '))\n",
    "fatorial = num_qualquer\n",
    "while fatorial > 0:\n",
    "    x = 'x'\n",
    "    print(' {} {}'.format(fatorial, x), end='')\n",
    "    fatorial -=1"
   ]
  },
  {
   "cell_type": "code",
   "execution_count": 50,
   "metadata": {},
   "outputs": [
    {
     "name": "stdout",
     "output_type": "stream",
     "text": [
      "O fatorial de 5 é: 120\n",
      "Lista de fatores:  [5, 4, 3, 2, 1]\n",
      "O produto dos dois primeiros elementos da lista é: 20\n"
     ]
    }
   ],
   "source": [
    "num_qualquer = int(input('Digite um número qualquer: '))\n",
    "fatorial = num_qualquer\n",
    "resultado_fatorial = 1\n",
    "lista = []\n",
    "\n",
    "while fatorial > 0:\n",
    "    resultado_fatorial *= fatorial\n",
    "    lista.append(fatorial)\n",
    "    fatorial -= 1\n",
    "\n",
    "print(f'O fatorial de {num_qualquer} é: {resultado_fatorial}')\n",
    "print('Lista de fatores: ', lista)\n",
    "\n",
    "# Verificar se há pelo menos dois elementos na lista\n",
    "if len(lista) >= 2:\n",
    "    multiplicacao = lista[0] * lista[1]\n",
    "    print(f'O produto dos dois primeiros elementos da lista é: {multiplicacao}')\n",
    "else:\n",
    "    print('A lista não possui elementos suficientes para multiplicação.')\n"
   ]
  },
  {
   "cell_type": "code",
   "execution_count": 1,
   "metadata": {},
   "outputs": [
    {
     "name": "stdout",
     "output_type": "stream",
     "text": [
      "O fatorial de 5 é 120.\n"
     ]
    }
   ],
   "source": [
    "# Solicita ao usuário para inserir um número\n",
    "numero = int(input(\"Digite um número para calcular o fatorial: \"))\n",
    "\n",
    "# Verifica se o número é negativo\n",
    "if numero < 0:\n",
    "    print(\"Fatorial não está definido para números negativos.\")\n",
    "elif numero == 0:\n",
    "    print(\"O fatorial de 0 é 1.\")\n",
    "else:\n",
    "    fatorial = 1\n",
    "    for i in range(1, numero + 1):\n",
    "        fatorial *= i\n",
    "    print(f\"O fatorial de {numero} é {fatorial}.\")\n"
   ]
  }
 ],
 "metadata": {
  "kernelspec": {
   "display_name": "Python 3",
   "language": "python",
   "name": "python3"
  },
  "language_info": {
   "codemirror_mode": {
    "name": "ipython",
    "version": 3
   },
   "file_extension": ".py",
   "mimetype": "text/x-python",
   "name": "python",
   "nbconvert_exporter": "python",
   "pygments_lexer": "ipython3",
   "version": "3.12.0"
  }
 },
 "nbformat": 4,
 "nbformat_minor": 2
}
