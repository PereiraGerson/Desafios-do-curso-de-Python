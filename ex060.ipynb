{
 "cells": [
  {
   "cell_type": "code",
   "execution_count": null,
   "metadata": {},
   "outputs": [],
   "source": [
    "# Desafio 060 - Faça um programa que leia um número qualquer e mostre o seu fatorial.\n",
    "# ex:\n",
    "# 5!=5x4x3x3x1=120"
   ]
  },
  {
   "cell_type": "code",
   "execution_count": 49,
   "metadata": {},
   "outputs": [
    {
     "name": "stdout",
     "output_type": "stream",
     "text": [
      "5!= 20\n",
      "5!= 15\n",
      "5!= 10\n",
      "5!= 5\n",
      "[20, 15, 10, 5]\n",
      "300\n",
      "300\n",
      "300\n",
      "300\n"
     ]
    }
   ],
   "source": [
    "num_qualquer = int(input('Digite um número qualquer: '))\n",
    "fatorial = num_qualquer - 1\n",
    "lista = []\n",
    "while fatorial > 0:\n",
    "    resultado = num_qualquer * fatorial\n",
    "    print(f'{num_qualquer}!= {resultado}') \n",
    "    fatorial -=1\n",
    "    lista.append(resultado)\n",
    "print(lista)\n",
    "for x in lista:\n",
    "    print(lista[0]*lista[1])"
   ]
  },
  {
   "cell_type": "code",
   "execution_count": 50,
   "metadata": {},
   "outputs": [
    {
     "name": "stdout",
     "output_type": "stream",
     "text": [
      "O fatorial de 5 é: 120\n",
      "Lista de fatores:  [5, 4, 3, 2, 1]\n",
      "O produto dos dois primeiros elementos da lista é: 20\n"
     ]
    }
   ],
   "source": [
    "num_qualquer = int(input('Digite um número qualquer: '))\n",
    "fatorial = num_qualquer\n",
    "resultado_fatorial = 1\n",
    "lista = []\n",
    "\n",
    "while fatorial > 0:\n",
    "    resultado_fatorial *= fatorial\n",
    "    lista.append(fatorial)\n",
    "    fatorial -= 1\n",
    "\n",
    "print(f'O fatorial de {num_qualquer} é: {resultado_fatorial}')\n",
    "print('Lista de fatores: ', lista)\n",
    "\n",
    "# Verificar se há pelo menos dois elementos na lista\n",
    "if len(lista) >= 2:\n",
    "    multiplicacao = lista[0] * lista[1]\n",
    "    print(f'O produto dos dois primeiros elementos da lista é: {multiplicacao}')\n",
    "else:\n",
    "    print('A lista não possui elementos suficientes para multiplicação.')\n"
   ]
  }
 ],
 "metadata": {
  "kernelspec": {
   "display_name": "Python 3",
   "language": "python",
   "name": "python3"
  },
  "language_info": {
   "codemirror_mode": {
    "name": "ipython",
    "version": 3
   },
   "file_extension": ".py",
   "mimetype": "text/x-python",
   "name": "python",
   "nbconvert_exporter": "python",
   "pygments_lexer": "ipython3",
   "version": "3.12.0"
  }
 },
 "nbformat": 4,
 "nbformat_minor": 2
}
