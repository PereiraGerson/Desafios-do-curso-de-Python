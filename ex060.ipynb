{
 "cells": [
  {
   "cell_type": "code",
   "execution_count": null,
   "metadata": {},
   "outputs": [],
   "source": [
    "# Desafio 060 - Faça um programa que leia um número qualquer e mostre o seu fatorial.\n",
    "# ex:\n",
    "# 5!=5x4x3x3x1=120"
   ]
  }
 ],
 "metadata": {
  "language_info": {
   "name": "python"
  }
 },
 "nbformat": 4,
 "nbformat_minor": 2
}
