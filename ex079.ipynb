{
 "cells": [
  {
   "cell_type": "code",
   "execution_count": null,
   "metadata": {},
   "outputs": [],
   "source": [
    "# Desafio 79 - Crie um programa onde o usuário pode inserir varios valores numéricos e cadastre-os em uma lista. Caso o número ja exista la dentro ele não será adicionado. No final será exibido todos os valores únicos digitados, em ordem crescente."
   ]
  },
  {
   "cell_type": "code",
   "execution_count": 30,
   "metadata": {},
   "outputs": [
    {
     "name": "stdout",
     "output_type": "stream",
     "text": [
      "O número 2 já consta na lista, digite outro número.\n",
      "Os valores digitados foram ['2', '3', '5']\n"
     ]
    }
   ],
   "source": [
    "lista_usuario = []\n",
    "\n",
    "while True:\n",
    "    num = input('Digite um valor: ')\n",
    "    stop = str(input('Deseja continar:[S/N]')).upper()[0]\n",
    "    \n",
    "    if num not in lista_usuario:\n",
    "        lista_usuario.append(num)\n",
    "    else:\n",
    "        print(f'O número {num} já consta na lista, digite outro número.')\n",
    "    \n",
    "    if stop == 'N':\n",
    "        break\n",
    "        \n",
    "print(f'Os valores digitados foram {sorted(lista_usuario)}')\n"
   ]
  }
 ],
 "metadata": {
  "kernelspec": {
   "display_name": "Python 3",
   "language": "python",
   "name": "python3"
  },
  "language_info": {
   "codemirror_mode": {
    "name": "ipython",
    "version": 3
   },
   "file_extension": ".py",
   "mimetype": "text/x-python",
   "name": "python",
   "nbconvert_exporter": "python",
   "pygments_lexer": "ipython3",
   "version": "3.12.0"
  }
 },
 "nbformat": 4,
 "nbformat_minor": 2
}
