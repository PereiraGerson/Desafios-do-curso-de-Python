{
 "cells": [
  {
   "cell_type": "code",
   "execution_count": null,
   "metadata": {},
   "outputs": [],
   "source": [
    "# Desafio 004 - Faça um programa que leia algo digitado e mostre todos os tipos primitivos.\n",
    "\n",
    "\n",
    "lista = []\n",
    "\n",
    "while True:\n",
    "    nova_lista = input('Digite qualquer coisa: ')\n",
    "    lista.append(nova_lista)\n",
    "    parar = input('Se quiser parar de adicionar digite x: ')\n",
    "    if parar == 'x':\n",
    "        #lista.remove('x')\n",
    "        break\n",
    "\n",
    "print(type(lista))\n",
    "\n"
   ]
  }
 ],
 "metadata": {
  "language_info": {
   "name": "python"
  }
 },
 "nbformat": 4,
 "nbformat_minor": 2
}
