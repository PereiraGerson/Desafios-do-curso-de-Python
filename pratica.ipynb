{
 "cells": [
  {
   "cell_type": "code",
   "execution_count": 78,
   "metadata": {},
   "outputs": [
    {
     "name": "stdout",
     "output_type": "stream",
     "text": [
      "Você digitou os seguintes valores: [48, 30, 41, 21, 89, 2, 79, 73, 68, 36, 55, 12, 37, 17, 76, 16, 8, 68, 2, 66]\n",
      "O maior valor é 89 e está na posição (4) \n",
      "O menor valor é 2 e está na posição (5) (18) \n"
     ]
    }
   ],
   "source": [
    "from random import randint\n",
    "posição = []\n",
    "for i in range(20):\n",
    "    valor = randint(0,99)\n",
    "    posição.append(valor)\n",
    "\n",
    "maior_valor = max(posição)\n",
    "menor_valor = min(posição)\n",
    "\n",
    "print(f'Você digitou os seguintes valores: {posição}')\n",
    "print(f'O maior valor é {maior_valor} e está na posição ', end='')\n",
    "for k,v in enumerate(posição):\n",
    "    if v == maior_valor:\n",
    "        print(f'({k}) ', end='')\n",
    "print()\n",
    "\n",
    "print(f'O menor valor é {menor_valor} e está na posição ', end='')\n",
    "for k,v in enumerate(posição):\n",
    "    if v == menor_valor:\n",
    "        print(f'({k}) ', end='')\n",
    "print()\n",
    "    "
   ]
  }
 ],
 "metadata": {
  "kernelspec": {
   "display_name": "Python 3",
   "language": "python",
   "name": "python3"
  },
  "language_info": {
   "codemirror_mode": {
    "name": "ipython",
    "version": 3
   },
   "file_extension": ".py",
   "mimetype": "text/x-python",
   "name": "python",
   "nbconvert_exporter": "python",
   "pygments_lexer": "ipython3",
   "version": "3.12.0"
  }
 },
 "nbformat": 4,
 "nbformat_minor": 2
}
