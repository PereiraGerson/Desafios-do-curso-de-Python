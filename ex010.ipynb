{
 "cells": [
  {
   "cell_type": "code",
   "execution_count": 1,
   "metadata": {},
   "outputs": [],
   "source": [
    "# Desafio 010 - Crie um programa que leia quantos reais a pessoa tem na carteira e quantos dólares da para comprar."
   ]
  },
  {
   "cell_type": "code",
   "execution_count": 2,
   "metadata": {},
   "outputs": [
    {
     "name": "stdout",
     "output_type": "stream",
     "text": [
      "Você tem R$ 50.0 reais na carteira, da para comprar US$ 9.94 dólares.\n"
     ]
    }
   ],
   "source": [
    "carteira = float(input('Quantos reais você tem na carteira?: '))\n",
    "cotacao_dolar = float(5.03)\n",
    "saldo = carteira / cotacao_dolar\n",
    "print('Você tem R$ {} reais na carteira, da para comprar US$ {:.2f} dólares.'.format(carteira, saldo))"
   ]
  }
 ],
 "metadata": {
  "kernelspec": {
   "display_name": "Python 3",
   "language": "python",
   "name": "python3"
  },
  "language_info": {
   "codemirror_mode": {
    "name": "ipython",
    "version": 3
   },
   "file_extension": ".py",
   "mimetype": "text/x-python",
   "name": "python",
   "nbconvert_exporter": "python",
   "pygments_lexer": "ipython3",
   "version": "3.11.5"
  },
  "orig_nbformat": 4
 },
 "nbformat": 4,
 "nbformat_minor": 2
}
