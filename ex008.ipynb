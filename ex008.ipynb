{
 "cells": [
  {
   "cell_type": "code",
   "execution_count": 1,
   "metadata": {},
   "outputs": [],
   "source": [
    "# Desafio 008 - Escreva um programa que leia um valor em metros e mostre convertido em centímetros e milimetros."
   ]
  },
  {
   "cell_type": "code",
   "execution_count": 5,
   "metadata": {},
   "outputs": [
    {
     "name": "stdout",
     "output_type": "stream",
     "text": [
      "1 metros em centimetros são: 100cm\n",
      "1 metros em milimetros são: 1000mm\n",
      "1 metros em kilometros são: 0.01km\n"
     ]
    }
   ],
   "source": [
    "metros = int(input('Digite um valor em metros: '))\n",
    "cm = metros * 100\n",
    "mm = metros * 1000\n",
    "km = metros /  100\n",
    "print('{} metros em centimetros são: {}cm'.format(metros, cm))\n",
    "print('{} metros em milimetros são: {}mm'.format(metros, mm))\n",
    "print('{} metros em kilometros são: {}km'.format(metros, km))"
   ]
  }
 ],
 "metadata": {
  "kernelspec": {
   "display_name": "Python 3",
   "language": "python",
   "name": "python3"
  },
  "language_info": {
   "codemirror_mode": {
    "name": "ipython",
    "version": 3
   },
   "file_extension": ".py",
   "mimetype": "text/x-python",
   "name": "python",
   "nbconvert_exporter": "python",
   "pygments_lexer": "ipython3",
   "version": "3.11.5"
  },
  "orig_nbformat": 4
 },
 "nbformat": 4,
 "nbformat_minor": 2
}
