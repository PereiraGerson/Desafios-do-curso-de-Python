{
 "cells": [
  {
   "cell_type": "code",
   "execution_count": 21,
   "metadata": {},
   "outputs": [],
   "source": [
    "# Desafio 009 - Faça um programa que leia um número inteiro qualquer e mostre na tela a sua tabuada."
   ]
  },
  {
   "cell_type": "code",
   "execution_count": 30,
   "metadata": {},
   "outputs": [
    {
     "name": "stdout",
     "output_type": "stream",
     "text": [
      "A tabuada de 142 é:\n",
      "142 x 0 = 0\n",
      "142 x 1 = 142\n",
      "142 x 2 = 284\n",
      "142 x 3 = 426\n",
      "142 x 4 = 568\n",
      "142 x 5 = 710\n",
      "142 x 6 = 852\n",
      "142 x 7 = 994\n",
      "142 x 8 = 1136\n",
      "142 x 9 = 1278\n",
      "142 x 10 = 1420\n"
     ]
    }
   ],
   "source": [
    "num = int(input('Digite um número: '))\n",
    "\n",
    "print('A tabuada de {} é:'.format(num))\n",
    "for r in range(11):\n",
    "    total = r * num\n",
    "    print('{} x {} = {}'.format(num,r, total))\n",
    "    r = r + 1"
   ]
  }
 ],
 "metadata": {
  "kernelspec": {
   "display_name": "Python 3",
   "language": "python",
   "name": "python3"
  },
  "language_info": {
   "codemirror_mode": {
    "name": "ipython",
    "version": 3
   },
   "file_extension": ".py",
   "mimetype": "text/x-python",
   "name": "python",
   "nbconvert_exporter": "python",
   "pygments_lexer": "ipython3",
   "version": "3.11.5"
  },
  "orig_nbformat": 4
 },
 "nbformat": 4,
 "nbformat_minor": 2
}
