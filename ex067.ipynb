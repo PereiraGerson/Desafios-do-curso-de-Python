{
 "cells": [
  {
   "cell_type": "code",
   "execution_count": null,
   "metadata": {},
   "outputs": [],
   "source": [
    "# Desafio 067 - Faça um programa que mostre a tabuada de vários números, um de cada vez, para cada valor digitadoto pelo usuário. O programa será interrompido quando o número soliciatado for negativo."
   ]
  },
  {
   "cell_type": "code",
   "execution_count": 10,
   "metadata": {},
   "outputs": [
    {
     "name": "stdout",
     "output_type": "stream",
     "text": [
      "A tabuada de 7 é :\n",
      "1 x 7 = 7\n",
      "2 x 7 = 14\n",
      "3 x 7 = 21\n",
      "4 x 7 = 28\n",
      "5 x 7 = 35\n",
      "6 x 7 = 42\n",
      "7 x 7 = 49\n",
      "8 x 7 = 56\n",
      "9 x 7 = 63\n",
      "10 x 7 = 70\n",
      "Você digitou um número negativo!\n"
     ]
    }
   ],
   "source": [
    "while True:\n",
    "    aleatorio = int(input('Digite um número: '))\n",
    "    if aleatorio < -1: \n",
    "        print('Você digitou um número negativo!')\n",
    "        break\n",
    "    divisor = int(input('Você quer a tabuada até quanto?: ')) + 1\n",
    "    resultado = 1\n",
    "    print('A tabuada de {} é :'.format(aleatorio))\n",
    "    while True:\n",
    "        print('{} x {} = {}'.format(resultado, aleatorio, resultado * aleatorio))\n",
    "        resultado += 1\n",
    "        if resultado == divisor:\n",
    "            break"
   ]
  },
  {
   "cell_type": "code",
   "execution_count": 15,
   "metadata": {},
   "outputs": [
    {
     "name": "stdout",
     "output_type": "stream",
     "text": [
      "Você digitou um número negativo!\n"
     ]
    }
   ],
   "source": [
    "aleatorio = int(input('Digite um número: '))\n",
    "\n",
    "if aleatorio < 0:\n",
    "    print('Você digitou um número negativo!')\n",
    "else:\n",
    "    limite = int(input('Você quer a tabuada até quanto?: '))\n",
    "    print(f'A tabuada de {aleatorio} é:')\n",
    "    for resultado in range(1, limite + 1):\n",
    "        print('{} x {} = {}'.format(resultado, aleatorio, resultado * aleatorio))\n"
   ]
  }
 ],
 "metadata": {
  "kernelspec": {
   "display_name": "Python 3",
   "language": "python",
   "name": "python3"
  },
  "language_info": {
   "codemirror_mode": {
    "name": "ipython",
    "version": 3
   },
   "file_extension": ".py",
   "mimetype": "text/x-python",
   "name": "python",
   "nbconvert_exporter": "python",
   "pygments_lexer": "ipython3",
   "version": "3.12.0"
  }
 },
 "nbformat": 4,
 "nbformat_minor": 2
}
