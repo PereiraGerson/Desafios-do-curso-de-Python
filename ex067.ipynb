{
 "cells": [
  {
   "cell_type": "code",
   "execution_count": null,
   "metadata": {},
   "outputs": [],
   "source": [
    "# Desafio 067 - Faça um programa que mostre a tabuada de vários números, um de cada vez, para cada valor digitadoto pelo usuário. O programa será interrompido quando o número soliciatado for negativo."
   ]
  }
 ],
 "metadata": {
  "language_info": {
   "name": "python"
  }
 },
 "nbformat": 4,
 "nbformat_minor": 2
}
