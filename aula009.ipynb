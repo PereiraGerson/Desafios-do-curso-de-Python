{
 "cells": [
  {
   "cell_type": "code",
   "execution_count": 2,
   "metadata": {},
   "outputs": [],
   "source": [
    "# Exercicio da aula 09.\n",
    "# Crie um programa que leia o nome completo de uma pessoa e mostre:\n",
    "# 1 - O nome com todas as letras maiúsculas.\n",
    "# 2 - O nome com todas as letras minúsculas.\n",
    "# 3 - Quatas letras ao todo o nome tem sem contar os espaços.\n",
    "# 4 - Quanta letras tem o primeiro nome.\n",
    "# 5 - print o primeiro e o ultimo nome"
   ]
  },
  {
   "cell_type": "code",
   "execution_count": 46,
   "metadata": {},
   "outputs": [
    {
     "name": "stdout",
     "output_type": "stream",
     "text": [
      "Seu nome em maiusculo é GERSON DA SILVA NUMA BOA\n",
      "Seu nome em minusculo é gerson da silva numa boa\n",
      "Seu primeiro nome tem 6 letras\n",
      "seu nome todo tem 24 letras\n",
      "seu primeiro nome é gerson e seu ultimo nome é boa\n"
     ]
    }
   ],
   "source": [
    "nome = str(input(\"Digite seu nome completo: \")).strip()\n",
    "nome_maisculo = nome.upper()\n",
    "nome_minusculo = nome.lower()\n",
    "nome = nome.split()\n",
    "\n",
    "print(f\"Seu nome em maiusculo é {nome_maisculo}\")\n",
    "print(f\"Seu nome em minusculo é {nome_minusculo}\")\n",
    "print('Seu primeiro nome tem {} letras'.format(len(nome[0])))\n",
    "print('seu nome todo tem {} letras'.format(len(nome_maisculo)))\n",
    "print('seu primeiro nome é {} e seu ultimo nome é {}'.format(nome[0], nome[-1]))\n",
    "     "
   ]
  }
 ],
 "metadata": {
  "kernelspec": {
   "display_name": "Python 3",
   "language": "python",
   "name": "python3"
  },
  "language_info": {
   "codemirror_mode": {
    "name": "ipython",
    "version": 3
   },
   "file_extension": ".py",
   "mimetype": "text/x-python",
   "name": "python",
   "nbconvert_exporter": "python",
   "pygments_lexer": "ipython3",
   "version": "3.12.0"
  }
 },
 "nbformat": 4,
 "nbformat_minor": 2
}
