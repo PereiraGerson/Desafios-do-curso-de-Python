{
 "cells": [
  {
   "cell_type": "code",
   "execution_count": null,
   "metadata": {},
   "outputs": [],
   "source": [
    "# Desafio 054 - Crie um programa que leia o ano de nascimento de sete pessoas. No final mostre quantas pessoas ainda não atingiram a maioridade e quantas ja são maiores.\n",
    "# considerando maioridade 21 anos."
   ]
  },
  {
   "cell_type": "code",
   "execution_count": 43,
   "metadata": {},
   "outputs": [
    {
     "name": "stdout",
     "output_type": "stream",
     "text": [
      "A lista de pessoas com mais de 21 anos: 1\n",
      "A lista de pessoas com menos de 21 anos: 2\n"
     ]
    }
   ],
   "source": [
    "from datetime import datetime\n",
    "\n",
    "lista_pessoa = [int(input('Digite o ano de nascimento de uma pessoa: ')) for x in range(3)]\n",
    "ano_atual = datetime.today().year\n",
    "qtd = 0\n",
    "\n",
    "for ano_nascimento in lista_pessoa:\n",
    "    idade = ano_atual - ano_nascimento\n",
    "    if idade >= 21:\n",
    "        qtd  += 1\n",
    "        \n",
    "print(f'A lista de pessoas com mais de 21 anos: {qtd}')\n",
    "print(f'A lista de pessoas com menos de 21 anos: {len(lista_pessoa) - qtd}')"
   ]
  },
  {
   "cell_type": "code",
   "execution_count": 41,
   "metadata": {},
   "outputs": [
    {
     "name": "stdout",
     "output_type": "stream",
     "text": [
      "A lista de pessoas com mais de 21 anos: 2\n",
      "A lista de pessoas com menos de 21 anos: 1\n"
     ]
    }
   ],
   "source": [
    "from datetime import datetime\n",
    "\n",
    "# Obtém o ano atual\n",
    "ano_atual = datetime.now().year\n",
    "\n",
    "# Lista de anos de nascimento usando compreenssão de lista.\n",
    "lista_pessoa = [int(input('Digite o ano de nascimento de uma pessoa: ')) for _ in range(3)]\n",
    "\n",
    "# Calcula e imprime diretamente na f-string\n",
    "print(f'A lista de pessoas com mais de 21 anos: {sum(ano_atual - ano >= 21 for ano in lista_pessoa)}')\n",
    "print(f'A lista de pessoas com menos de 21 anos: {sum(ano_atual - ano <= 20 for ano in lista_pessoa)}')\n"
   ]
  }
 ],
 "metadata": {
  "kernelspec": {
   "display_name": "Python 3",
   "language": "python",
   "name": "python3"
  },
  "language_info": {
   "codemirror_mode": {
    "name": "ipython",
    "version": 3
   },
   "file_extension": ".py",
   "mimetype": "text/x-python",
   "name": "python",
   "nbconvert_exporter": "python",
   "pygments_lexer": "ipython3",
   "version": "3.12.0"
  }
 },
 "nbformat": 4,
 "nbformat_minor": 2
}
