{
 "cells": [
  {
   "cell_type": "code",
   "execution_count": null,
   "metadata": {},
   "outputs": [],
   "source": [
    "# Desafio 054 - Crie um programa que leia o ano de nascimento de sete pessoas. No final mostre quantas pessoas ainda não atingiram a maioridade e quantas ja são maiores.\n",
    "# considerando maioridade 21 anos."
   ]
  },
  {
   "cell_type": "code",
   "execution_count": 15,
   "metadata": {},
   "outputs": [
    {
     "name": "stdout",
     "output_type": "stream",
     "text": [
      "A lista de pessoas com mais de 21 anos: 3\n",
      "A lista de pessoas com menos de 21 anos: 4\n"
     ]
    }
   ],
   "source": [
    "from datetime import datetime\n",
    "\n",
    "p1 = int(input('Digite o ano de nascimento de uma pessoa: '))\n",
    "p2 = int(input('Digite o ano de nascimento de uma pessoa: '))\n",
    "p3 = int(input('Digite o ano de nascimento de uma pessoa: '))\n",
    "p4 = int(input('Digite o ano de nascimento de uma pessoa: '))\n",
    "p5 = int(input('Digite o ano de nascimento de uma pessoa: '))\n",
    "p6 = int(input('Digite o ano de nascimento de uma pessoa: '))\n",
    "p7 = int(input('Digite o ano de nascimento de uma pessoa: '))\n",
    "\n",
    "lista_pessoa = [p1, p2, p3, p4, p5, p6, p7]\n",
    "ano_atual = datetime.now()\n",
    "lista_adulto = []\n",
    "lista_menor = []\n",
    "\n",
    "for x in lista_pessoa:\n",
    "    if x <= ano_atual.year - 21:\n",
    "        lista_adulto.append(x)\n",
    "    else:\n",
    "        lista_menor.append(x)\n",
    "\n",
    "print(f'A lista de pessoas com mais de 21 anos: {len(lista_adulto)}')\n",
    "print(f'A lista de pessoas com menos de 21 anos: {len(lista_menor)}')"
   ]
  }
 ],
 "metadata": {
  "kernelspec": {
   "display_name": "Python 3",
   "language": "python",
   "name": "python3"
  },
  "language_info": {
   "codemirror_mode": {
    "name": "ipython",
    "version": 3
   },
   "file_extension": ".py",
   "mimetype": "text/x-python",
   "name": "python",
   "nbconvert_exporter": "python",
   "pygments_lexer": "ipython3",
   "version": "3.12.0"
  }
 },
 "nbformat": 4,
 "nbformat_minor": 2
}
