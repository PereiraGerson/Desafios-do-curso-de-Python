{
 "cells": [
  {
   "cell_type": "code",
   "execution_count": null,
   "metadata": {},
   "outputs": [],
   "source": [
    "# Desafio 002 - Faça um programa que leia o nome da pessoa e mostre uma mensagem de boas vindas.\n",
    "\n",
    "name = str(input('Qual é o seu nome? '))\n",
    "greetings = 'Seja bem vindo!'\n",
    "print(greetings, name)\n"
   ]
  }
 ],
 "metadata": {
  "language_info": {
   "name": "python"
  }
 },
 "nbformat": 4,
 "nbformat_minor": 2
}
