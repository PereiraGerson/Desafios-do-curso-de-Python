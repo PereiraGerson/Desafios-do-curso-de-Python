{
 "cells": [
  {
   "cell_type": "code",
   "execution_count": 5,
   "metadata": {},
   "outputs": [
    {
     "name": "stdout",
     "output_type": "stream",
     "text": [
      "GERSON DE\n",
      "gerson de\n",
      "8\n",
      "6\n",
      "0\n"
     ]
    }
   ],
   "source": [
    "# Desafio 022 - Faça um programa que leia o nome completo de uma pessoa e mostre:\n",
    "# O nome com todas as letra maiusculas e minusculas.\n",
    "# Todas as letras ao todo sem considerar os espaços.\n",
    "# Quantas letras tem o primeiro nome.\n",
    "\n",
    "\n",
    "nome = str(input( 'Escreva seu nome completo: '))\n",
    "\n",
    "print(nome.upper())\n",
    "print(nome.lower())\n",
    "\n",
    "print(len(nome) - nome.count(' '))\n",
    "\n",
    "print(nome.find(' '))\n",
    "\n",
    "print(nome.find(nome))"
   ]
  }
 ],
 "metadata": {
  "kernelspec": {
   "display_name": "Python 3",
   "language": "python",
   "name": "python3"
  },
  "language_info": {
   "codemirror_mode": {
    "name": "ipython",
    "version": 3
   },
   "file_extension": ".py",
   "mimetype": "text/x-python",
   "name": "python",
   "nbconvert_exporter": "python",
   "pygments_lexer": "ipython3",
   "version": "3.12.0"
  }
 },
 "nbformat": 4,
 "nbformat_minor": 2
}
