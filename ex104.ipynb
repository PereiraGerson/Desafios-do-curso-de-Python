{
 "cells": [
  {
   "cell_type": "code",
   "execution_count": null,
   "metadata": {},
   "outputs": [],
   "source": [
    "# Desafio 104 - Crie um programa que tenha uma funçao  leiaInt(), que vai funcionar de forma semelhante à função input() do Python, só que fazendo a validação para aceitar apenas um valor numérico.\n",
    "\n",
    "# ex: N = leiaInt('Digite um n'\n",
    "# Obs. o programa deve apresentar um erro se não foi um número inteiro."
   ]
  },
  {
   "cell_type": "code",
   "execution_count": 47,
   "metadata": {},
   "outputs": [
    {
     "name": "stdout",
     "output_type": "stream",
     "text": [
      "Você acabou de digitar o número 2\n",
      "<class 'int'>\n"
     ]
    }
   ],
   "source": [
    "\n",
    "def leiaInt(msn):\n",
    "\n",
    "    while True: \n",
    "        valor = input(msn) \n",
    "        if valor.isdigit():\n",
    "            return int(valor)\n",
    "        else:\n",
    "            print('\\033[91mERRO! Digite um número inteiro válido.\\033[0m')\n",
    "            \n",
    "        \n",
    "n = leiaInt('Digite um número: ')\n",
    "print(f'Você acabou de digitar o número {n}')\n",
    "\n",
    "print(type(n))"
   ]
  }
 ],
 "metadata": {
  "kernelspec": {
   "display_name": "Python 3",
   "language": "python",
   "name": "python3"
  },
  "language_info": {
   "codemirror_mode": {
    "name": "ipython",
    "version": 3
   },
   "file_extension": ".py",
   "mimetype": "text/x-python",
   "name": "python",
   "nbconvert_exporter": "python",
   "pygments_lexer": "ipython3",
   "version": "3.12.0"
  }
 },
 "nbformat": 4,
 "nbformat_minor": 2
}
