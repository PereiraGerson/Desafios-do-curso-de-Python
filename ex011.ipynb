{
 "cells": [
  {
   "cell_type": "code",
   "execution_count": 1,
   "metadata": {},
   "outputs": [],
   "source": [
    "# Desafio 011 - Faça um programa que leia a largura e a altura de uma parede em metros, calcule sua area e a quantidade de tinta necessaria para pinta-la, sabend oque cada litro de tinta pinta uma area de 2m2"
   ]
  },
  {
   "cell_type": "code",
   "execution_count": 2,
   "metadata": {},
   "outputs": [
    {
     "name": "stdout",
     "output_type": "stream",
     "text": [
      "Sua parede tem 200.0 metros quadrados, você vai precisar de 100.0 litros de tinta.\n"
     ]
    }
   ],
   "source": [
    "largura = float(input('Qual é a largura da parede?: '))\n",
    "altura = float(input('Qual é a altura da parede?: '))\n",
    "metros_quadrados = largura * altura\n",
    "qtd_tinta = metros_quadrados / 2\n",
    "print('Sua parede tem {} metros quadrados, você vai precisar de {} litros de tinta.'.format(metros_quadrados, qtd_tinta))"
   ]
  }
 ],
 "metadata": {
  "kernelspec": {
   "display_name": "Python 3",
   "language": "python",
   "name": "python3"
  },
  "language_info": {
   "codemirror_mode": {
    "name": "ipython",
    "version": 3
   },
   "file_extension": ".py",
   "mimetype": "text/x-python",
   "name": "python",
   "nbconvert_exporter": "python",
   "pygments_lexer": "ipython3",
   "version": "3.11.5"
  },
  "orig_nbformat": 4
 },
 "nbformat": 4,
 "nbformat_minor": 2
}
