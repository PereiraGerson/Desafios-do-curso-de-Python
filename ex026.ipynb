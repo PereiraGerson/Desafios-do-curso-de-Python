{
 "cells": [
  {
   "cell_type": "code",
   "execution_count": 1,
   "metadata": {},
   "outputs": [],
   "source": [
    "# Desafio 026 - Faça um programa que leia uma frase pelo teclado e mostre:\n",
    "# 1 - Quantas vezes aparece a letra \"a\".\n",
    "# 2 - Em que posição ela aparece a primeira vez.\n",
    "# 3 - Em que posição ela aparece a ultima vez."
   ]
  },
  {
   "cell_type": "code",
   "execution_count": 26,
   "metadata": {},
   "outputs": [
    {
     "name": "stdout",
     "output_type": "stream",
     "text": [
      "Na frase: \"aloalo\"\n",
      "A letra \"a\" aparece 2 vezes.\n",
      "A letra \"a\" aparece a primeira vez na posição 1\n",
      "A letra \"a\" aparece a última vez na posição 4\n"
     ]
    }
   ],
   "source": [
    "frase = str(input('Digite uma frase: ')).strip()\n",
    "frase = frase.lower()\n",
    "frase = frase.replace('ã', 'a')\n",
    "frase = frase.replace('á', 'a')\n",
    "frase = frase.replace('á', 'a')\n",
    "frase = frase.replace('à', 'a')\n",
    "frase = frase.replace(' ', '')\n",
    "\n",
    "print('Na frase: \"{}\"'.format(frase))\n",
    "print('A letra \"a\" aparece {} vezes.'.format(frase.count('a')))\n",
    "print('A letra \"a\" aparece a primeira vez na posição {}'.format(frase.find('a')+1))\n",
    "print('A letra \"a\" aparece a última vez na posição {}'.format(frase.rfind('a')+1))\n",
    "\n"
   ]
  },
  {
   "cell_type": "code",
   "execution_count": null,
   "metadata": {},
   "outputs": [],
   "source": []
  }
 ],
 "metadata": {
  "kernelspec": {
   "display_name": "Python 3",
   "language": "python",
   "name": "python3"
  },
  "language_info": {
   "codemirror_mode": {
    "name": "ipython",
    "version": 3
   },
   "file_extension": ".py",
   "mimetype": "text/x-python",
   "name": "python",
   "nbconvert_exporter": "python",
   "pygments_lexer": "ipython3",
   "version": "3.12.0"
  }
 },
 "nbformat": 4,
 "nbformat_minor": 2
}
