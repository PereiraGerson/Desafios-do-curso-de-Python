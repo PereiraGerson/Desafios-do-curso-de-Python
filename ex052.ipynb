{
 "cells": [
  {
   "cell_type": "code",
   "execution_count": null,
   "metadata": {},
   "outputs": [],
   "source": [
    "# Desafio 052 - Faça um programa que leia um número inteiro e diga se ele é ou não um número primo."
   ]
  },
  {
   "cell_type": "code",
   "execution_count": 20,
   "metadata": {},
   "outputs": [
    {
     "name": "stdout",
     "output_type": "stream",
     "text": [
      "\u001b[33m 1  \u001b[34m 2  \u001b[33m 3  \u001b[34m 4  \u001b[34m 5  \u001b[34m 6  \u001b[34m 7  \u001b[34m 8  \u001b[33m 9  \n",
      "\n",
      "99 não é PRIMO.\n"
     ]
    }
   ],
   "source": [
    "import math\n",
    "divisor = int(input('Digite um número para saber se ele é primo: '))\n",
    "contagem = 0\n",
    "for x in range(1, int(math.sqrt(divisor + 1))):\n",
    "    if divisor % x == 0:\n",
    "        print('\\033[33m', end=' ')\n",
    "        contagem = contagem + 1\n",
    "    else:\n",
    "        print('\\033[34m', end=' ')\n",
    "    print('{} '.format(x), end=' ')\n",
    "print('\\n')\n",
    "if contagem == 2:\n",
    "    print(f'O número {divisor} é PRIMO.')\n",
    "else:\n",
    "    print(f'{divisor} não é PRIMO.')"
   ]
  }
 ],
 "metadata": {
  "kernelspec": {
   "display_name": "Python 3",
   "language": "python",
   "name": "python3"
  },
  "language_info": {
   "codemirror_mode": {
    "name": "ipython",
    "version": 3
   },
   "file_extension": ".py",
   "mimetype": "text/x-python",
   "name": "python",
   "nbconvert_exporter": "python",
   "pygments_lexer": "ipython3",
   "version": "3.12.0"
  }
 },
 "nbformat": 4,
 "nbformat_minor": 2
}
