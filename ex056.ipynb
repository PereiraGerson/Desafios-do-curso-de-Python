{
 "cells": [
  {
   "cell_type": "code",
   "execution_count": null,
   "metadata": {},
   "outputs": [],
   "source": [
    "# Desafio 056 - Desenvolva um programa que leia o nome, idade e sexo de 4 pessoas. No final do programa mostre:\n",
    "# - A média da idade do grupo.\n",
    "# - Qual é o nome do mais velho.\n",
    "# - E quantas mulheres tem menos de 20 anos."
   ]
  },
  {
   "cell_type": "code",
   "execution_count": 51,
   "metadata": {},
   "outputs": [],
   "source": [
    "nome1 = str(input('Digite o primeiro nome: '))\n",
    "idade1 = int(input('Digite a idade: '))\n",
    "sexo1 = str(input('Digite o sexo: '))\n",
    "\n",
    "nome2 = str(input('Digite o segundo nome: '))\n",
    "idade2 = int(input('Digite a idade: '))  \n",
    "sexo2 = str(input('Digite o sexo: ')) \n",
    "\n",
    "idades = [idade2, idade1]"
   ]
  },
  {
   "cell_type": "code",
   "execution_count": 41,
   "metadata": {},
   "outputs": [
    {
     "name": "stdout",
     "output_type": "stream",
     "text": [
      "A média de idade do grupo é: 42.0\n"
     ]
    }
   ],
   "source": [
    "media_idade = (idade1+idade2) / 2\n",
    "\n",
    "print(f'A média de idade do grupo é: {media_idade}')"
   ]
  },
  {
   "cell_type": "code",
   "execution_count": 43,
   "metadata": {},
   "outputs": [
    {
     "name": "stdout",
     "output_type": "stream",
     "text": [
      "O mais velho do grupo é: Gerson com 44 anos.\n"
     ]
    }
   ],
   "source": [
    "if idade1 > idade2:\n",
    "    print(f'O mais velho do grupo é: {nome1} com {idade1} anos.')\n",
    "else:\n",
    "    print(f'O mais velho do grupo é: {nome2} com {idade2} anos.')"
   ]
  },
  {
   "cell_type": "code",
   "execution_count": 53,
   "metadata": {},
   "outputs": [
    {
     "name": "stdout",
     "output_type": "stream",
     "text": [
      "Você tem menos de 20 anos\n"
     ]
    }
   ],
   "source": [
    "for x in idades:\n",
    "    if x < 20:\n",
    "        print(\"Você tem menos de 20 anos\")"
   ]
  }
 ],
 "metadata": {
  "kernelspec": {
   "display_name": "Python 3",
   "language": "python",
   "name": "python3"
  },
  "language_info": {
   "codemirror_mode": {
    "name": "ipython",
    "version": 3
   },
   "file_extension": ".py",
   "mimetype": "text/x-python",
   "name": "python",
   "nbconvert_exporter": "python",
   "pygments_lexer": "ipython3",
   "version": "3.12.0"
  }
 },
 "nbformat": 4,
 "nbformat_minor": 2
}
