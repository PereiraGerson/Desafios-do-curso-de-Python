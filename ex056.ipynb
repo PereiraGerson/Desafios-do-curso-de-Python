{
 "cells": [
  {
   "cell_type": "code",
   "execution_count": null,
   "metadata": {},
   "outputs": [],
   "source": [
    "# Desafio 056 - Desenvolva um programa que leia o nome, idade e sexo de 4 pessoas. No final do programa mostre:\n",
    "# - A média da idade do grupo.\n",
    "# - Qual é o nome do mais velho.\n",
    "# - E quantas mulheres tem menos de 20 anos."
   ]
  }
 ],
 "metadata": {
  "language_info": {
   "name": "python"
  }
 },
 "nbformat": 4,
 "nbformat_minor": 2
}
