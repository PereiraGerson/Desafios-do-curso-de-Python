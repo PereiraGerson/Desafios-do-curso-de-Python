{
 "cells": [
  {
   "cell_type": "code",
   "execution_count": null,
   "metadata": {},
   "outputs": [],
   "source": [
    "# Desafio 056 - Desenvolva um programa que leia o nome, idade e sexo de 4 pessoas. No final do programa mostre:\n",
    "# - A média da idade do grupo.\n",
    "# - Qual é o nome do mais velho.\n",
    "# - E quantas mulheres tem menos de 20 anos."
   ]
  },
  {
   "cell_type": "code",
   "execution_count": 37,
   "metadata": {},
   "outputs": [],
   "source": [
    "pessoas = []\n",
    "\n",
    "for x in range(1, 5):\n",
    "    nome = str(input('Digite o {}° nome: '.format(x)))\n",
    "    idade = int(input('Digite a idade: '))\n",
    "    sexo = str(input('Digite o sexo: '))\n",
    "    pessoa = {\n",
    "        'nome': nome,\n",
    "        'idade': idade,\n",
    "        'Sexo': sexo\n",
    "    }\n",
    "\n",
    "    pessoas.append(pessoa)"
   ]
  },
  {
   "cell_type": "code",
   "execution_count": 28,
   "metadata": {},
   "outputs": [
    {
     "name": "stdout",
     "output_type": "stream",
     "text": [
      "[{'nome': 'Gerson', 'idade': 44, 'Sexo': 'masculino'}, {'nome': 'Geovania', 'idade': 40, 'Sexo': 'feminino'}]\n",
      "Média de idade: 42.0\n"
     ]
    }
   ],
   "source": [
    "print(pessoas)\n",
    "\n",
    "soma_idades = 0\n",
    "for pessoa in pessoas:\n",
    "    idade = pessoa['idade']\n",
    "    soma_idades += idade\n",
    "\n",
    "media_idade = soma_idades / len(pessoas)\n",
    "\n",
    "print('Média de idade:', media_idade)"
   ]
  },
  {
   "cell_type": "code",
   "execution_count": 38,
   "metadata": {},
   "outputs": [
    {
     "name": "stdout",
     "output_type": "stream",
     "text": [
      "A pessoa mais velha é Gerson com 44 anos de idade.\n"
     ]
    }
   ],
   "source": [
    "\n",
    "idade_maxima = 0\n",
    "pessoa_mais_velha = None\n",
    "\n",
    "for pessoa in pessoas:\n",
    "    idade = pessoa['idade']\n",
    "    if idade > idade_maxima:\n",
    "        idade_maxima = idade\n",
    "        pessoa_mais_velha = pessoa\n",
    "\n",
    "# Verifica se há uma pessoa mais velha na lista\n",
    "if pessoa_mais_velha is not None:\n",
    "    print(f'A pessoa mais velha é {pessoa_mais_velha[\"nome\"]} com {idade_maxima} anos de idade.')\n",
    "else:\n",
    "    print('A lista de pessoas está vazia.')\n"
   ]
  }
 ],
 "metadata": {
  "kernelspec": {
   "display_name": "Python 3",
   "language": "python",
   "name": "python3"
  },
  "language_info": {
   "codemirror_mode": {
    "name": "ipython",
    "version": 3
   },
   "file_extension": ".py",
   "mimetype": "text/x-python",
   "name": "python",
   "nbconvert_exporter": "python",
   "pygments_lexer": "ipython3",
   "version": "3.12.0"
  }
 },
 "nbformat": 4,
 "nbformat_minor": 2
}
