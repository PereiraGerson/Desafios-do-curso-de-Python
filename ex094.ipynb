{
 "cells": [
  {
   "cell_type": "code",
   "execution_count": null,
   "metadata": {},
   "outputs": [],
   "source": [
    "# Desafio 94 - Crie um programa que leia nome, sexo e idade de várias pessoas, guardando os dados de cada pessoa em um dicionário e todos os dicionários tem uma lista. No final, mostre:\n",
    "# a) Quantas pessoas foram cadastraadas.\n",
    "# b) A média de idade do grupo.\n",
    "# c) Uma lista com todas as mulheres.\n",
    "# d) Uma lista com todas as pessoas com idade acima da média."
   ]
  }
 ],
 "metadata": {
  "language_info": {
   "name": "python"
  }
 },
 "nbformat": 4,
 "nbformat_minor": 2
}
