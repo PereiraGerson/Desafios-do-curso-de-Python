{
 "cells": [
  {
   "cell_type": "code",
   "execution_count": null,
   "metadata": {},
   "outputs": [],
   "source": [
    "# Desafio 94 - Crie um programa que leia nome, sexo e idade de várias pessoas, guardando os dados de cada pessoa em um dicionário e todos os dicionários tem uma lista. No final, mostre:\n",
    "# a) Quantas pessoas foram cadastradas.\n",
    "# b) A média de idade do grupo.\n",
    "# c) Uma lista com todas as mulheres.\n",
    "# d) Uma lista com todas as pessoas com idade acima da média."
   ]
  },
  {
   "cell_type": "code",
   "execution_count": 65,
   "metadata": {},
   "outputs": [
    {
     "name": "stdout",
     "output_type": "stream",
     "text": [
      "Erro, digite M ou F\n",
      "Erro, digite M ou F\n",
      "Erro, digite M ou F\n",
      "{'Nome': ['gerson', 'geo'], 'Sexo': ['M', 'F'], 'Idade': [44, 40]}\n"
     ]
    }
   ],
   "source": [
    "pessoas = {\n",
    "    'Nome' : None,\n",
    "    'Sexo' : None,\n",
    "    'Idade' : None,\n",
    "}\n",
    "\n",
    "nome = []\n",
    "sexo = []\n",
    "idade = []\n",
    "\n",
    "while True:\n",
    "    nome.append(str(input('Qual é o nome: ')).strip())\n",
    "    while True:\n",
    "        identificação = str(input('Qual é o sexo:[M/F] ')).strip().upper()[0]\n",
    "        if identificação not in 'MF':\n",
    "            print('Erro, digite M ou F')\n",
    "        else:\n",
    "            sexo.append(identificação)\n",
    "            break\n",
    "    idade.append(int(input('Qual é a idade: ')))\n",
    "    \n",
    "    while True:\n",
    "        cont = str(input('Deseja continuar:[S/N]')).strip().upper()[0]\n",
    "        if cont in 'SN':\n",
    "           break\n",
    "        else:\n",
    "            print('Opção invalidade, Digite S ou N')\n",
    "    if cont == 'N':\n",
    "        break\n",
    "\n",
    "pessoas['Nome'] = nome\n",
    "pessoas['Sexo'] = sexo\n",
    "pessoas['Idade'] = idade\n",
    "\n",
    "print(pessoas)\n"
   ]
  },
  {
   "cell_type": "code",
   "execution_count": 56,
   "metadata": {},
   "outputs": [
    {
     "name": "stdout",
     "output_type": "stream",
     "text": [
      "Foram cadastradas 5 pessoas.\n",
      "A média de idade do grupo é 25.6 anos.\n",
      "Foram cadastradas 2 Mulheres no grupo.\n",
      "O nome das mulheres do grupo é Geovania.\n",
      "O nome das mulheres do grupo é Ester.\n",
      "Gerson tem 44 anos de idade\n",
      "Geovania tem 40 anos de idade\n"
     ]
    }
   ],
   "source": [
    "print(f'Foram cadastradas {len(pessoas['Nome'])} pessoas.')\n",
    "media_idade = sum(pessoas['Idade'])/len(pessoas['Nome'])\n",
    "print(f'A média de idade do grupo é {media_idade} anos.')\n",
    "contagem_sexo = 0\n",
    "for x in pessoas['Sexo']:\n",
    "    if x == 'F':\n",
    "        contagem_sexo += 1\n",
    "print(f'Foram cadastradas {contagem_sexo} Mulheres no grupo.')\n",
    "\n",
    "for k,v in enumerate(pessoas['Sexo']):\n",
    "    if v == 'F':\n",
    "        print(f'O nome das mulheres do grupo é {pessoas['Nome'][k]}.')\n",
    "\n",
    "acima_media = []\n",
    "for _ in pessoas['Idade']:\n",
    "    if _ > media_idade:\n",
    "        acima_media.append(_)    \n",
    "\n",
    "for k,v in enumerate(pessoas['Idade']):\n",
    "    for x in acima_media:\n",
    "        if x == v:\n",
    "            print(f'{pessoas['Nome'][k]} tem {v} anos de idade')\n",
    "\n",
    "# a) Quantas pessoas foram cadastradas.\n",
    "# b) A média de idade do grupo.\n",
    "# c) Uma lista com todas as mulheres.\n",
    "# d) Uma lista com todas as pessoas com idade acima da média."
   ]
  }
 ],
 "metadata": {
  "kernelspec": {
   "display_name": "Python 3",
   "language": "python",
   "name": "python3"
  },
  "language_info": {
   "codemirror_mode": {
    "name": "ipython",
    "version": 3
   },
   "file_extension": ".py",
   "mimetype": "text/x-python",
   "name": "python",
   "nbconvert_exporter": "python",
   "pygments_lexer": "ipython3",
   "version": "3.12.0"
  }
 },
 "nbformat": 4,
 "nbformat_minor": 2
}
